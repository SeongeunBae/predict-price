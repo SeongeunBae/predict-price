{
 "cells": [
  {
   "cell_type": "code",
   "execution_count": 1,
   "metadata": {},
   "outputs": [
    {
     "name": "stderr",
     "output_type": "stream",
     "text": [
      "C:\\ProgramData\\Anaconda3\\lib\\site-packages\\h5py\\__init__.py:34: FutureWarning: Conversion of the second argument of issubdtype from `float` to `np.floating` is deprecated. In future, it will be treated as `np.float64 == np.dtype(float).type`.\n",
      "  from ._conv import register_converters as _register_converters\n",
      "Using TensorFlow backend.\n"
     ]
    }
   ],
   "source": [
    "# 0. 사용할 패키지 불러오기\n",
    "import numpy as np\n",
    "import pandas as pd\n",
    "from keras.models import Sequential\n",
    "from keras.layers import Dense, LSTM, Dropout\n",
    "import matplotlib.pyplot as plt\n",
    "%matplotlib inline\n",
    "from keras.callbacks import EarlyStopping\n",
    "from sklearn.metrics import mean_squared_error\n",
    "\n",
    "from math import sqrt\n",
    "\n",
    "np.random.seed(5)\n",
    "\n",
    "\n",
    "# 1. 데이터셋 생성하기\n",
    "signal_data = pd.read_csv('price33.csv', engine='python', encoding='ms949')\n",
    "data = signal_data.values\n",
    "retail_price = data\n",
    "\n",
    "#std = np.std(df[‘retail_price’].values)\n",
    "\n",
    "#create_ dataset\n",
    "def create_dataset(signal_data, look_back=1):\n",
    "    dataX, dataY = [], []\n",
    "    for i in range(len(signal_data)-look_back):\n",
    "        dataX.append(signal_data[i:(i+look_back), 1:])\n",
    "        dataY.append(signal_data[i + look_back, -1])\n",
    "    return np.array(dataX), np.array(dataY)\n",
    "\n",
    "look_back = 7\n",
    "\n",
    "X, Y = create_dataset(data, look_back)"
   ]
  },
  {
   "cell_type": "code",
   "execution_count": 2,
   "metadata": {},
   "outputs": [
    {
     "data": {
      "text/plain": [
       "array([28250., 28250., 28250., ..., 25822., 25822., 25822.])"
      ]
     },
     "execution_count": 2,
     "metadata": {},
     "output_type": "execute_result"
    }
   ],
   "source": [
    "Y"
   ]
  },
  {
   "cell_type": "code",
   "execution_count": 3,
   "metadata": {},
   "outputs": [
    {
     "data": {
      "text/html": [
       "<div>\n",
       "<style>\n",
       "    .dataframe thead tr:only-child th {\n",
       "        text-align: right;\n",
       "    }\n",
       "\n",
       "    .dataframe thead th {\n",
       "        text-align: left;\n",
       "    }\n",
       "\n",
       "    .dataframe tbody tr th {\n",
       "        vertical-align: top;\n",
       "    }\n",
       "</style>\n",
       "<table border=\"1\" class=\"dataframe\">\n",
       "  <thead>\n",
       "    <tr style=\"text-align: right;\">\n",
       "      <th></th>\n",
       "      <th>count</th>\n",
       "      <th>mean</th>\n",
       "      <th>std</th>\n",
       "      <th>min</th>\n",
       "      <th>25%</th>\n",
       "      <th>50%</th>\n",
       "      <th>75%</th>\n",
       "      <th>max</th>\n",
       "    </tr>\n",
       "  </thead>\n",
       "  <tbody>\n",
       "    <tr>\n",
       "      <th>mean(°C)</th>\n",
       "      <td>1423.0</td>\n",
       "      <td>13.620379</td>\n",
       "      <td>10.893937</td>\n",
       "      <td>-14.8</td>\n",
       "      <td>4.5</td>\n",
       "      <td>15.0</td>\n",
       "      <td>23.0</td>\n",
       "      <td>33.7</td>\n",
       "    </tr>\n",
       "    <tr>\n",
       "      <th>prep(mm)</th>\n",
       "      <td>1423.0</td>\n",
       "      <td>3.073717</td>\n",
       "      <td>11.866609</td>\n",
       "      <td>0.0</td>\n",
       "      <td>0.0</td>\n",
       "      <td>0.0</td>\n",
       "      <td>0.2</td>\n",
       "      <td>144.5</td>\n",
       "    </tr>\n",
       "    <tr>\n",
       "      <th>humidity(%)</th>\n",
       "      <td>1423.0</td>\n",
       "      <td>57.801546</td>\n",
       "      <td>14.823950</td>\n",
       "      <td>21.8</td>\n",
       "      <td>46.8</td>\n",
       "      <td>57.8</td>\n",
       "      <td>67.7</td>\n",
       "      <td>97.0</td>\n",
       "    </tr>\n",
       "    <tr>\n",
       "      <th>input</th>\n",
       "      <td>1423.0</td>\n",
       "      <td>57392.404076</td>\n",
       "      <td>117837.321028</td>\n",
       "      <td>0.0</td>\n",
       "      <td>1155.0</td>\n",
       "      <td>22470.0</td>\n",
       "      <td>56922.5</td>\n",
       "      <td>1082233.0</td>\n",
       "    </tr>\n",
       "    <tr>\n",
       "      <th>whole_price</th>\n",
       "      <td>1423.0</td>\n",
       "      <td>48076.600843</td>\n",
       "      <td>9486.930097</td>\n",
       "      <td>30000.0</td>\n",
       "      <td>40000.0</td>\n",
       "      <td>47000.0</td>\n",
       "      <td>55000.0</td>\n",
       "      <td>80000.0</td>\n",
       "    </tr>\n",
       "    <tr>\n",
       "      <th>retail_price</th>\n",
       "      <td>1423.0</td>\n",
       "      <td>32470.880534</td>\n",
       "      <td>4629.934271</td>\n",
       "      <td>24404.0</td>\n",
       "      <td>28667.0</td>\n",
       "      <td>31851.0</td>\n",
       "      <td>34739.0</td>\n",
       "      <td>45408.0</td>\n",
       "    </tr>\n",
       "  </tbody>\n",
       "</table>\n",
       "</div>"
      ],
      "text/plain": [
       "               count          mean            std      min      25%      50%  \\\n",
       "mean(°C)      1423.0     13.620379      10.893937    -14.8      4.5     15.0   \n",
       "prep(mm)      1423.0      3.073717      11.866609      0.0      0.0      0.0   \n",
       "humidity(%)   1423.0     57.801546      14.823950     21.8     46.8     57.8   \n",
       "input         1423.0  57392.404076  117837.321028      0.0   1155.0  22470.0   \n",
       "whole_price   1423.0  48076.600843    9486.930097  30000.0  40000.0  47000.0   \n",
       "retail_price  1423.0  32470.880534    4629.934271  24404.0  28667.0  31851.0   \n",
       "\n",
       "                  75%        max  \n",
       "mean(°C)         23.0       33.7  \n",
       "prep(mm)          0.2      144.5  \n",
       "humidity(%)      67.7       97.0  \n",
       "input         56922.5  1082233.0  \n",
       "whole_price   55000.0    80000.0  \n",
       "retail_price  34739.0    45408.0  "
      ]
     },
     "execution_count": 3,
     "metadata": {},
     "output_type": "execute_result"
    }
   ],
   "source": [
    "train_stats = signal_data.describe()\n",
    "train_stats.pop(\"date\")\n",
    "train_stats = train_stats.transpose()\n",
    "\n",
    "train_stats\n"
   ]
  },
  {
   "cell_type": "code",
   "execution_count": 4,
   "metadata": {},
   "outputs": [
    {
     "name": "stdout",
     "output_type": "stream",
     "text": [
      "[28250. 28250. 28250. ... 25822. 25822. 25822.]\n"
     ]
    }
   ],
   "source": [
    "rtp = retail_price[:,-1]\n",
    "print(rtp)"
   ]
  },
  {
   "cell_type": "code",
   "execution_count": 5,
   "metadata": {},
   "outputs": [
    {
     "name": "stdout",
     "output_type": "stream",
     "text": [
      "4628.307163083211\n"
     ]
    }
   ],
   "source": [
    "std = np.std(rtp)\n",
    "print(std)"
   ]
  },
  {
   "cell_type": "markdown",
   "metadata": {},
   "source": [
    "### create dataset을 수행한 뒤 데이터 분할"
   ]
  },
  {
   "cell_type": "code",
   "execution_count": 6,
   "metadata": {},
   "outputs": [
    {
     "data": {
      "text/plain": [
       "(1423, 7)"
      ]
     },
     "execution_count": 6,
     "metadata": {},
     "output_type": "execute_result"
    }
   ],
   "source": [
    "signal_data.shape"
   ]
  },
  {
   "cell_type": "code",
   "execution_count": 7,
   "metadata": {
    "collapsed": true
   },
   "outputs": [],
   "source": [
    "# 데이터셋 생성\n",
    "x_train = X[0:850,]\n",
    "y_train = Y[0:850,] \n",
    "\n",
    "x_val = X[850:1100]\n",
    "y_val = Y[850:1100]\n",
    "\n",
    "x_test = X[1100:,]\n",
    "y_test = Y[1100:,]\n",
    "y_test_var = y_test\n"
   ]
  },
  {
   "cell_type": "code",
   "execution_count": 8,
   "metadata": {},
   "outputs": [
    {
     "name": "stdout",
     "output_type": "stream",
     "text": [
      "WARNING:tensorflow:From C:\\ProgramData\\Anaconda3\\lib\\site-packages\\keras\\backend\\tensorflow_backend.py:74: The name tf.get_default_graph is deprecated. Please use tf.compat.v1.get_default_graph instead.\n",
      "\n",
      "WARNING:tensorflow:From C:\\ProgramData\\Anaconda3\\lib\\site-packages\\keras\\backend\\tensorflow_backend.py:517: The name tf.placeholder is deprecated. Please use tf.compat.v1.placeholder instead.\n",
      "\n",
      "WARNING:tensorflow:From C:\\ProgramData\\Anaconda3\\lib\\site-packages\\keras\\backend\\tensorflow_backend.py:4138: The name tf.random_uniform is deprecated. Please use tf.random.uniform instead.\n",
      "\n",
      "WARNING:tensorflow:From C:\\ProgramData\\Anaconda3\\lib\\site-packages\\keras\\optimizers.py:790: The name tf.train.Optimizer is deprecated. Please use tf.compat.v1.train.Optimizer instead.\n",
      "\n"
     ]
    }
   ],
   "source": [
    "# 2. 모델 구성하기\n",
    "model = Sequential()\n",
    "model.add(LSTM(32, input_shape=(7, 6), activation='relu', return_sequences=True))\n",
    "model.add(LSTM(32, activation='relu', return_sequences=True))\n",
    "model.add(LSTM(32, activation='relu', return_sequences=False))\n",
    "#model.add(Dropout(0.3))\n",
    "model.add(Dense(1))\n",
    "\n",
    "#3. 모델 아키텍쳐 살펴보기\n",
    "# model.summary()\n",
    "\n",
    "# 4. 모델 학습과정 설정하기\n",
    "model.compile(loss='mse', optimizer='adam', metrics=['mae'])\n",
    "#model.compile(loss='mse', optimizer='adam', metrics=['mse'])"
   ]
  },
  {
   "cell_type": "code",
   "execution_count": 9,
   "metadata": {
    "collapsed": true
   },
   "outputs": [],
   "source": [
    "#5.모델 학습시키기\n",
    "#5.1. Early Stopping\n",
    "callbacks_list = [\n",
    "    EarlyStopping(\n",
    "    monitor='val_loss',\n",
    "    patience=20 ,\n",
    "    ),\n",
    "#     ModelCheckpoint(\n",
    "#     filepath='multi_model.h5',\n",
    "#     monitor='val_loss',\n",
    "#     save_best_only = True,\n",
    "#     )\n",
    "]\n"
   ]
  },
  {
   "cell_type": "code",
   "execution_count": 10,
   "metadata": {
    "scrolled": true
   },
   "outputs": [
    {
     "name": "stdout",
     "output_type": "stream",
     "text": [
      "WARNING:tensorflow:From C:\\ProgramData\\Anaconda3\\lib\\site-packages\\tensorflow_core\\python\\ops\\math_grad.py:1424: where (from tensorflow.python.ops.array_ops) is deprecated and will be removed in a future version.\n",
      "Instructions for updating:\n",
      "Use tf.where in 2.0, which has the same broadcast rule as np.where\n",
      "WARNING:tensorflow:From C:\\ProgramData\\Anaconda3\\lib\\site-packages\\keras\\backend\\tensorflow_backend.py:986: The name tf.assign_add is deprecated. Please use tf.compat.v1.assign_add instead.\n",
      "\n",
      "WARNING:tensorflow:From C:\\ProgramData\\Anaconda3\\lib\\site-packages\\keras\\backend\\tensorflow_backend.py:973: The name tf.assign is deprecated. Please use tf.compat.v1.assign instead.\n",
      "\n",
      "WARNING:tensorflow:From C:\\ProgramData\\Anaconda3\\lib\\site-packages\\keras\\backend\\tensorflow_backend.py:2741: The name tf.Session is deprecated. Please use tf.compat.v1.Session instead.\n",
      "\n",
      "Train on 850 samples, validate on 250 samples\n",
      "Epoch 1/300\n",
      "WARNING:tensorflow:From C:\\ProgramData\\Anaconda3\\lib\\site-packages\\keras\\backend\\tensorflow_backend.py:174: The name tf.get_default_session is deprecated. Please use tf.compat.v1.get_default_session instead.\n",
      "\n",
      "WARNING:tensorflow:From C:\\ProgramData\\Anaconda3\\lib\\site-packages\\keras\\backend\\tensorflow_backend.py:181: The name tf.ConfigProto is deprecated. Please use tf.compat.v1.ConfigProto instead.\n",
      "\n",
      "WARNING:tensorflow:From C:\\ProgramData\\Anaconda3\\lib\\site-packages\\keras\\backend\\tensorflow_backend.py:190: The name tf.global_variables is deprecated. Please use tf.compat.v1.global_variables instead.\n",
      "\n",
      "WARNING:tensorflow:From C:\\ProgramData\\Anaconda3\\lib\\site-packages\\keras\\backend\\tensorflow_backend.py:199: The name tf.is_variable_initialized is deprecated. Please use tf.compat.v1.is_variable_initialized instead.\n",
      "\n",
      "WARNING:tensorflow:From C:\\ProgramData\\Anaconda3\\lib\\site-packages\\keras\\backend\\tensorflow_backend.py:206: The name tf.variables_initializer is deprecated. Please use tf.compat.v1.variables_initializer instead.\n",
      "\n",
      "850/850 [==============================] - 4s 5ms/step - loss: 1019461525.6659 - mean_absolute_error: 29956.5362 - val_loss: 650411402.7520 - val_mean_absolute_error: 24643.4769\n",
      "Epoch 2/300\n",
      "850/850 [==============================] - 1s 1ms/step - loss: 586341324.4235 - mean_absolute_error: 20381.7824 - val_loss: 235126651.3920 - val_mean_absolute_error: 13423.7303\n",
      "Epoch 3/300\n",
      "850/850 [==============================] - 1s 1ms/step - loss: 194094591.9059 - mean_absolute_error: 11220.1321 - val_loss: 164224858.8800 - val_mean_absolute_error: 10515.4156\n",
      "Epoch 4/300\n",
      "850/850 [==============================] - 1s 1ms/step - loss: 199206596.1412 - mean_absolute_error: 10977.7616 - val_loss: 139454577.4720 - val_mean_absolute_error: 9332.9876\n",
      "Epoch 5/300\n",
      "850/850 [==============================] - 1s 1ms/step - loss: 147168757.4588 - mean_absolute_error: 9721.0477 - val_loss: 115338203.3920 - val_mean_absolute_error: 8712.1071\n",
      "Epoch 6/300\n",
      "850/850 [==============================] - 1s 1ms/step - loss: 180451866.0753 - mean_absolute_error: 10086.7878 - val_loss: 113500312.7360 - val_mean_absolute_error: 7202.4665\n",
      "Epoch 7/300\n",
      "850/850 [==============================] - 1s 1ms/step - loss: 139080136.6782 - mean_absolute_error: 8078.4969 - val_loss: 73598606.4000 - val_mean_absolute_error: 6385.8240\n",
      "Epoch 8/300\n",
      "850/850 [==============================] - 1s 1ms/step - loss: 99006046.8706 - mean_absolute_error: 7559.8067 - val_loss: 86404064.4480 - val_mean_absolute_error: 7094.6176\n",
      "Epoch 9/300\n",
      "850/850 [==============================] - 1s 2ms/step - loss: 92059163.0306 - mean_absolute_error: 7416.8340 - val_loss: 94494111.2960 - val_mean_absolute_error: 7663.4763\n",
      "Epoch 10/300\n",
      "850/850 [==============================] - 1s 1ms/step - loss: 110465194.3906 - mean_absolute_error: 8319.4450 - val_loss: 79252527.7440 - val_mean_absolute_error: 6790.8369\n",
      "Epoch 11/300\n",
      "850/850 [==============================] - 1s 1ms/step - loss: 107808159.2847 - mean_absolute_error: 8291.9296 - val_loss: 75967005.8880 - val_mean_absolute_error: 7091.9111\n",
      "Epoch 12/300\n",
      "850/850 [==============================] - 1s 1ms/step - loss: 96412999.7341 - mean_absolute_error: 7613.6958 - val_loss: 74744460.7360 - val_mean_absolute_error: 7406.2408\n",
      "Epoch 13/300\n",
      "850/850 [==============================] - 1s 1ms/step - loss: 83248872.8188 - mean_absolute_error: 6792.3644 - val_loss: 53331073.1680 - val_mean_absolute_error: 5292.2137\n",
      "Epoch 14/300\n",
      "850/850 [==============================] - 1s 1ms/step - loss: 86569678.4188 - mean_absolute_error: 6972.3430 - val_loss: 104048535.2960 - val_mean_absolute_error: 8816.6686\n",
      "Epoch 15/300\n",
      "850/850 [==============================] - 1s 1ms/step - loss: 89113790.3341 - mean_absolute_error: 7447.6601 - val_loss: 61597027.7760 - val_mean_absolute_error: 5663.1566\n",
      "Epoch 16/300\n",
      "850/850 [==============================] - 1s 1ms/step - loss: 93838543.9153 - mean_absolute_error: 6819.3852 - val_loss: 82934046.2720 - val_mean_absolute_error: 6908.5745\n",
      "Epoch 17/300\n",
      "850/850 [==============================] - 1s 1ms/step - loss: 100930376.3906 - mean_absolute_error: 7749.2153 - val_loss: 79234539.0720 - val_mean_absolute_error: 7188.5805\n",
      "Epoch 18/300\n",
      "850/850 [==============================] - 1s 1ms/step - loss: 113799657.7976 - mean_absolute_error: 8827.7837 - val_loss: 85981301.8240 - val_mean_absolute_error: 7877.8975\n",
      "Epoch 19/300\n",
      "850/850 [==============================] - 1s 1ms/step - loss: 131373383.3035 - mean_absolute_error: 8851.5401 - val_loss: 94419218.9440 - val_mean_absolute_error: 7681.7655\n",
      "Epoch 20/300\n",
      "850/850 [==============================] - 1s 1ms/step - loss: 82785991.9153 - mean_absolute_error: 6809.0344 - val_loss: 48769908.1600 - val_mean_absolute_error: 5694.5896\n",
      "Epoch 21/300\n",
      "850/850 [==============================] - 1s 1ms/step - loss: 61142377.0565 - mean_absolute_error: 5873.2859 - val_loss: 42938401.3760 - val_mean_absolute_error: 5193.9365\n",
      "Epoch 22/300\n",
      "850/850 [==============================] - 1s 1ms/step - loss: 52441306.9388 - mean_absolute_error: 5034.3703 - val_loss: 35834131.6160 - val_mean_absolute_error: 4546.5973\n",
      "Epoch 23/300\n",
      "850/850 [==============================] - 1s 1ms/step - loss: 41298857.3365 - mean_absolute_error: 4509.8265 - val_loss: 24553200.5520 - val_mean_absolute_error: 3616.2560\n",
      "Epoch 24/300\n",
      "850/850 [==============================] - 1s 1ms/step - loss: 38222425.2035 - mean_absolute_error: 4443.4979 - val_loss: 31154991.0400 - val_mean_absolute_error: 4088.8167\n",
      "Epoch 25/300\n",
      "850/850 [==============================] - 1s 1ms/step - loss: 31059556.1079 - mean_absolute_error: 4041.7202 - val_loss: 26521771.5520 - val_mean_absolute_error: 3463.7273\n",
      "Epoch 26/300\n",
      "850/850 [==============================] - 1s 1ms/step - loss: 28144082.7565 - mean_absolute_error: 3764.5827 - val_loss: 25595114.0880 - val_mean_absolute_error: 3634.8904\n",
      "Epoch 27/300\n",
      "850/850 [==============================] - 1s 1ms/step - loss: 26009812.0847 - mean_absolute_error: 3563.4067 - val_loss: 26614263.9440 - val_mean_absolute_error: 3227.3725\n",
      "Epoch 28/300\n",
      "850/850 [==============================] - 1s 1ms/step - loss: 76298418.5412 - mean_absolute_error: 6710.9968 - val_loss: 50356419.9040 - val_mean_absolute_error: 5126.5791\n",
      "Epoch 29/300\n",
      "850/850 [==============================] - 1s 1ms/step - loss: 63625666.6541 - mean_absolute_error: 5916.5781 - val_loss: 46175586.6240 - val_mean_absolute_error: 5371.6793\n",
      "Epoch 30/300\n",
      "850/850 [==============================] - 1s 1ms/step - loss: 56720637.4400 - mean_absolute_error: 5748.2738 - val_loss: 30568108.9280 - val_mean_absolute_error: 4395.1334\n",
      "Epoch 31/300\n",
      "850/850 [==============================] - 1s 1ms/step - loss: 33633955.9529 - mean_absolute_error: 4353.9722 - val_loss: 17570394.1840 - val_mean_absolute_error: 3040.7085\n",
      "Epoch 32/300\n",
      "850/850 [==============================] - 1s 1ms/step - loss: 23970553.8682 - mean_absolute_error: 3367.2350 - val_loss: 18856054.8000 - val_mean_absolute_error: 3043.4988\n",
      "Epoch 33/300\n",
      "850/850 [==============================] - 1s 1ms/step - loss: 30815220.6182 - mean_absolute_error: 3947.8041 - val_loss: 13709597.5120 - val_mean_absolute_error: 2899.6793\n",
      "Epoch 34/300\n",
      "850/850 [==============================] - 1s 1ms/step - loss: 30923276.2941 - mean_absolute_error: 3848.8755 - val_loss: 21055275.1520 - val_mean_absolute_error: 3286.8644\n",
      "Epoch 35/300\n",
      "850/850 [==============================] - 1s 1ms/step - loss: 32177579.5859 - mean_absolute_error: 3938.4251 - val_loss: 17702986.6080 - val_mean_absolute_error: 3316.4800\n",
      "Epoch 36/300\n",
      "850/850 [==============================] - 1s 1ms/step - loss: 35450869.0059 - mean_absolute_error: 4365.6749 - val_loss: 22854700.3840 - val_mean_absolute_error: 3772.8845\n",
      "Epoch 37/300\n",
      "850/850 [==============================] - 1s 1ms/step - loss: 36756597.8965 - mean_absolute_error: 4176.1100 - val_loss: 20689999.8560 - val_mean_absolute_error: 3567.0434\n",
      "Epoch 38/300\n",
      "850/850 [==============================] - 1s 1ms/step - loss: 43539729.9765 - mean_absolute_error: 4613.2491 - val_loss: 26154619.8080 - val_mean_absolute_error: 3786.4700\n",
      "Epoch 39/300\n",
      "850/850 [==============================] - 1s 1ms/step - loss: 67999745.9953 - mean_absolute_error: 6034.7111 - val_loss: 47417684.9920 - val_mean_absolute_error: 5089.0612\n",
      "Epoch 40/300\n",
      "850/850 [==============================] - 1s 1ms/step - loss: 84661957.5153 - mean_absolute_error: 7046.1232 - val_loss: 77771932.4160 - val_mean_absolute_error: 7554.8494\n",
      "Epoch 41/300\n",
      "850/850 [==============================] - 1s 1ms/step - loss: 103184446.6541 - mean_absolute_error: 6245.8691 - val_loss: 34426936.7200 - val_mean_absolute_error: 4020.2741\n",
      "Epoch 42/300\n",
      "850/850 [==============================] - 1s 1ms/step - loss: 74754591.9812 - mean_absolute_error: 6184.1440 - val_loss: 304860670.7200 - val_mean_absolute_error: 15796.4492\n",
      "Epoch 43/300\n",
      "850/850 [==============================] - 1s 1ms/step - loss: 244794504.4329 - mean_absolute_error: 13697.4701 - val_loss: 125874428.6080 - val_mean_absolute_error: 9046.5664\n",
      "Epoch 44/300\n",
      "850/850 [==============================] - 1s 1ms/step - loss: 112966620.3846 - mean_absolute_error: 8198.4767 - val_loss: 35249381.2160 - val_mean_absolute_error: 4616.4658\n",
      "Epoch 45/300\n",
      "850/850 [==============================] - 1s 1ms/step - loss: 70284043.8224 - mean_absolute_error: 6488.2055 - val_loss: 45862980.9120 - val_mean_absolute_error: 5441.4500\n",
      "Epoch 46/300\n",
      "850/850 [==============================] - 1s 1ms/step - loss: 79714333.4353 - mean_absolute_error: 6645.1911 - val_loss: 40372593.6000 - val_mean_absolute_error: 4815.0375\n",
      "Epoch 47/300\n",
      "850/850 [==============================] - 1s 1ms/step - loss: 58259766.0047 - mean_absolute_error: 5457.1987 - val_loss: 51862744.0000 - val_mean_absolute_error: 5924.2524\n",
      "Epoch 48/300\n",
      "850/850 [==============================] - 1s 1ms/step - loss: 62491743.6824 - mean_absolute_error: 5903.8782 - val_loss: 45149416.5120 - val_mean_absolute_error: 5312.7968\n",
      "Epoch 49/300\n",
      "850/850 [==============================] - 1s 1ms/step - loss: 50510334.7388 - mean_absolute_error: 5624.3166 - val_loss: 12364527.8720 - val_mean_absolute_error: 2641.5866\n",
      "Epoch 50/300\n",
      "850/850 [==============================] - 1s 1ms/step - loss: 31849493.7129 - mean_absolute_error: 3805.0259 - val_loss: 61435885.7280 - val_mean_absolute_error: 6741.1189\n",
      "Epoch 51/300\n",
      "850/850 [==============================] - 1s 1ms/step - loss: 37700018.5900 - mean_absolute_error: 4673.1694 - val_loss: 33161381.1280 - val_mean_absolute_error: 4610.0706\n",
      "Epoch 52/300\n",
      "850/850 [==============================] - 1s 1ms/step - loss: 46668643.0588 - mean_absolute_error: 4899.7431 - val_loss: 29251947.9520 - val_mean_absolute_error: 4266.5924\n",
      "Epoch 53/300\n",
      "850/850 [==============================] - 1s 1ms/step - loss: 29274434.9835 - mean_absolute_error: 4118.8837 - val_loss: 27449214.9120 - val_mean_absolute_error: 4141.0431\n",
      "Epoch 54/300\n",
      "850/850 [==============================] - 1s 1ms/step - loss: 29047062.0988 - mean_absolute_error: 4141.2660 - val_loss: 9740420.0880 - val_mean_absolute_error: 2318.8576\n",
      "Epoch 55/300\n",
      "850/850 [==============================] - 1s 1ms/step - loss: 18496609.8212 - mean_absolute_error: 3113.3439 - val_loss: 10098311.0320 - val_mean_absolute_error: 2243.5178\n",
      "Epoch 56/300\n",
      "850/850 [==============================] - 1s 1ms/step - loss: 16054973.7200 - mean_absolute_error: 2814.8464 - val_loss: 9583403.0640 - val_mean_absolute_error: 2183.5753\n",
      "Epoch 57/300\n",
      "850/850 [==============================] - 1s 1ms/step - loss: 14163535.7365 - mean_absolute_error: 2657.8787 - val_loss: 9138772.5320 - val_mean_absolute_error: 2092.5649\n",
      "Epoch 58/300\n",
      "850/850 [==============================] - 1s 1ms/step - loss: 12447865.3071 - mean_absolute_error: 2526.8869 - val_loss: 7423640.4160 - val_mean_absolute_error: 1998.9843\n",
      "Epoch 59/300\n",
      "850/850 [==============================] - 1s 1ms/step - loss: 10884567.3153 - mean_absolute_error: 2434.1434 - val_loss: 8715507.5120 - val_mean_absolute_error: 2221.1377\n",
      "Epoch 60/300\n",
      "850/850 [==============================] - 1s 1ms/step - loss: 10828241.3006 - mean_absolute_error: 2416.3543 - val_loss: 7125707.0840 - val_mean_absolute_error: 1952.3402\n",
      "Epoch 61/300\n",
      "850/850 [==============================] - 1s 1ms/step - loss: 11547113.2718 - mean_absolute_error: 2311.8705 - val_loss: 7726998.3960 - val_mean_absolute_error: 2042.9658\n",
      "Epoch 62/300\n",
      "850/850 [==============================] - 1s 1ms/step - loss: 10853698.8666 - mean_absolute_error: 2215.0483 - val_loss: 6899847.1760 - val_mean_absolute_error: 1805.4838\n",
      "Epoch 63/300\n",
      "850/850 [==============================] - 1s 1ms/step - loss: 11516505.1609 - mean_absolute_error: 2356.8825 - val_loss: 11137373.0280 - val_mean_absolute_error: 2539.4956\n",
      "Epoch 64/300\n",
      "850/850 [==============================] - 1s 1ms/step - loss: 12150811.9835 - mean_absolute_error: 2430.9164 - val_loss: 8766503.7760 - val_mean_absolute_error: 2186.3148\n",
      "Epoch 65/300\n",
      "850/850 [==============================] - 1s 1ms/step - loss: 10275668.0518 - mean_absolute_error: 2278.3150 - val_loss: 9511954.8640 - val_mean_absolute_error: 2346.2437\n",
      "Epoch 66/300\n",
      "850/850 [==============================] - 1s 1ms/step - loss: 10367006.4000 - mean_absolute_error: 2356.4848 - val_loss: 12229571.4120 - val_mean_absolute_error: 2513.7037\n",
      "Epoch 67/300\n",
      "850/850 [==============================] - 1s 1ms/step - loss: 10685964.6918 - mean_absolute_error: 2418.4637 - val_loss: 11092009.2800 - val_mean_absolute_error: 2496.9874\n",
      "Epoch 68/300\n",
      "850/850 [==============================] - 1s 1ms/step - loss: 9825222.4518 - mean_absolute_error: 2307.8902 - val_loss: 5368845.2840 - val_mean_absolute_error: 1618.7354\n",
      "Epoch 69/300\n",
      "850/850 [==============================] - 1s 1ms/step - loss: 10200015.7147 - mean_absolute_error: 2286.8162 - val_loss: 11688017.3600 - val_mean_absolute_error: 2871.7941\n",
      "Epoch 70/300\n",
      "850/850 [==============================] - 1s 1ms/step - loss: 9666733.2459 - mean_absolute_error: 2336.2689 - val_loss: 7003438.7820 - val_mean_absolute_error: 1972.3865\n",
      "Epoch 71/300\n",
      "850/850 [==============================] - 1s 1ms/step - loss: 10310899.1118 - mean_absolute_error: 2368.1965 - val_loss: 8111426.7520 - val_mean_absolute_error: 2142.3049\n",
      "Epoch 72/300\n",
      "850/850 [==============================] - 1s 1ms/step - loss: 10845925.6918 - mean_absolute_error: 2376.1098 - val_loss: 8357381.6080 - val_mean_absolute_error: 2165.5600\n",
      "Epoch 73/300\n",
      "850/850 [==============================] - 1s 1ms/step - loss: 10380358.7365 - mean_absolute_error: 2311.4708 - val_loss: 8406784.4880 - val_mean_absolute_error: 2093.5566\n",
      "Epoch 74/300\n",
      "850/850 [==============================] - 1s 1ms/step - loss: 10261594.3176 - mean_absolute_error: 2382.2116 - val_loss: 9296536.5200 - val_mean_absolute_error: 2158.1115\n",
      "Epoch 75/300\n",
      "850/850 [==============================] - 1s 1ms/step - loss: 14818070.8141 - mean_absolute_error: 2942.6489 - val_loss: 92653088.1280 - val_mean_absolute_error: 9187.6734\n",
      "Epoch 76/300\n",
      "850/850 [==============================] - 1s 1ms/step - loss: 43341320.5335 - mean_absolute_error: 5407.3421 - val_loss: 27387939.9360 - val_mean_absolute_error: 4227.0418\n",
      "Epoch 77/300\n",
      "850/850 [==============================] - 1s 1ms/step - loss: 32045395.4212 - mean_absolute_error: 3942.2028 - val_loss: 19445652.8360 - val_mean_absolute_error: 3295.1201\n",
      "Epoch 78/300\n"
     ]
    },
    {
     "name": "stdout",
     "output_type": "stream",
     "text": [
      "850/850 [==============================] - 1s 1ms/step - loss: 21896672.6071 - mean_absolute_error: 3496.7687 - val_loss: 15618228.5320 - val_mean_absolute_error: 2958.0031\n",
      "Epoch 79/300\n",
      "850/850 [==============================] - 1s 1ms/step - loss: 15320216.1765 - mean_absolute_error: 2908.0130 - val_loss: 13642643.1800 - val_mean_absolute_error: 2855.5104\n",
      "Epoch 80/300\n",
      "850/850 [==============================] - 1s 1ms/step - loss: 12496980.2485 - mean_absolute_error: 2594.1514 - val_loss: 12613950.2840 - val_mean_absolute_error: 2681.7600\n",
      "Epoch 81/300\n",
      "850/850 [==============================] - 1s 1ms/step - loss: 11172483.7906 - mean_absolute_error: 2495.2791 - val_loss: 10090892.2580 - val_mean_absolute_error: 2331.0405\n",
      "Epoch 82/300\n",
      "850/850 [==============================] - 1s 1ms/step - loss: 10433460.6371 - mean_absolute_error: 2386.5862 - val_loss: 8336587.7080 - val_mean_absolute_error: 2151.5878\n",
      "Epoch 83/300\n",
      "850/850 [==============================] - 1s 1ms/step - loss: 9771361.2329 - mean_absolute_error: 2323.2158 - val_loss: 9772446.0300 - val_mean_absolute_error: 2348.7495\n",
      "Epoch 84/300\n",
      "850/850 [==============================] - 1s 1ms/step - loss: 9467218.2118 - mean_absolute_error: 2266.3836 - val_loss: 9221383.9340 - val_mean_absolute_error: 2258.2300\n",
      "Epoch 85/300\n",
      "850/850 [==============================] - 1s 1ms/step - loss: 9092937.9453 - mean_absolute_error: 2171.6058 - val_loss: 8468022.0840 - val_mean_absolute_error: 2207.0557\n",
      "Epoch 86/300\n",
      "850/850 [==============================] - 1s 1ms/step - loss: 8708204.4053 - mean_absolute_error: 2139.8205 - val_loss: 6596890.2000 - val_mean_absolute_error: 1856.7240\n",
      "Epoch 87/300\n",
      "850/850 [==============================] - 1s 1ms/step - loss: 9053987.3718 - mean_absolute_error: 2183.3699 - val_loss: 7132494.2880 - val_mean_absolute_error: 1958.5119\n",
      "Epoch 88/300\n",
      "850/850 [==============================] - 1s 1ms/step - loss: 10796741.4976 - mean_absolute_error: 2309.9046 - val_loss: 8061078.9560 - val_mean_absolute_error: 2166.3908\n"
     ]
    }
   ],
   "source": [
    "# 5.2 모델 학습시키기\n",
    "hist = model.fit(x_train, y_train, epochs=300, batch_size=16, callbacks=callbacks_list, validation_data=(x_val, y_val))"
   ]
  },
  {
   "cell_type": "code",
   "execution_count": 11,
   "metadata": {},
   "outputs": [
    {
     "name": "stdout",
     "output_type": "stream",
     "text": [
      "316/316 [==============================] - 0s 147us/step\n",
      "mean_absolute_error: 3019.67\n"
     ]
    }
   ],
   "source": [
    "# 6. 모델 평가하기\n",
    "scores = model.evaluate(x_test, y_test)\n",
    "print(\"%s: %.2f\" %(model.metrics_names[1], scores[1]))"
   ]
  },
  {
   "cell_type": "code",
   "execution_count": 14,
   "metadata": {
    "scrolled": true
   },
   "outputs": [
    {
     "data": {
      "image/png": "[encoded data removed]",
      "text/plain": [
       "<matplotlib.figure.Figure at 0x1c642458828>"
      ]
     },
     "metadata": {},
     "output_type": "display_data"
    }
   ],
   "source": [
    "# 6.1 학습과정 살펴보기\n",
    "#epoch, loss 그래프\n",
    "loss = hist.history['loss']\n",
    "val_loss = hist.history['val_loss']\n",
    "\n",
    "\n",
    "epochs = range(1, len(loss)+1)\n",
    "plt.plot(epochs, loss, 'b', label='Training loss')\n",
    "plt.plot(epochs, val_loss, 'g', label='Validation loss')\n",
    "\n",
    "plt.title('Training/Validation loss and accuracy')\n",
    "plt.xlabel('Epochs')\n",
    "plt.ylabel('Loss')\n",
    "plt.legend()\n",
    "plt.show()"
   ]
  },
  {
   "cell_type": "code",
   "execution_count": 15,
   "metadata": {},
   "outputs": [
    {
     "name": "stdout",
     "output_type": "stream",
     "text": [
      "Train Score:  [11344835.855294118, 2367.7062603400736]\n",
      "Validataion Score:  [8061079.124, 2166.390779296875]\n",
      "Test Score:  [16765196.32278481, 3019.6723478293115]\n"
     ]
    }
   ],
   "source": [
    "# 6.2. 모델 평가하기\n",
    "trainScore = model.evaluate(x_train, y_train, verbose=0)\n",
    "model.reset_states()\n",
    "print('Train Score: ', trainScore)\n",
    "valScore = model.evaluate(x_val, y_val, verbose=0)\n",
    "model.reset_states()\n",
    "print('Validataion Score: ', valScore)\n",
    "testScore = model.evaluate(x_test, y_test, verbose=0)\n",
    "model.reset_states()\n",
    "print('Test Score: ', testScore)"
   ]
  },
  {
   "cell_type": "code",
   "execution_count": 16,
   "metadata": {},
   "outputs": [
    {
     "data": {
      "image/png": "[encoded data removed]",
      "text/plain": [
       "<matplotlib.figure.Figure at 0x1c647466be0>"
      ]
     },
     "metadata": {},
     "output_type": "display_data"
    }
   ],
   "source": [
    "def show_diff(y_predict, y_label, y_test, y_test_label, y_value):\n",
    "\n",
    "    fig, predict_ax=plt.subplots()\n",
    "\n",
    "    predict_ax.plot(y_predict, 'y', label=y_label)\n",
    "\n",
    "    predict_ax.plot(y_test, 'r', label=y_test_label)\n",
    "\n",
    "    predict_ax.set_ylabel(y_value)\n",
    "\n",
    "    predict_ax.legend(loc = 'upper left')\n",
    "\n",
    "    plt.show()\n",
    "    \n",
    "#7 예측하기\n",
    "\n",
    "y_predict = model.predict(x_test).flatten()\n",
    "\n",
    "show_diff(y_predict, 'y_predict', y_test, 'y_test', 'price')"
   ]
  },
  {
   "cell_type": "code",
   "execution_count": 17,
   "metadata": {
    "collapsed": true
   },
   "outputs": [],
   "source": [
    "# 데이터 저장\n",
    "df = pd.DataFrame(y_predict)\n",
    "df.insert(1,'y_test',y_test)\n",
    "df.to_csv('predict_priceinput.csv')"
   ]
  },
  {
   "cell_type": "code",
   "execution_count": 18,
   "metadata": {},
   "outputs": [
    {
     "data": {
      "image/png": "[encoded data removed]",
      "text/plain": [
       "<matplotlib.figure.Figure at 0x1c64753ea58>"
      ]
     },
     "metadata": {},
     "output_type": "display_data"
    }
   ],
   "source": [
    "\n",
    "test_predictions = y_test\n",
    "\n",
    "plt.scatter(y_test, y_predict)\n",
    "plt.xlabel('True Values')\n",
    "plt.ylabel('Predictions')\n",
    "plt.axis('equal')\n",
    "plt.axis('square')\n",
    "plt.xlim([10000,plt.xlim()[1]])\n",
    "plt.ylim([10000,plt.ylim()[1]])\n",
    "_ = plt.plot([-100000, 100000], [-100000, 100000])"
   ]
  },
  {
   "cell_type": "code",
   "execution_count": 24,
   "metadata": {},
   "outputs": [
    {
     "data": {
      "image/png": "[encoded data removed]",
      "text/plain": [
       "<matplotlib.figure.Figure at 0x1c647595048>"
      ]
     },
     "metadata": {},
     "output_type": "display_data"
    }
   ],
   "source": [
    "\n",
    "test_predictions = y_test\n",
    "\n",
    "plt.scatter(y_predict, y_test)\n",
    "plt.xlabel('Predictions')\n",
    "plt.ylabel('True Values')\n",
    "plt.axis('equal')\n",
    "plt.axis('square')\n",
    "plt.xlim([10000,plt.xlim()[1]])\n",
    "plt.ylim([10000,plt.ylim()[1]])\n",
    "_ = plt.plot([-100000, 100000], [-100000, 100000])"
   ]
  },
  {
   "cell_type": "code",
   "execution_count": 25,
   "metadata": {},
   "outputs": [
    {
     "data": {
      "image/png": "[encoded data removed]",
      "text/plain": [
       "<matplotlib.figure.Figure at 0x1c6476a9f98>"
      ]
     },
     "metadata": {},
     "output_type": "display_data"
    }
   ],
   "source": [
    "#오차의 분포\n",
    "error = y_predict - y_test\n",
    "plt.hist(error, bins = 35)\n",
    "plt.xlabel(\"Prediction Error\")\n",
    "_ = plt.ylabel(\"Count\")"
   ]
  },
  {
   "cell_type": "code",
   "execution_count": 26,
   "metadata": {},
   "outputs": [
    {
     "name": "stdout",
     "output_type": "stream",
     "text": [
      "RMSE: 4094.53\n"
     ]
    }
   ],
   "source": [
    "rmse = sqrt(mean_squared_error(y_predict,y_test))\n",
    "print(\"RMSE: {:.2f}\".format(rmse))"
   ]
  },
  {
   "cell_type": "code",
   "execution_count": 27,
   "metadata": {},
   "outputs": [
    {
     "name": "stdout",
     "output_type": "stream",
     "text": [
      "STD: 4628.31\n"
     ]
    }
   ],
   "source": [
    "print(\"STD: {:.2f}\".format(std))"
   ]
  },
  {
   "cell_type": "code",
   "execution_count": null,
   "metadata": {
    "collapsed": true
   },
   "outputs": [],
   "source": []
  },
  {
   "cell_type": "code",
   "execution_count": null,
   "metadata": {
    "collapsed": true
   },
   "outputs": [],
   "source": []
  }
 ],
 "metadata": {
  "kernelspec": {
   "display_name": "Python 3",
   "language": "python",
   "name": "python3"
  },
  "language_info": {
   "codemirror_mode": {
    "name": "ipython",
    "version": 3
   },
   "file_extension": ".py",
   "mimetype": "text/x-python",
   "name": "python",
   "nbconvert_exporter": "python",
   "pygments_lexer": "ipython3",
   "version": "3.6.1"
  }
 },
 "nbformat": 4,
 "nbformat_minor": 2
}
