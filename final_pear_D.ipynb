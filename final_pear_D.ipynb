{
 "cells": [
  {
   "cell_type": "code",
   "execution_count": 2,
   "metadata": {
    "collapsed": true
   },
   "outputs": [],
   "source": [
    "# 0. 사용할 패키지 불러오기\n",
    "import numpy as np\n",
    "import pandas as pd\n",
    "from keras.models import Sequential\n",
    "from keras.layers import Dense, LSTM, Dropout\n",
    "import matplotlib.pyplot as plt\n",
    "%matplotlib inline\n",
    "from keras.callbacks import EarlyStopping\n",
    "from sklearn.metrics import mean_squared_error\n",
    "\n",
    "from math import sqrt\n",
    "\n",
    "np.random.seed(5)\n",
    "\n",
    "\n",
    "# 1. 데이터셋 생성하기\n",
    "signal_data = pd.read_csv('price_pear_D.csv', engine='python', encoding='ms949')\n",
    "data = signal_data.values\n",
    "retail_price = data\n",
    "\n",
    "#std = np.std(df[‘retail_price’].values)\n",
    "\n",
    "#create_ dataset\n",
    "def create_dataset(signal_data, look_back=1):\n",
    "    dataX, dataY = [], []\n",
    "    for i in range(len(signal_data)-look_back):\n",
    "        dataX.append(signal_data[i:(i+look_back), 1:])\n",
    "        dataY.append(signal_data[i + look_back, -1])\n",
    "    return np.array(dataX), np.array(dataY)\n",
    "\n",
    "look_back = 7\n",
    "\n",
    "#2. 데이터셋 분할\n",
    "X, Y = create_dataset(data, look_back)"
   ]
  },
  {
   "cell_type": "code",
   "execution_count": 3,
   "metadata": {
    "scrolled": true
   },
   "outputs": [
    {
     "data": {
      "text/plain": [
       "array([31530., 31530., 31530., ..., 23000., 25000., 25000.])"
      ]
     },
     "execution_count": 3,
     "metadata": {},
     "output_type": "execute_result"
    }
   ],
   "source": [
    "Y"
   ]
  },
  {
   "cell_type": "code",
   "execution_count": 4,
   "metadata": {},
   "outputs": [
    {
     "data": {
      "text/html": [
       "<div>\n",
       "<style>\n",
       "    .dataframe thead tr:only-child th {\n",
       "        text-align: right;\n",
       "    }\n",
       "\n",
       "    .dataframe thead th {\n",
       "        text-align: left;\n",
       "    }\n",
       "\n",
       "    .dataframe tbody tr th {\n",
       "        vertical-align: top;\n",
       "    }\n",
       "</style>\n",
       "<table border=\"1\" class=\"dataframe\">\n",
       "  <thead>\n",
       "    <tr style=\"text-align: right;\">\n",
       "      <th></th>\n",
       "      <th>count</th>\n",
       "      <th>mean</th>\n",
       "      <th>std</th>\n",
       "      <th>min</th>\n",
       "      <th>25%</th>\n",
       "      <th>50%</th>\n",
       "      <th>75%</th>\n",
       "      <th>max</th>\n",
       "    </tr>\n",
       "  </thead>\n",
       "  <tbody>\n",
       "    <tr>\n",
       "      <th>mean(°C)</th>\n",
       "      <td>1422.0</td>\n",
       "      <td>13.621449</td>\n",
       "      <td>10.897694</td>\n",
       "      <td>-14.8</td>\n",
       "      <td>4.5</td>\n",
       "      <td>15.05</td>\n",
       "      <td>23.00</td>\n",
       "      <td>33.7</td>\n",
       "    </tr>\n",
       "    <tr>\n",
       "      <th>prep(mm)</th>\n",
       "      <td>1422.0</td>\n",
       "      <td>3.075879</td>\n",
       "      <td>11.870504</td>\n",
       "      <td>0.0</td>\n",
       "      <td>0.0</td>\n",
       "      <td>0.00</td>\n",
       "      <td>0.20</td>\n",
       "      <td>144.5</td>\n",
       "    </tr>\n",
       "    <tr>\n",
       "      <th>humidity(%)</th>\n",
       "      <td>1422.0</td>\n",
       "      <td>57.805626</td>\n",
       "      <td>14.828366</td>\n",
       "      <td>21.8</td>\n",
       "      <td>46.8</td>\n",
       "      <td>57.80</td>\n",
       "      <td>67.75</td>\n",
       "      <td>97.0</td>\n",
       "    </tr>\n",
       "    <tr>\n",
       "      <th>whole_price</th>\n",
       "      <td>1422.0</td>\n",
       "      <td>44195.857947</td>\n",
       "      <td>9414.533573</td>\n",
       "      <td>30000.0</td>\n",
       "      <td>37000.0</td>\n",
       "      <td>40000.00</td>\n",
       "      <td>50000.00</td>\n",
       "      <td>75000.0</td>\n",
       "    </tr>\n",
       "    <tr>\n",
       "      <th>retail_price</th>\n",
       "      <td>1422.0</td>\n",
       "      <td>32142.514768</td>\n",
       "      <td>7373.776092</td>\n",
       "      <td>19980.0</td>\n",
       "      <td>26647.0</td>\n",
       "      <td>30665.00</td>\n",
       "      <td>37330.00</td>\n",
       "      <td>51500.0</td>\n",
       "    </tr>\n",
       "  </tbody>\n",
       "</table>\n",
       "</div>"
      ],
      "text/plain": [
       "               count          mean          std      min      25%       50%  \\\n",
       "mean(°C)      1422.0     13.621449    10.897694    -14.8      4.5     15.05   \n",
       "prep(mm)      1422.0      3.075879    11.870504      0.0      0.0      0.00   \n",
       "humidity(%)   1422.0     57.805626    14.828366     21.8     46.8     57.80   \n",
       "whole_price   1422.0  44195.857947  9414.533573  30000.0  37000.0  40000.00   \n",
       "retail_price  1422.0  32142.514768  7373.776092  19980.0  26647.0  30665.00   \n",
       "\n",
       "                   75%      max  \n",
       "mean(°C)         23.00     33.7  \n",
       "prep(mm)          0.20    144.5  \n",
       "humidity(%)      67.75     97.0  \n",
       "whole_price   50000.00  75000.0  \n",
       "retail_price  37330.00  51500.0  "
      ]
     },
     "execution_count": 4,
     "metadata": {},
     "output_type": "execute_result"
    }
   ],
   "source": [
    "train_stats = signal_data.describe()\n",
    "train_stats.pop(\"date\")\n",
    "train_stats = train_stats.transpose()\n",
    "\n",
    "train_stats"
   ]
  },
  {
   "cell_type": "code",
   "execution_count": 5,
   "metadata": {},
   "outputs": [
    {
     "name": "stdout",
     "output_type": "stream",
     "text": [
      "[30665. 31530. 31530. ... 23000. 25000. 25000.]\n"
     ]
    }
   ],
   "source": [
    "rtp = retail_price[:,-1]\n",
    "print(rtp)"
   ]
  },
  {
   "cell_type": "code",
   "execution_count": 6,
   "metadata": {},
   "outputs": [
    {
     "name": "stdout",
     "output_type": "stream",
     "text": [
      "7371.18288818149\n"
     ]
    }
   ],
   "source": [
    "std = np.std(rtp)\n",
    "print(std)"
   ]
  },
  {
   "cell_type": "markdown",
   "metadata": {},
   "source": [
    "### create dataset을 수행한 뒤 데이터 분할"
   ]
  },
  {
   "cell_type": "code",
   "execution_count": 7,
   "metadata": {},
   "outputs": [
    {
     "data": {
      "text/plain": [
       "(1422, 6)"
      ]
     },
     "execution_count": 7,
     "metadata": {},
     "output_type": "execute_result"
    }
   ],
   "source": [
    "signal_data.shape"
   ]
  },
  {
   "cell_type": "code",
   "execution_count": 8,
   "metadata": {
    "collapsed": true
   },
   "outputs": [],
   "source": [
    "# 데이터셋 생성\n",
    "x_train = X[0:850,]\n",
    "y_train = Y[0:850,] \n",
    "\n",
    "x_val = X[850:1100]\n",
    "y_val = Y[850:1100]\n",
    "\n",
    "x_test = X[1100:,]\n",
    "y_test = Y[1100:,]\n",
    "y_test_var = y_test\n"
   ]
  },
  {
   "cell_type": "code",
   "execution_count": 9,
   "metadata": {
    "scrolled": true
   },
   "outputs": [
    {
     "name": "stdout",
     "output_type": "stream",
     "text": [
      "WARNING:tensorflow:From C:\\ProgramData\\Anaconda3\\lib\\site-packages\\keras\\backend\\tensorflow_backend.py:74: The name tf.get_default_graph is deprecated. Please use tf.compat.v1.get_default_graph instead.\n",
      "\n",
      "WARNING:tensorflow:From C:\\ProgramData\\Anaconda3\\lib\\site-packages\\keras\\backend\\tensorflow_backend.py:517: The name tf.placeholder is deprecated. Please use tf.compat.v1.placeholder instead.\n",
      "\n",
      "WARNING:tensorflow:From C:\\ProgramData\\Anaconda3\\lib\\site-packages\\keras\\backend\\tensorflow_backend.py:4138: The name tf.random_uniform is deprecated. Please use tf.random.uniform instead.\n",
      "\n",
      "WARNING:tensorflow:From C:\\ProgramData\\Anaconda3\\lib\\site-packages\\keras\\optimizers.py:790: The name tf.train.Optimizer is deprecated. Please use tf.compat.v1.train.Optimizer instead.\n",
      "\n"
     ]
    }
   ],
   "source": [
    "# 2. 모델 구성하기\n",
    "model = Sequential()\n",
    "model.add(LSTM(32, input_shape=(7, 5), activation='relu', return_sequences=True))\n",
    "model.add(LSTM(32, activation='relu', return_sequences=True))\n",
    "model.add(LSTM(32, activation='relu', return_sequences=False))\n",
    "#model.add(Dropout(0.3))\n",
    "model.add(Dense(1))\n",
    "\n",
    "#3. 모델 아키텍쳐 살펴보기\n",
    "# model.summary()\n",
    "\n",
    "# 4. 모델 학습과정 설정하기\n",
    "model.compile(loss='mse', optimizer='adam', metrics=['mae'])\n",
    "#model.compile(loss='mse', optimizer='adam', metrics=['mse'])"
   ]
  },
  {
   "cell_type": "code",
   "execution_count": 10,
   "metadata": {
    "collapsed": true
   },
   "outputs": [],
   "source": [
    "#5.모델 학습시키기\n",
    "#5.1. Early Stopping\n",
    "callbacks_list = [\n",
    "    EarlyStopping(\n",
    "    monitor='val_loss',\n",
    "    patience=20 ,\n",
    "    ),\n",
    "#     ModelCheckpoint(\n",
    "#     filepath='multi_model.h5',\n",
    "#     monitor='val_loss',\n",
    "#     save_best_only = True,\n",
    "#     )\n",
    "]\n"
   ]
  },
  {
   "cell_type": "code",
   "execution_count": 11,
   "metadata": {
    "scrolled": true
   },
   "outputs": [
    {
     "name": "stdout",
     "output_type": "stream",
     "text": [
      "WARNING:tensorflow:From C:\\ProgramData\\Anaconda3\\lib\\site-packages\\tensorflow_core\\python\\ops\\math_grad.py:1424: where (from tensorflow.python.ops.array_ops) is deprecated and will be removed in a future version.\n",
      "Instructions for updating:\n",
      "Use tf.where in 2.0, which has the same broadcast rule as np.where\n",
      "WARNING:tensorflow:From C:\\ProgramData\\Anaconda3\\lib\\site-packages\\keras\\backend\\tensorflow_backend.py:986: The name tf.assign_add is deprecated. Please use tf.compat.v1.assign_add instead.\n",
      "\n",
      "WARNING:tensorflow:From C:\\ProgramData\\Anaconda3\\lib\\site-packages\\keras\\backend\\tensorflow_backend.py:973: The name tf.assign is deprecated. Please use tf.compat.v1.assign instead.\n",
      "\n",
      "WARNING:tensorflow:From C:\\ProgramData\\Anaconda3\\lib\\site-packages\\keras\\backend\\tensorflow_backend.py:2741: The name tf.Session is deprecated. Please use tf.compat.v1.Session instead.\n",
      "\n",
      "Train on 850 samples, validate on 250 samples\n",
      "Epoch 1/30\n",
      "WARNING:tensorflow:From C:\\ProgramData\\Anaconda3\\lib\\site-packages\\keras\\backend\\tensorflow_backend.py:174: The name tf.get_default_session is deprecated. Please use tf.compat.v1.get_default_session instead.\n",
      "\n",
      "WARNING:tensorflow:From C:\\ProgramData\\Anaconda3\\lib\\site-packages\\keras\\backend\\tensorflow_backend.py:181: The name tf.ConfigProto is deprecated. Please use tf.compat.v1.ConfigProto instead.\n",
      "\n",
      "WARNING:tensorflow:From C:\\ProgramData\\Anaconda3\\lib\\site-packages\\keras\\backend\\tensorflow_backend.py:190: The name tf.global_variables is deprecated. Please use tf.compat.v1.global_variables instead.\n",
      "\n",
      "WARNING:tensorflow:From C:\\ProgramData\\Anaconda3\\lib\\site-packages\\keras\\backend\\tensorflow_backend.py:199: The name tf.is_variable_initialized is deprecated. Please use tf.compat.v1.is_variable_initialized instead.\n",
      "\n",
      "WARNING:tensorflow:From C:\\ProgramData\\Anaconda3\\lib\\site-packages\\keras\\backend\\tensorflow_backend.py:206: The name tf.variables_initializer is deprecated. Please use tf.compat.v1.variables_initializer instead.\n",
      "\n",
      "850/850 [==============================] - 4s 5ms/step - loss: 637318495.3224 - mean_absolute_error: 23478.7459 - val_loss: 525654076.3700 - val_mean_absolute_error: 17132.0541\n",
      "Epoch 2/30\n",
      "850/850 [==============================] - 1s 1ms/step - loss: 328203809.3741 - mean_absolute_error: 14758.5675 - val_loss: 121142316.3520 - val_mean_absolute_error: 7978.8372\n",
      "Epoch 3/30\n",
      "850/850 [==============================] - 1s 1ms/step - loss: 59559710.9082 - mean_absolute_error: 6115.3551 - val_loss: 74983499.0080 - val_mean_absolute_error: 6348.0282\n",
      "Epoch 4/30\n",
      "850/850 [==============================] - 1s 1ms/step - loss: 56165423.3812 - mean_absolute_error: 5383.1697 - val_loss: 55535669.9840 - val_mean_absolute_error: 5092.5668\n",
      "Epoch 5/30\n",
      "850/850 [==============================] - 1s 1ms/step - loss: 54887750.4753 - mean_absolute_error: 5143.9800 - val_loss: 37295051.2640 - val_mean_absolute_error: 3878.1679\n",
      "Epoch 6/30\n",
      "850/850 [==============================] - 1s 1ms/step - loss: 104649813.2518 - mean_absolute_error: 7223.8176 - val_loss: 58080031.9795 - val_mean_absolute_error: 4897.0417\n",
      "Epoch 7/30\n",
      "850/850 [==============================] - 1s 1ms/step - loss: 39031137.3129 - mean_absolute_error: 4848.3411 - val_loss: 73568288.1920 - val_mean_absolute_error: 5985.0741\n",
      "Epoch 8/30\n",
      "850/850 [==============================] - 1s 1ms/step - loss: 49485755.3812 - mean_absolute_error: 5093.9047 - val_loss: 27299165.2760 - val_mean_absolute_error: 3626.5557\n",
      "Epoch 9/30\n",
      "850/850 [==============================] - 1s 1ms/step - loss: 34148208.1365 - mean_absolute_error: 4492.2859 - val_loss: 47080082.4960 - val_mean_absolute_error: 5620.8600\n",
      "Epoch 10/30\n",
      "850/850 [==============================] - 1s 1ms/step - loss: 24162106.6765 - mean_absolute_error: 3786.3150 - val_loss: 22840333.7920 - val_mean_absolute_error: 3798.4254\n",
      "Epoch 11/30\n",
      "850/850 [==============================] - 1s 1ms/step - loss: 24502103.2565 - mean_absolute_error: 3979.8402 - val_loss: 28798758.9600 - val_mean_absolute_error: 4355.2487\n",
      "Epoch 12/30\n",
      "850/850 [==============================] - 1s 1ms/step - loss: 24990368.1038 - mean_absolute_error: 3419.9543 - val_loss: 41333752.7000 - val_mean_absolute_error: 4624.1387\n",
      "Epoch 13/30\n",
      "850/850 [==============================] - 1s 1ms/step - loss: 19173303.0024 - mean_absolute_error: 2604.4427 - val_loss: 20695169.5715 - val_mean_absolute_error: 3241.9363\n",
      "Epoch 14/30\n",
      "850/850 [==============================] - 1s 1ms/step - loss: 15171411.3624 - mean_absolute_error: 2368.9309 - val_loss: 20987020.4650 - val_mean_absolute_error: 3378.1339\n",
      "Epoch 15/30\n",
      "850/850 [==============================] - 1s 1ms/step - loss: 20594717.2004 - mean_absolute_error: 2580.7278 - val_loss: 20167184.6348 - val_mean_absolute_error: 2583.2834\n",
      "Epoch 16/30\n",
      "850/850 [==============================] - 1s 1ms/step - loss: 18605480.8612 - mean_absolute_error: 2983.2114 - val_loss: 33939480.8160 - val_mean_absolute_error: 4545.5520\n",
      "Epoch 17/30\n",
      "850/850 [==============================] - 1s 2ms/step - loss: 11288697.9088 - mean_absolute_error: 2374.4628 - val_loss: 16546307.9005 - val_mean_absolute_error: 2283.7396\n",
      "Epoch 18/30\n",
      "850/850 [==============================] - 1s 1ms/step - loss: 7502774.5682 - mean_absolute_error: 1765.8262 - val_loss: 14278472.2821 - val_mean_absolute_error: 2285.8378\n",
      "Epoch 19/30\n",
      "850/850 [==============================] - 1s 1ms/step - loss: 8159723.6359 - mean_absolute_error: 1891.0343 - val_loss: 21232507.6753 - val_mean_absolute_error: 3594.6286\n",
      "Epoch 20/30\n",
      "850/850 [==============================] - 1s 1ms/step - loss: 19618134.4729 - mean_absolute_error: 2938.0654 - val_loss: 11079423.6421 - val_mean_absolute_error: 2046.8766\n",
      "Epoch 21/30\n",
      "850/850 [==============================] - 1s 1ms/step - loss: 24454815.2282 - mean_absolute_error: 3416.5969 - val_loss: 29323410.1322 - val_mean_absolute_error: 4004.2247\n",
      "Epoch 22/30\n",
      "850/850 [==============================] - 1s 1ms/step - loss: 12939717.8965 - mean_absolute_error: 2570.5454 - val_loss: 12894063.6880 - val_mean_absolute_error: 2618.1031\n",
      "Epoch 23/30\n",
      "850/850 [==============================] - 1s 1ms/step - loss: 9881784.6941 - mean_absolute_error: 2404.3522 - val_loss: 19635612.2750 - val_mean_absolute_error: 2964.0219\n",
      "Epoch 24/30\n",
      "850/850 [==============================] - 1s 1ms/step - loss: 8400472.2835 - mean_absolute_error: 2170.8388 - val_loss: 15009740.7630 - val_mean_absolute_error: 2405.2023\n",
      "Epoch 25/30\n",
      "850/850 [==============================] - 1s 1ms/step - loss: 5893792.0212 - mean_absolute_error: 1715.2607 - val_loss: 12676083.4420 - val_mean_absolute_error: 2353.3161\n",
      "Epoch 26/30\n",
      "850/850 [==============================] - 1s 1ms/step - loss: 5894779.2706 - mean_absolute_error: 1691.9214 - val_loss: 12239226.1960 - val_mean_absolute_error: 2156.4543\n",
      "Epoch 27/30\n",
      "850/850 [==============================] - 1s 1ms/step - loss: 6147362.6241 - mean_absolute_error: 1692.1587 - val_loss: 11682101.2100 - val_mean_absolute_error: 2253.5875\n",
      "Epoch 28/30\n",
      "850/850 [==============================] - 1s 1ms/step - loss: 7790641.7471 - mean_absolute_error: 2061.0998 - val_loss: 15578211.1800 - val_mean_absolute_error: 2775.8999\n",
      "Epoch 29/30\n",
      "850/850 [==============================] - 1s 1ms/step - loss: 6403031.1041 - mean_absolute_error: 1843.6520 - val_loss: 12797193.3140 - val_mean_absolute_error: 2275.2246\n",
      "Epoch 30/30\n",
      "850/850 [==============================] - 1s 2ms/step - loss: 5937382.2994 - mean_absolute_error: 1771.5250 - val_loss: 13184577.1960 - val_mean_absolute_error: 2408.6108\n"
     ]
    }
   ],
   "source": [
    "# 4. 모델 학습시키기\n",
    "hist = model.fit(x_train, y_train, epochs=30, batch_size=16, callbacks=callbacks_list, validation_data=(x_val, y_val))"
   ]
  },
  {
   "cell_type": "code",
   "execution_count": 12,
   "metadata": {},
   "outputs": [
    {
     "name": "stdout",
     "output_type": "stream",
     "text": [
      "315/315 [==============================] - 0s 159us/step\n",
      "mean_absolute_error: 3384.56\n"
     ]
    }
   ],
   "source": [
    "# 6. 모델 평가하기\n",
    "scores = model.evaluate(x_test, y_test)\n",
    "print(\"%s: %.2f\" %(model.metrics_names[1], scores[1]))"
   ]
  },
  {
   "cell_type": "code",
   "execution_count": 15,
   "metadata": {
    "scrolled": true
   },
   "outputs": [
    {
     "data": {
      "image/png": "[encoded data removed]",
      "text/plain": [
       "<matplotlib.figure.Figure at 0x1e4fd319198>"
      ]
     },
     "metadata": {},
     "output_type": "display_data"
    }
   ],
   "source": [
    "# 6.1. 학습과정 살펴보기\n",
    "#epoch, loss 그래프\n",
    "loss = hist.history['loss']\n",
    "val_loss = hist.history['val_loss']\n",
    "\n",
    "\n",
    "epochs = range(1, len(loss)+1)\n",
    "plt.plot(epochs, loss, 'b', label='Training loss')\n",
    "plt.plot(epochs, val_loss, 'g', label='Validation loss')\n",
    "\n",
    "plt.title('Training/Validation loss and accuracy')\n",
    "plt.xlabel('Epochs')\n",
    "plt.ylabel('Loss')\n",
    "plt.legend()\n",
    "plt.show()"
   ]
  },
  {
   "cell_type": "code",
   "execution_count": 16,
   "metadata": {},
   "outputs": [
    {
     "name": "stdout",
     "output_type": "stream",
     "text": [
      "Train Score:  [6259087.77117647, 1877.1113370289522]\n",
      "Validataion Score:  [13184577.62, 2408.6107919921874]\n",
      "Test Score:  [20385186.953968253, 3384.5550207713295]\n"
     ]
    }
   ],
   "source": [
    "# 6.2. 모델 평가하기\n",
    "trainScore = model.evaluate(x_train, y_train, verbose=0)\n",
    "model.reset_states()\n",
    "print('Train Score: ', trainScore)\n",
    "valScore = model.evaluate(x_val, y_val, verbose=0)\n",
    "model.reset_states()\n",
    "print('Validataion Score: ', valScore)\n",
    "testScore = model.evaluate(x_test, y_test, verbose=0)\n",
    "model.reset_states()\n",
    "print('Test Score: ', testScore)"
   ]
  },
  {
   "cell_type": "code",
   "execution_count": 17,
   "metadata": {},
   "outputs": [
    {
     "data": {
      "image/png": "[encoded data removed]",
      "text/plain": [
       "<matplotlib.figure.Figure at 0x1e4ff3d3780>"
      ]
     },
     "metadata": {},
     "output_type": "display_data"
    }
   ],
   "source": [
    "def show_diff(y_predict, y_label, y_test, y_test_label, y_value):\n",
    "\n",
    "    fig, predict_ax=plt.subplots()\n",
    "\n",
    "    predict_ax.plot(y_predict, 'y', label=y_label)\n",
    "\n",
    "    predict_ax.plot(y_test, 'r', label=y_test_label)\n",
    "\n",
    "    predict_ax.set_ylabel(y_value)\n",
    "\n",
    "    predict_ax.legend(loc = 'upper left')\n",
    "\n",
    "    plt.show()\n",
    "    \n",
    "#7 예측하기\n",
    "\n",
    "y_predict = model.predict(x_test).flatten()\n",
    "\n",
    "show_diff(y_predict, 'y_predict', y_test, 'y_test', 'price')"
   ]
  },
  {
   "cell_type": "code",
   "execution_count": 18,
   "metadata": {
    "collapsed": true
   },
   "outputs": [],
   "source": [
    "# 데이터 저장\n",
    "df = pd.DataFrame(y_predict)\n",
    "df.insert(0,'y_test',y_test_var)\n",
    "df = df.rename(columns = {0: 'y_predict'})\n",
    "df.to_csv('predict_000.csv', index=False)\n",
    "\n",
    "# df = pd.DataFrame(result)\n",
    "# df.insert(0,'Y_test',Y_test_var)\n",
    "# df = df.rename(columns = {0: 'Y_predict'})\n",
    "# df.to_csv(\"predict_multinomial.csv\", index=False)   "
   ]
  },
  {
   "cell_type": "code",
   "execution_count": 19,
   "metadata": {},
   "outputs": [
    {
     "data": {
      "image/png": "[encoded data removed]",
      "text/plain": [
       "<matplotlib.figure.Figure at 0x1e4ff486c18>"
      ]
     },
     "metadata": {},
     "output_type": "display_data"
    }
   ],
   "source": [
    "\n",
    "test_predictions = y_test\n",
    "\n",
    "plt.scatter(y_test, y_predict)\n",
    "plt.xlabel('True Values')\n",
    "plt.ylabel('Predictions')\n",
    "plt.axis('equal')\n",
    "plt.axis('square')\n",
    "plt.xlim([10000,plt.xlim()[1]])\n",
    "plt.ylim([10000,plt.ylim()[1]])\n",
    "_ = plt.plot([-100000, 100000], [-100000, 100000])"
   ]
  },
  {
   "cell_type": "code",
   "execution_count": 20,
   "metadata": {},
   "outputs": [
    {
     "data": {
      "image/png": "[encoded data removed]",
      "text/plain": [
       "<matplotlib.figure.Figure at 0x1e4ff4eb6d8>"
      ]
     },
     "metadata": {},
     "output_type": "display_data"
    }
   ],
   "source": [
    "test_predictions = y_test\n",
    "\n",
    "plt.scatter(y_predict, y_test)\n",
    "plt.xlabel('Predictions')\n",
    "plt.ylabel('True Values')\n",
    "plt.axis('equal')\n",
    "plt.axis('square')\n",
    "plt.xlim([1000,plt.xlim()[1]])\n",
    "plt.ylim([1000,plt.ylim()[1]])\n",
    "_ = plt.plot([-100000, 100000], [-100000, 100000])"
   ]
  },
  {
   "cell_type": "code",
   "execution_count": 21,
   "metadata": {},
   "outputs": [
    {
     "data": {
      "image/png": "[encoded data removed]",
      "text/plain": [
       "<matplotlib.figure.Figure at 0x1e4ff5635c0>"
      ]
     },
     "metadata": {},
     "output_type": "display_data"
    }
   ],
   "source": [
    "#오차의 분포\n",
    "error = y_predict - y_test\n",
    "plt.hist(error, bins = 35)\n",
    "plt.xlabel(\"Prediction Error\")\n",
    "_ = plt.ylabel(\"Count\")"
   ]
  },
  {
   "cell_type": "code",
   "execution_count": 22,
   "metadata": {},
   "outputs": [
    {
     "name": "stdout",
     "output_type": "stream",
     "text": [
      "RMSE: 4515.00\n"
     ]
    }
   ],
   "source": [
    "rmse = sqrt(mean_squared_error(y_predict,y_test))\n",
    "print(\"RMSE: {:.2f}\".format(rmse))"
   ]
  },
  {
   "cell_type": "code",
   "execution_count": 23,
   "metadata": {},
   "outputs": [
    {
     "name": "stdout",
     "output_type": "stream",
     "text": [
      "STD: 7371.18\n"
     ]
    }
   ],
   "source": [
    "print(\"STD: {:.2f}\".format(std))"
   ]
  },
  {
   "cell_type": "code",
   "execution_count": null,
   "metadata": {
    "collapsed": true
   },
   "outputs": [],
   "source": []
  }
 ],
 "metadata": {
  "kernelspec": {
   "display_name": "Python 3",
   "language": "python",
   "name": "python3"
  },
  "language_info": {
   "codemirror_mode": {
    "name": "ipython",
    "version": 3
   },
   "file_extension": ".py",
   "mimetype": "text/x-python",
   "name": "python",
   "nbconvert_exporter": "python",
   "pygments_lexer": "ipython3",
   "version": "3.6.1"
  }
 },
 "nbformat": 4,
 "nbformat_minor": 2
}
