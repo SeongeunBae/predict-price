{
 "cells": [
  {
   "cell_type": "code",
   "execution_count": 2,
   "metadata": {},
   "outputs": [],
   "source": [
    "# 0. 사용할 패키지 불러오기\n",
    "import numpy as np\n",
    "import pandas as pd\n",
    "from keras.models import Sequential\n",
    "from keras.layers import Dense, LSTM, Dropout\n",
    "import matplotlib.pyplot as plt\n",
    "%matplotlib inline\n",
    "from keras.callbacks import EarlyStopping\n",
    "from sklearn.metrics import mean_squared_error\n",
    "\n",
    "from math import sqrt\n",
    "\n",
    "np.random.seed(5)\n",
    "\n",
    "\n",
    "# 1. 데이터셋 생성하기\n",
    "signal_data = pd.read_csv('price_tomato_S_input,week.csv', engine='python', encoding='ms949')\n",
    "data = signal_data.values\n",
    "retail_price = data\n",
    "\n",
    "#std = np.std(df[‘retail_price’].values)\n",
    "\n",
    "#create_ dataset\n",
    "def create_dataset(signal_data, look_back=1):\n",
    "    dataX, dataY = [], []\n",
    "    for i in range(len(signal_data)-look_back):\n",
    "        dataX.append(signal_data[i:(i+look_back), 1:])\n",
    "        dataY.append(signal_data[i + look_back, -1])\n",
    "    return np.array(dataX), np.array(dataY)\n",
    "\n",
    "look_back = 7\n",
    "\n",
    "X, Y = create_dataset(data, look_back)"
   ]
  },
  {
   "cell_type": "code",
   "execution_count": 3,
   "metadata": {},
   "outputs": [
    {
     "data": {
      "text/plain": [
       "array([4300., 4300., 4435., ..., 4900., 5160., 5150.])"
      ]
     },
     "execution_count": 3,
     "metadata": {},
     "output_type": "execute_result"
    }
   ],
   "source": [
    "Y"
   ]
  },
  {
   "cell_type": "code",
   "execution_count": 4,
   "metadata": {},
   "outputs": [
    {
     "data": {
      "text/html": [
       "<div>\n",
       "<style>\n",
       "    .dataframe thead tr:only-child th {\n",
       "        text-align: right;\n",
       "    }\n",
       "\n",
       "    .dataframe thead th {\n",
       "        text-align: left;\n",
       "    }\n",
       "\n",
       "    .dataframe tbody tr th {\n",
       "        vertical-align: top;\n",
       "    }\n",
       "</style>\n",
       "<table border=\"1\" class=\"dataframe\">\n",
       "  <thead>\n",
       "    <tr style=\"text-align: right;\">\n",
       "      <th></th>\n",
       "      <th>count</th>\n",
       "      <th>mean</th>\n",
       "      <th>std</th>\n",
       "      <th>min</th>\n",
       "      <th>25%</th>\n",
       "      <th>50%</th>\n",
       "      <th>75%</th>\n",
       "      <th>max</th>\n",
       "    </tr>\n",
       "  </thead>\n",
       "  <tbody>\n",
       "    <tr>\n",
       "      <th>mean(°C)</th>\n",
       "      <td>1428.0</td>\n",
       "      <td>13.590126</td>\n",
       "      <td>10.888134</td>\n",
       "      <td>-14.8</td>\n",
       "      <td>4.375</td>\n",
       "      <td>15.0</td>\n",
       "      <td>23.00</td>\n",
       "      <td>33.7</td>\n",
       "    </tr>\n",
       "    <tr>\n",
       "      <th>prep(mm)</th>\n",
       "      <td>1428.0</td>\n",
       "      <td>3.065616</td>\n",
       "      <td>11.846932</td>\n",
       "      <td>0.0</td>\n",
       "      <td>0.000</td>\n",
       "      <td>0.0</td>\n",
       "      <td>0.20</td>\n",
       "      <td>144.5</td>\n",
       "    </tr>\n",
       "    <tr>\n",
       "      <th>humidity(%)</th>\n",
       "      <td>1428.0</td>\n",
       "      <td>57.811975</td>\n",
       "      <td>14.807831</td>\n",
       "      <td>21.8</td>\n",
       "      <td>46.800</td>\n",
       "      <td>57.8</td>\n",
       "      <td>67.65</td>\n",
       "      <td>97.0</td>\n",
       "    </tr>\n",
       "    <tr>\n",
       "      <th>in</th>\n",
       "      <td>1428.0</td>\n",
       "      <td>17020.515406</td>\n",
       "      <td>18735.705225</td>\n",
       "      <td>0.0</td>\n",
       "      <td>1318.500</td>\n",
       "      <td>12198.0</td>\n",
       "      <td>25805.25</td>\n",
       "      <td>136936.0</td>\n",
       "    </tr>\n",
       "    <tr>\n",
       "      <th>week(code)</th>\n",
       "      <td>1428.0</td>\n",
       "      <td>0.782913</td>\n",
       "      <td>0.412407</td>\n",
       "      <td>0.0</td>\n",
       "      <td>1.000</td>\n",
       "      <td>1.0</td>\n",
       "      <td>1.00</td>\n",
       "      <td>1.0</td>\n",
       "    </tr>\n",
       "    <tr>\n",
       "      <th>whole_price</th>\n",
       "      <td>1428.0</td>\n",
       "      <td>26810.224090</td>\n",
       "      <td>8658.011133</td>\n",
       "      <td>10000.0</td>\n",
       "      <td>20000.000</td>\n",
       "      <td>26000.0</td>\n",
       "      <td>32250.00</td>\n",
       "      <td>55000.0</td>\n",
       "    </tr>\n",
       "    <tr>\n",
       "      <th>retail_price</th>\n",
       "      <td>1428.0</td>\n",
       "      <td>4339.872549</td>\n",
       "      <td>1317.539493</td>\n",
       "      <td>2259.0</td>\n",
       "      <td>3254.000</td>\n",
       "      <td>4300.0</td>\n",
       "      <td>4943.00</td>\n",
       "      <td>9882.0</td>\n",
       "    </tr>\n",
       "  </tbody>\n",
       "</table>\n",
       "</div>"
      ],
      "text/plain": [
       "               count          mean           std      min        25%      50%  \\\n",
       "mean(°C)      1428.0     13.590126     10.888134    -14.8      4.375     15.0   \n",
       "prep(mm)      1428.0      3.065616     11.846932      0.0      0.000      0.0   \n",
       "humidity(%)   1428.0     57.811975     14.807831     21.8     46.800     57.8   \n",
       "in            1428.0  17020.515406  18735.705225      0.0   1318.500  12198.0   \n",
       "week(code)    1428.0      0.782913      0.412407      0.0      1.000      1.0   \n",
       "whole_price   1428.0  26810.224090   8658.011133  10000.0  20000.000  26000.0   \n",
       "retail_price  1428.0   4339.872549   1317.539493   2259.0   3254.000   4300.0   \n",
       "\n",
       "                   75%       max  \n",
       "mean(°C)         23.00      33.7  \n",
       "prep(mm)          0.20     144.5  \n",
       "humidity(%)      67.65      97.0  \n",
       "in            25805.25  136936.0  \n",
       "week(code)        1.00       1.0  \n",
       "whole_price   32250.00   55000.0  \n",
       "retail_price   4943.00    9882.0  "
      ]
     },
     "execution_count": 4,
     "metadata": {},
     "output_type": "execute_result"
    }
   ],
   "source": [
    "train_stats = signal_data.describe()\n",
    "train_stats.pop(\"date\")\n",
    "train_stats = train_stats.transpose()\n",
    "\n",
    "train_stats\n"
   ]
  },
  {
   "cell_type": "code",
   "execution_count": 5,
   "metadata": {},
   "outputs": [
    {
     "name": "stdout",
     "output_type": "stream",
     "text": [
      "[4125. 4125. 4125. ... 4900. 5160. 5150.]\n"
     ]
    }
   ],
   "source": [
    "rtp = retail_price[:,-1]\n",
    "print(rtp)"
   ]
  },
  {
   "cell_type": "code",
   "execution_count": 6,
   "metadata": {},
   "outputs": [
    {
     "name": "stdout",
     "output_type": "stream",
     "text": [
      "1317.0780884363542\n"
     ]
    }
   ],
   "source": [
    "std = np.std(rtp)\n",
    "print(std)"
   ]
  },
  {
   "cell_type": "markdown",
   "metadata": {},
   "source": [
    "### create dataset을 수행한 뒤 데이터 분할"
   ]
  },
  {
   "cell_type": "code",
   "execution_count": 7,
   "metadata": {},
   "outputs": [
    {
     "data": {
      "text/plain": [
       "(1428, 8)"
      ]
     },
     "execution_count": 7,
     "metadata": {},
     "output_type": "execute_result"
    }
   ],
   "source": [
    "signal_data.shape"
   ]
  },
  {
   "cell_type": "code",
   "execution_count": 8,
   "metadata": {
    "collapsed": true
   },
   "outputs": [],
   "source": [
    "# 데이터셋 생성\n",
    "x_train = X[0:850,]\n",
    "y_train = Y[0:850,] \n",
    "\n",
    "x_val = X[850:1100]\n",
    "y_val = Y[850:1100]\n",
    "\n",
    "x_test = X[1100:,]\n",
    "y_test = Y[1100:,]\n",
    "y_test_var = y_test\n"
   ]
  },
  {
   "cell_type": "code",
   "execution_count": 13,
   "metadata": {},
   "outputs": [],
   "source": [
    "# 2. 모델 구성하기\n",
    "model = Sequential()\n",
    "model.add(LSTM(32, input_shape=(7, 7), activation='relu', return_sequences=True))\n",
    "model.add(LSTM(32, activation='relu', return_sequences=True))\n",
    "model.add(LSTM(32, activation='relu', return_sequences=False))\n",
    "#model.add(Dropout(0.3))\n",
    "model.add(Dense(1))\n",
    "\n",
    "#3. 모델 아키텍쳐 살펴보기\n",
    "# model.summary()\n",
    "\n",
    "# 4. 모델 학습과정 설정하기\n",
    "model.compile(loss='mse', optimizer='adam', metrics=['mae'])\n",
    "#model.compile(loss='mse', optimizer='adam', metrics=['mse'])"
   ]
  },
  {
   "cell_type": "code",
   "execution_count": 14,
   "metadata": {
    "collapsed": true
   },
   "outputs": [],
   "source": [
    "#5.모델 학습시키기\n",
    "#5.1. Early Stopping\n",
    "callbacks_list = [\n",
    "    EarlyStopping(\n",
    "    monitor='val_loss',\n",
    "    patience=20 ,\n",
    "    ),\n",
    "#     ModelCheckpoint(\n",
    "#     filepath='multi_model.h5',\n",
    "#     monitor='val_loss',\n",
    "#     save_best_only = True,\n",
    "#     )\n",
    "]\n"
   ]
  },
  {
   "cell_type": "code",
   "execution_count": 15,
   "metadata": {
    "scrolled": true
   },
   "outputs": [
    {
     "name": "stdout",
     "output_type": "stream",
     "text": [
      "WARNING:tensorflow:From C:\\ProgramData\\Anaconda3\\lib\\site-packages\\tensorflow_core\\python\\ops\\math_grad.py:1424: where (from tensorflow.python.ops.array_ops) is deprecated and will be removed in a future version.\n",
      "Instructions for updating:\n",
      "Use tf.where in 2.0, which has the same broadcast rule as np.where\n",
      "WARNING:tensorflow:From C:\\ProgramData\\Anaconda3\\lib\\site-packages\\keras\\backend\\tensorflow_backend.py:986: The name tf.assign_add is deprecated. Please use tf.compat.v1.assign_add instead.\n",
      "\n",
      "WARNING:tensorflow:From C:\\ProgramData\\Anaconda3\\lib\\site-packages\\keras\\backend\\tensorflow_backend.py:973: The name tf.assign is deprecated. Please use tf.compat.v1.assign instead.\n",
      "\n",
      "WARNING:tensorflow:From C:\\ProgramData\\Anaconda3\\lib\\site-packages\\keras\\backend\\tensorflow_backend.py:2741: The name tf.Session is deprecated. Please use tf.compat.v1.Session instead.\n",
      "\n",
      "Train on 850 samples, validate on 250 samples\n",
      "Epoch 1/300\n",
      "WARNING:tensorflow:From C:\\ProgramData\\Anaconda3\\lib\\site-packages\\keras\\backend\\tensorflow_backend.py:174: The name tf.get_default_session is deprecated. Please use tf.compat.v1.get_default_session instead.\n",
      "\n",
      "WARNING:tensorflow:From C:\\ProgramData\\Anaconda3\\lib\\site-packages\\keras\\backend\\tensorflow_backend.py:181: The name tf.ConfigProto is deprecated. Please use tf.compat.v1.ConfigProto instead.\n",
      "\n",
      "WARNING:tensorflow:From C:\\ProgramData\\Anaconda3\\lib\\site-packages\\keras\\backend\\tensorflow_backend.py:190: The name tf.global_variables is deprecated. Please use tf.compat.v1.global_variables instead.\n",
      "\n",
      "WARNING:tensorflow:From C:\\ProgramData\\Anaconda3\\lib\\site-packages\\keras\\backend\\tensorflow_backend.py:199: The name tf.is_variable_initialized is deprecated. Please use tf.compat.v1.is_variable_initialized instead.\n",
      "\n",
      "WARNING:tensorflow:From C:\\ProgramData\\Anaconda3\\lib\\site-packages\\keras\\backend\\tensorflow_backend.py:206: The name tf.variables_initializer is deprecated. Please use tf.compat.v1.variables_initializer instead.\n",
      "\n",
      "850/850 [==============================] - 5s 6ms/step - loss: 13523731.4471 - mean_absolute_error: 3390.2595 - val_loss: 7141696.9600 - val_mean_absolute_error: 2280.7091\n",
      "Epoch 2/300\n",
      "850/850 [==============================] - 1s 1ms/step - loss: 5847644.0128 - mean_absolute_error: 1962.1371 - val_loss: 8080764.1160 - val_mean_absolute_error: 2107.5230\n",
      "Epoch 3/300\n",
      "850/850 [==============================] - 1s 1ms/step - loss: 5826547.9953 - mean_absolute_error: 1872.4798 - val_loss: 3372477.8700 - val_mean_absolute_error: 1427.9482\n",
      "Epoch 4/300\n",
      "850/850 [==============================] - 1s 1ms/step - loss: 3727473.7097 - mean_absolute_error: 1572.7775 - val_loss: 3410929.2920 - val_mean_absolute_error: 1490.3558\n",
      "Epoch 5/300\n",
      "850/850 [==============================] - 1s 1ms/step - loss: 3673314.9365 - mean_absolute_error: 1526.5713 - val_loss: 4754789.6920 - val_mean_absolute_error: 1721.6576\n",
      "Epoch 6/300\n",
      "850/850 [==============================] - 1s 1ms/step - loss: 4566284.0259 - mean_absolute_error: 1661.3621 - val_loss: 4243483.4760 - val_mean_absolute_error: 1536.6834\n",
      "Epoch 7/300\n",
      "850/850 [==============================] - 1s 1ms/step - loss: 3599988.6915 - mean_absolute_error: 1484.6616 - val_loss: 3481454.2760 - val_mean_absolute_error: 1456.7831\n",
      "Epoch 8/300\n",
      "850/850 [==============================] - 1s 1ms/step - loss: 2724849.4946 - mean_absolute_error: 1305.6224 - val_loss: 3637900.4860 - val_mean_absolute_error: 1424.8177\n",
      "Epoch 9/300\n",
      "850/850 [==============================] - 1s 1ms/step - loss: 2230634.7012 - mean_absolute_error: 1179.0402 - val_loss: 3498163.4050 - val_mean_absolute_error: 1398.6718\n",
      "Epoch 10/300\n",
      "850/850 [==============================] - 1s 1ms/step - loss: 1774079.4224 - mean_absolute_error: 1025.0846 - val_loss: 2393718.8480 - val_mean_absolute_error: 1189.7011\n",
      "Epoch 11/300\n",
      "850/850 [==============================] - 1s 1ms/step - loss: 1670088.1659 - mean_absolute_error: 1025.7627 - val_loss: 1816504.2540 - val_mean_absolute_error: 1040.5878\n",
      "Epoch 12/300\n",
      "850/850 [==============================] - 1s 1ms/step - loss: 1480082.0176 - mean_absolute_error: 983.2249 - val_loss: 1993780.3620 - val_mean_absolute_error: 1069.7158\n",
      "Epoch 13/300\n",
      "850/850 [==============================] - 1s 1ms/step - loss: 1316394.0029 - mean_absolute_error: 901.6132 - val_loss: 1555200.0360 - val_mean_absolute_error: 942.6005\n",
      "Epoch 14/300\n",
      "850/850 [==============================] - 1s 1ms/step - loss: 1203055.3353 - mean_absolute_error: 876.8956 - val_loss: 1884668.7360 - val_mean_absolute_error: 1022.4712\n",
      "Epoch 15/300\n",
      "850/850 [==============================] - 1s 1ms/step - loss: 1314854.8783 - mean_absolute_error: 898.4751 - val_loss: 1907703.6920 - val_mean_absolute_error: 1057.5801\n",
      "Epoch 16/300\n",
      "850/850 [==============================] - 1s 1ms/step - loss: 1209643.8353 - mean_absolute_error: 849.8619 - val_loss: 1624962.6800 - val_mean_absolute_error: 960.0726\n",
      "Epoch 17/300\n",
      "850/850 [==============================] - 1s 1ms/step - loss: 1142035.5929 - mean_absolute_error: 829.8906 - val_loss: 1523947.8243 - val_mean_absolute_error: 908.6620\n",
      "Epoch 18/300\n",
      "850/850 [==============================] - 1s 1ms/step - loss: 904916.4784 - mean_absolute_error: 769.6378 - val_loss: 1161482.6790 - val_mean_absolute_error: 806.4784\n",
      "Epoch 19/300\n",
      "850/850 [==============================] - 1s 1ms/step - loss: 750046.5693 - mean_absolute_error: 679.6015 - val_loss: 928441.8150 - val_mean_absolute_error: 706.7895\n",
      "Epoch 20/300\n",
      "850/850 [==============================] - 1s 1ms/step - loss: 662462.5628 - mean_absolute_error: 643.3814 - val_loss: 1014050.2375 - val_mean_absolute_error: 742.5287\n",
      "Epoch 21/300\n",
      "850/850 [==============================] - 1s 1ms/step - loss: 652017.0876 - mean_absolute_error: 634.5492 - val_loss: 1187311.4870 - val_mean_absolute_error: 784.6776\n",
      "Epoch 22/300\n",
      "850/850 [==============================] - 1s 1ms/step - loss: 876338.9062 - mean_absolute_error: 731.7547 - val_loss: 2095259.4690 - val_mean_absolute_error: 1055.1810\n",
      "Epoch 23/300\n",
      "850/850 [==============================] - 1s 1ms/step - loss: 1121927.7206 - mean_absolute_error: 820.6518 - val_loss: 2213729.0580 - val_mean_absolute_error: 1168.3070\n",
      "Epoch 24/300\n",
      "850/850 [==============================] - 1s 1ms/step - loss: 1225301.3821 - mean_absolute_error: 859.0458 - val_loss: 1480108.1435 - val_mean_absolute_error: 923.0730\n",
      "Epoch 25/300\n",
      "850/850 [==============================] - 1s 1ms/step - loss: 1132906.7272 - mean_absolute_error: 832.8951 - val_loss: 1918311.6025 - val_mean_absolute_error: 1050.4037\n",
      "Epoch 26/300\n",
      "850/850 [==============================] - 1s 1ms/step - loss: 1611854.4977 - mean_absolute_error: 980.5283 - val_loss: 2509315.1900 - val_mean_absolute_error: 1127.7160\n",
      "Epoch 27/300\n",
      "850/850 [==============================] - 1s 1ms/step - loss: 1198952.4051 - mean_absolute_error: 842.9633 - val_loss: 2239118.7560 - val_mean_absolute_error: 1131.8263\n",
      "Epoch 28/300\n",
      "850/850 [==============================] - 1s 1ms/step - loss: 902859.2051 - mean_absolute_error: 763.2643 - val_loss: 1392607.4420 - val_mean_absolute_error: 872.9534\n",
      "Epoch 29/300\n",
      "850/850 [==============================] - 1s 1ms/step - loss: 658880.0406 - mean_absolute_error: 639.0051 - val_loss: 1074542.1910 - val_mean_absolute_error: 796.0654\n",
      "Epoch 30/300\n",
      "850/850 [==============================] - 1s 1ms/step - loss: 662997.4713 - mean_absolute_error: 639.0002 - val_loss: 1092647.5110 - val_mean_absolute_error: 771.0436\n",
      "Epoch 31/300\n",
      "850/850 [==============================] - 1s 1ms/step - loss: 612531.2083 - mean_absolute_error: 610.9529 - val_loss: 951304.1895 - val_mean_absolute_error: 725.2822\n",
      "Epoch 32/300\n",
      "850/850 [==============================] - 1s 1ms/step - loss: 619588.3506 - mean_absolute_error: 613.5606 - val_loss: 894799.6375 - val_mean_absolute_error: 727.3141\n",
      "Epoch 33/300\n",
      "850/850 [==============================] - 1s 1ms/step - loss: 574678.0632 - mean_absolute_error: 587.4850 - val_loss: 796199.9900 - val_mean_absolute_error: 661.8791\n",
      "Epoch 34/300\n",
      "850/850 [==============================] - 1s 1ms/step - loss: 509699.7634 - mean_absolute_error: 548.3292 - val_loss: 592389.1208 - val_mean_absolute_error: 574.3903\n",
      "Epoch 35/300\n"
     ]
    },
    {
     "name": "stdout",
     "output_type": "stream",
     "text": [
      "850/850 [==============================] - 1s 1ms/step - loss: 440394.0686 - mean_absolute_error: 519.6283 - val_loss: 856309.5280 - val_mean_absolute_error: 690.2996\n",
      "Epoch 36/300\n",
      "850/850 [==============================] - 1s 1ms/step - loss: 437560.6332 - mean_absolute_error: 511.3220 - val_loss: 863718.4087 - val_mean_absolute_error: 705.2746\n",
      "Epoch 37/300\n",
      "850/850 [==============================] - 1s 2ms/step - loss: 546961.6589 - mean_absolute_error: 586.1654 - val_loss: 738639.3345 - val_mean_absolute_error: 607.2005\n",
      "Epoch 38/300\n",
      "850/850 [==============================] - 1s 1ms/step - loss: 418875.1967 - mean_absolute_error: 501.3591 - val_loss: 584114.4655 - val_mean_absolute_error: 586.8114\n",
      "Epoch 39/300\n",
      "850/850 [==============================] - 1s 1ms/step - loss: 360731.8262 - mean_absolute_error: 473.7355 - val_loss: 484410.9138 - val_mean_absolute_error: 535.9946\n",
      "Epoch 40/300\n",
      "850/850 [==============================] - 1s 2ms/step - loss: 326842.8229 - mean_absolute_error: 446.6813 - val_loss: 534906.3865 - val_mean_absolute_error: 549.6271\n",
      "Epoch 41/300\n",
      "850/850 [==============================] - 1s 2ms/step - loss: 288842.9834 - mean_absolute_error: 422.4280 - val_loss: 513271.9914 - val_mean_absolute_error: 534.9481\n",
      "Epoch 42/300\n",
      "850/850 [==============================] - 1s 1ms/step - loss: 318545.0226 - mean_absolute_error: 444.9576 - val_loss: 549886.5411 - val_mean_absolute_error: 568.9036\n",
      "Epoch 43/300\n",
      "850/850 [==============================] - 1s 1ms/step - loss: 369052.6673 - mean_absolute_error: 466.5792 - val_loss: 608194.1848 - val_mean_absolute_error: 568.1428\n",
      "Epoch 44/300\n",
      "850/850 [==============================] - 1s 1ms/step - loss: 358221.7069 - mean_absolute_error: 462.7420 - val_loss: 577549.1343 - val_mean_absolute_error: 558.3908\n",
      "Epoch 45/300\n",
      "850/850 [==============================] - 1s 1ms/step - loss: 252761.4070 - mean_absolute_error: 401.3085 - val_loss: 727423.6238 - val_mean_absolute_error: 621.8687\n",
      "Epoch 46/300\n",
      "850/850 [==============================] - 1s 1ms/step - loss: 231542.8413 - mean_absolute_error: 382.4525 - val_loss: 696181.9755 - val_mean_absolute_error: 607.9726\n",
      "Epoch 47/300\n",
      "850/850 [==============================] - 1s 1ms/step - loss: 227152.0151 - mean_absolute_error: 378.9339 - val_loss: 637232.2960 - val_mean_absolute_error: 589.0276\n",
      "Epoch 48/300\n",
      "850/850 [==============================] - 1s 1ms/step - loss: 221288.2412 - mean_absolute_error: 377.7546 - val_loss: 580583.1353 - val_mean_absolute_error: 570.3401\n",
      "Epoch 49/300\n",
      "850/850 [==============================] - 1s 1ms/step - loss: 222800.3075 - mean_absolute_error: 378.7306 - val_loss: 715263.1798 - val_mean_absolute_error: 603.0838\n",
      "Epoch 50/300\n",
      "850/850 [==============================] - 1s 1ms/step - loss: 214844.0231 - mean_absolute_error: 372.2163 - val_loss: 653082.2125 - val_mean_absolute_error: 600.6180\n",
      "Epoch 51/300\n",
      "850/850 [==============================] - 1s 1ms/step - loss: 208121.8065 - mean_absolute_error: 366.3480 - val_loss: 569460.4337 - val_mean_absolute_error: 561.9257\n",
      "Epoch 52/300\n",
      "850/850 [==============================] - 1s 1ms/step - loss: 207494.7643 - mean_absolute_error: 363.6192 - val_loss: 633320.4367 - val_mean_absolute_error: 574.3267\n",
      "Epoch 53/300\n",
      "850/850 [==============================] - 1s 1ms/step - loss: 201642.6088 - mean_absolute_error: 361.8728 - val_loss: 663561.2905 - val_mean_absolute_error: 570.1536\n",
      "Epoch 54/300\n",
      "850/850 [==============================] - 1s 1ms/step - loss: 211898.0238 - mean_absolute_error: 366.8289 - val_loss: 600250.3334 - val_mean_absolute_error: 557.1699\n",
      "Epoch 55/300\n",
      "850/850 [==============================] - 1s 1ms/step - loss: 197761.0258 - mean_absolute_error: 354.9700 - val_loss: 602696.3469 - val_mean_absolute_error: 564.8837\n",
      "Epoch 56/300\n",
      "850/850 [==============================] - 1s 1ms/step - loss: 190840.3472 - mean_absolute_error: 350.7273 - val_loss: 693043.1587 - val_mean_absolute_error: 596.5368\n",
      "Epoch 57/300\n",
      "850/850 [==============================] - 1s 1ms/step - loss: 190072.1208 - mean_absolute_error: 351.4083 - val_loss: 596400.4780 - val_mean_absolute_error: 558.8750\n",
      "Epoch 58/300\n",
      "850/850 [==============================] - 1s 1ms/step - loss: 188318.0814 - mean_absolute_error: 348.7522 - val_loss: 648572.3940 - val_mean_absolute_error: 577.4105\n",
      "Epoch 59/300\n",
      "850/850 [==============================] - 1s 1ms/step - loss: 188298.4691 - mean_absolute_error: 348.4799 - val_loss: 576201.1260 - val_mean_absolute_error: 554.9759\n"
     ]
    }
   ],
   "source": [
    "# 5.2 모델 학습시키기\n",
    "hist = model.fit(x_train, y_train, epochs=300, batch_size=16, callbacks=callbacks_list, validation_data=(x_val, y_val))"
   ]
  },
  {
   "cell_type": "code",
   "execution_count": 16,
   "metadata": {},
   "outputs": [
    {
     "name": "stdout",
     "output_type": "stream",
     "text": [
      "321/321 [==============================] - 0s 189us/step\n",
      "mean_absolute_error: 349.55\n"
     ]
    }
   ],
   "source": [
    "# 6. 모델 평가하기\n",
    "scores = model.evaluate(x_test, y_test)\n",
    "print(\"%s: %.2f\" %(model.metrics_names[1], scores[1]))"
   ]
  },
  {
   "cell_type": "code",
   "execution_count": 17,
   "metadata": {
    "scrolled": true
   },
   "outputs": [
    {
     "data": {
      "image/png": "[encoded data removed]",
      "text/plain": [
       "<matplotlib.figure.Figure at 0x1f93bc66eb8>"
      ]
     },
     "metadata": {},
     "output_type": "display_data"
    }
   ],
   "source": [
    "# 6.1 학습과정 살펴보기\n",
    "#epoch, loss 그래프\n",
    "loss = hist.history['loss']\n",
    "val_loss = hist.history['val_loss']\n",
    "\n",
    "\n",
    "epochs = range(1, len(loss)+1)\n",
    "plt.plot(epochs, loss, 'b', label='Training loss')\n",
    "plt.plot(epochs, val_loss, 'g', label='Validation loss')\n",
    "\n",
    "plt.title('Training/Validation loss and accuracy')\n",
    "plt.xlabel('Epochs')\n",
    "plt.ylabel('Loss')\n",
    "plt.legend()\n",
    "plt.show()"
   ]
  },
  {
   "cell_type": "code",
   "execution_count": 18,
   "metadata": {},
   "outputs": [
    {
     "name": "stdout",
     "output_type": "stream",
     "text": [
      "Train Score:  [189918.98397058825, 348.65244126263786]\n",
      "Validataion Score:  [576201.116125, 554.9758483886719]\n",
      "Test Score:  [203366.5387035144, 349.5497408002336]\n"
     ]
    }
   ],
   "source": [
    "# 6.2. 모델 평가하기\n",
    "trainScore = model.evaluate(x_train, y_train, verbose=0)\n",
    "model.reset_states()\n",
    "print('Train Score: ', trainScore)\n",
    "valScore = model.evaluate(x_val, y_val, verbose=0)\n",
    "model.reset_states()\n",
    "print('Validataion Score: ', valScore)\n",
    "testScore = model.evaluate(x_test, y_test, verbose=0)\n",
    "model.reset_states()\n",
    "print('Test Score: ', testScore)"
   ]
  },
  {
   "cell_type": "code",
   "execution_count": 19,
   "metadata": {},
   "outputs": [
    {
     "data": {
      "image/png": "[encoded data removed]",
      "text/plain": [
       "<matplotlib.figure.Figure at 0x1f93edf1f98>"
      ]
     },
     "metadata": {},
     "output_type": "display_data"
    }
   ],
   "source": [
    "def show_diff(y_predict, y_label, y_test, y_test_label, y_value):\n",
    "\n",
    "    fig, predict_ax=plt.subplots()\n",
    "\n",
    "    predict_ax.plot(y_predict, 'y', label=y_label)\n",
    "\n",
    "    predict_ax.plot(y_test, 'r', label=y_test_label)\n",
    "\n",
    "    predict_ax.set_ylabel(y_value)\n",
    "\n",
    "    predict_ax.legend(loc = 'upper left')\n",
    "\n",
    "    plt.show()\n",
    "    \n",
    "#7 예측하기\n",
    "\n",
    "y_predict = model.predict(x_test).flatten()\n",
    "\n",
    "show_diff(y_predict, 'y_predict', y_test, 'y_test', 'price')"
   ]
  },
  {
   "cell_type": "code",
   "execution_count": 20,
   "metadata": {
    "collapsed": true
   },
   "outputs": [],
   "source": [
    "# 데이터 저장\n",
    "df = pd.DataFrame(y_predict)\n",
    "df.insert(1,'y_test',y_test)\n",
    "df.to_csv('predict_priceinput.csv')"
   ]
  },
  {
   "cell_type": "code",
   "execution_count": 21,
   "metadata": {},
   "outputs": [
    {
     "data": {
      "image/png": "[encoded data removed]",
      "text/plain": [
       "<matplotlib.figure.Figure at 0x1f940e78b00>"
      ]
     },
     "metadata": {},
     "output_type": "display_data"
    }
   ],
   "source": [
    "\n",
    "test_predictions = y_test\n",
    "\n",
    "plt.scatter(y_test, y_predict)\n",
    "plt.xlabel('True Values')\n",
    "plt.ylabel('Predictions')\n",
    "plt.axis('equal')\n",
    "plt.axis('square')\n",
    "plt.xlim([10000,plt.xlim()[1]])\n",
    "plt.ylim([10000,plt.ylim()[1]])\n",
    "_ = plt.plot([-100000, 100000], [-100000, 100000])"
   ]
  },
  {
   "cell_type": "code",
   "execution_count": 26,
   "metadata": {},
   "outputs": [
    {
     "data": {
      "image/png": "[encoded data removed]",
      "text/plain": [
       "<matplotlib.figure.Figure at 0x1f940f1fdd8>"
      ]
     },
     "metadata": {},
     "output_type": "display_data"
    }
   ],
   "source": [
    "\n",
    "test_predictions = y_test\n",
    "\n",
    "plt.scatter(y_predict, y_test)\n",
    "plt.xlabel('Predictions')\n",
    "plt.ylabel('True Values')\n",
    "plt.axis('equal')\n",
    "plt.axis('square')\n",
    "plt.xlim([1000,plt.xlim()[1]])\n",
    "plt.ylim([1000,plt.ylim()[1]])\n",
    "_ = plt.plot([-100000, 100000], [-100000, 100000])"
   ]
  },
  {
   "cell_type": "code",
   "execution_count": 23,
   "metadata": {},
   "outputs": [
    {
     "data": {
      "image/png": "[encoded data removed]",
      "text/plain": [
       "<matplotlib.figure.Figure at 0x1f93ed6c550>"
      ]
     },
     "metadata": {},
     "output_type": "display_data"
    }
   ],
   "source": [
    "#오차의 분포\n",
    "error = y_predict - y_test\n",
    "plt.hist(error, bins = 35)\n",
    "plt.xlabel(\"Prediction Error\")\n",
    "_ = plt.ylabel(\"Count\")"
   ]
  },
  {
   "cell_type": "code",
   "execution_count": 24,
   "metadata": {},
   "outputs": [
    {
     "name": "stdout",
     "output_type": "stream",
     "text": [
      "RMSE: 450.96\n"
     ]
    }
   ],
   "source": [
    "rmse = sqrt(mean_squared_error(y_predict,y_test))\n",
    "print(\"RMSE: {:.2f}\".format(rmse))"
   ]
  },
  {
   "cell_type": "code",
   "execution_count": 25,
   "metadata": {},
   "outputs": [
    {
     "name": "stdout",
     "output_type": "stream",
     "text": [
      "STD: 1317.08\n"
     ]
    }
   ],
   "source": [
    "print(\"STD: {:.2f}\".format(std))"
   ]
  },
  {
   "cell_type": "code",
   "execution_count": null,
   "metadata": {
    "collapsed": true
   },
   "outputs": [],
   "source": []
  },
  {
   "cell_type": "code",
   "execution_count": null,
   "metadata": {
    "collapsed": true
   },
   "outputs": [],
   "source": []
  }
 ],
 "metadata": {
  "kernelspec": {
   "display_name": "Python 3",
   "language": "python",
   "name": "python3"
  },
  "language_info": {
   "codemirror_mode": {
    "name": "ipython",
    "version": 3
   },
   "file_extension": ".py",
   "mimetype": "text/x-python",
   "name": "python",
   "nbconvert_exporter": "python",
   "pygments_lexer": "ipython3",
   "version": "3.6.1"
  }
 },
 "nbformat": 4,
 "nbformat_minor": 2
}
