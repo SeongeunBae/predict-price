{
 "cells": [
  {
   "cell_type": "code",
   "execution_count": 1,
   "metadata": {},
   "outputs": [
    {
     "name": "stderr",
     "output_type": "stream",
     "text": [
      "C:\\ProgramData\\Anaconda3\\lib\\site-packages\\h5py\\__init__.py:34: FutureWarning: Conversion of the second argument of issubdtype from `float` to `np.floating` is deprecated. In future, it will be treated as `np.float64 == np.dtype(float).type`.\n",
      "  from ._conv import register_converters as _register_converters\n",
      "Using TensorFlow backend.\n"
     ]
    }
   ],
   "source": [
    "# 0. 사용할 패키지 불러오기\n",
    "import numpy as np\n",
    "import pandas as pd\n",
    "from keras.models import Sequential\n",
    "from keras.layers import Dense, LSTM, Dropout\n",
    "import matplotlib.pyplot as plt\n",
    "%matplotlib inline\n",
    "from keras.callbacks import EarlyStopping\n",
    "from sklearn.metrics import mean_squared_error\n",
    "\n",
    "from math import sqrt\n",
    "\n",
    "np.random.seed(5)\n",
    "\n",
    "\n",
    "# 1. 데이터셋 생성하기\n",
    "signal_data = pd.read_csv('price_pear_B.csv', engine='python', encoding='ms949')\n",
    "data = signal_data.values\n",
    "retail_price = data\n",
    "\n",
    "#std = np.std(df[‘retail_price’].values)\n",
    "\n",
    "#create_ dataset\n",
    "def create_dataset(signal_data, look_back=1):\n",
    "    dataX, dataY = [], []\n",
    "    for i in range(len(signal_data)-look_back):\n",
    "        dataX.append(signal_data[i:(i+look_back), 1:])\n",
    "        dataY.append(signal_data[i + look_back, -1])\n",
    "    return np.array(dataX), np.array(dataY)\n",
    "\n",
    "look_back = 7\n",
    "\n",
    "X, Y = create_dataset(data, look_back)"
   ]
  },
  {
   "cell_type": "code",
   "execution_count": 3,
   "metadata": {},
   "outputs": [
    {
     "data": {
      "text/plain": [
       "array([30000., 30000., 30000., ..., 34323., 35433., 35433.])"
      ]
     },
     "execution_count": 3,
     "metadata": {},
     "output_type": "execute_result"
    }
   ],
   "source": [
    "Y"
   ]
  },
  {
   "cell_type": "code",
   "execution_count": 4,
   "metadata": {},
   "outputs": [
    {
     "data": {
      "text/html": [
       "<div>\n",
       "<style>\n",
       "    .dataframe thead tr:only-child th {\n",
       "        text-align: right;\n",
       "    }\n",
       "\n",
       "    .dataframe thead th {\n",
       "        text-align: left;\n",
       "    }\n",
       "\n",
       "    .dataframe tbody tr th {\n",
       "        vertical-align: top;\n",
       "    }\n",
       "</style>\n",
       "<table border=\"1\" class=\"dataframe\">\n",
       "  <thead>\n",
       "    <tr style=\"text-align: right;\">\n",
       "      <th></th>\n",
       "      <th>count</th>\n",
       "      <th>mean</th>\n",
       "      <th>std</th>\n",
       "      <th>min</th>\n",
       "      <th>25%</th>\n",
       "      <th>50%</th>\n",
       "      <th>75%</th>\n",
       "      <th>max</th>\n",
       "    </tr>\n",
       "  </thead>\n",
       "  <tbody>\n",
       "    <tr>\n",
       "      <th>mean(°C)</th>\n",
       "      <td>1422.0</td>\n",
       "      <td>13.621449</td>\n",
       "      <td>10.897694</td>\n",
       "      <td>-14.8</td>\n",
       "      <td>4.5</td>\n",
       "      <td>15.05</td>\n",
       "      <td>23.00</td>\n",
       "      <td>33.7</td>\n",
       "    </tr>\n",
       "    <tr>\n",
       "      <th>prep(mm)</th>\n",
       "      <td>1422.0</td>\n",
       "      <td>3.075879</td>\n",
       "      <td>11.870504</td>\n",
       "      <td>0.0</td>\n",
       "      <td>0.0</td>\n",
       "      <td>0.00</td>\n",
       "      <td>0.20</td>\n",
       "      <td>144.5</td>\n",
       "    </tr>\n",
       "    <tr>\n",
       "      <th>humidity(%)</th>\n",
       "      <td>1422.0</td>\n",
       "      <td>57.805626</td>\n",
       "      <td>14.828366</td>\n",
       "      <td>21.8</td>\n",
       "      <td>46.8</td>\n",
       "      <td>57.80</td>\n",
       "      <td>67.75</td>\n",
       "      <td>97.0</td>\n",
       "    </tr>\n",
       "    <tr>\n",
       "      <th>whole_price</th>\n",
       "      <td>1422.0</td>\n",
       "      <td>42726.482419</td>\n",
       "      <td>8715.628739</td>\n",
       "      <td>30000.0</td>\n",
       "      <td>35000.0</td>\n",
       "      <td>42000.00</td>\n",
       "      <td>48000.00</td>\n",
       "      <td>72000.0</td>\n",
       "    </tr>\n",
       "    <tr>\n",
       "      <th>retail_price</th>\n",
       "      <td>1422.0</td>\n",
       "      <td>34073.915612</td>\n",
       "      <td>4898.399089</td>\n",
       "      <td>22767.0</td>\n",
       "      <td>30767.0</td>\n",
       "      <td>33165.00</td>\n",
       "      <td>36543.00</td>\n",
       "      <td>50210.0</td>\n",
       "    </tr>\n",
       "  </tbody>\n",
       "</table>\n",
       "</div>"
      ],
      "text/plain": [
       "               count          mean          std      min      25%       50%  \\\n",
       "mean(°C)      1422.0     13.621449    10.897694    -14.8      4.5     15.05   \n",
       "prep(mm)      1422.0      3.075879    11.870504      0.0      0.0      0.00   \n",
       "humidity(%)   1422.0     57.805626    14.828366     21.8     46.8     57.80   \n",
       "whole_price   1422.0  42726.482419  8715.628739  30000.0  35000.0  42000.00   \n",
       "retail_price  1422.0  34073.915612  4898.399089  22767.0  30767.0  33165.00   \n",
       "\n",
       "                   75%      max  \n",
       "mean(°C)         23.00     33.7  \n",
       "prep(mm)          0.20    144.5  \n",
       "humidity(%)      67.75     97.0  \n",
       "whole_price   48000.00  72000.0  \n",
       "retail_price  36543.00  50210.0  "
      ]
     },
     "execution_count": 4,
     "metadata": {},
     "output_type": "execute_result"
    }
   ],
   "source": [
    "train_stats = signal_data.describe()\n",
    "train_stats.pop(\"date\")\n",
    "train_stats = train_stats.transpose()\n",
    "\n",
    "train_stats\n"
   ]
  },
  {
   "cell_type": "code",
   "execution_count": 5,
   "metadata": {},
   "outputs": [
    {
     "name": "stdout",
     "output_type": "stream",
     "text": [
      "[30000. 30000. 30000. ... 34323. 35433. 35433.]\n"
     ]
    }
   ],
   "source": [
    "rtp = retail_price[:,-1]\n",
    "print(rtp)"
   ]
  },
  {
   "cell_type": "code",
   "execution_count": 6,
   "metadata": {
    "collapsed": true
   },
   "outputs": [],
   "source": [
    "std = np.std(rtp)"
   ]
  },
  {
   "cell_type": "code",
   "execution_count": 7,
   "metadata": {},
   "outputs": [
    {
     "data": {
      "text/plain": [
       "4896.6764235650735"
      ]
     },
     "execution_count": 7,
     "metadata": {},
     "output_type": "execute_result"
    }
   ],
   "source": [
    "std"
   ]
  },
  {
   "cell_type": "markdown",
   "metadata": {},
   "source": [
    "### create dataset을 수행한 뒤 데이터 분할"
   ]
  },
  {
   "cell_type": "code",
   "execution_count": 8,
   "metadata": {},
   "outputs": [
    {
     "data": {
      "text/plain": [
       "(1422, 6)"
      ]
     },
     "execution_count": 8,
     "metadata": {},
     "output_type": "execute_result"
    }
   ],
   "source": [
    "signal_data.shape"
   ]
  },
  {
   "cell_type": "code",
   "execution_count": 9,
   "metadata": {
    "collapsed": true
   },
   "outputs": [],
   "source": [
    "# 데이터셋 생성\n",
    "x_train = X[0:850,]\n",
    "y_train = Y[0:850,] \n",
    "\n",
    "x_val = X[850:1100]\n",
    "y_val = Y[850:1100]\n",
    "\n",
    "x_test = X[1100:,]\n",
    "y_test = Y[1100:,]\n",
    "y_test_var = y_test\n"
   ]
  },
  {
   "cell_type": "code",
   "execution_count": 10,
   "metadata": {},
   "outputs": [
    {
     "name": "stdout",
     "output_type": "stream",
     "text": [
      "WARNING:tensorflow:From C:\\ProgramData\\Anaconda3\\lib\\site-packages\\keras\\backend\\tensorflow_backend.py:74: The name tf.get_default_graph is deprecated. Please use tf.compat.v1.get_default_graph instead.\n",
      "\n",
      "WARNING:tensorflow:From C:\\ProgramData\\Anaconda3\\lib\\site-packages\\keras\\backend\\tensorflow_backend.py:517: The name tf.placeholder is deprecated. Please use tf.compat.v1.placeholder instead.\n",
      "\n",
      "WARNING:tensorflow:From C:\\ProgramData\\Anaconda3\\lib\\site-packages\\keras\\backend\\tensorflow_backend.py:4138: The name tf.random_uniform is deprecated. Please use tf.random.uniform instead.\n",
      "\n",
      "WARNING:tensorflow:From C:\\ProgramData\\Anaconda3\\lib\\site-packages\\keras\\optimizers.py:790: The name tf.train.Optimizer is deprecated. Please use tf.compat.v1.train.Optimizer instead.\n",
      "\n"
     ]
    }
   ],
   "source": [
    "# 2. 모델 구성하기\n",
    "model = Sequential()\n",
    "model.add(LSTM(32, input_shape=(7, 5), activation='relu', return_sequences=True))\n",
    "model.add(LSTM(32, activation='relu', return_sequences=True))\n",
    "model.add(LSTM(32, activation='relu', return_sequences=False))\n",
    "#model.add(Dropout(0.3))\n",
    "model.add(Dense(1))\n",
    "\n",
    "#3. 모델 아키텍쳐 살펴보기\n",
    "# model.summary()\n",
    "\n",
    "# 4. 모델 학습과정 설정하기\n",
    "model.compile(loss='mse', optimizer='adam', metrics=['mae'])\n",
    "#model.compile(loss='mse', optimizer='adam', metrics=['mse'])"
   ]
  },
  {
   "cell_type": "code",
   "execution_count": 11,
   "metadata": {
    "collapsed": true
   },
   "outputs": [],
   "source": [
    "#5.모델 학습시키기\n",
    "#5.1. Early Stopping\n",
    "callbacks_list = [\n",
    "    EarlyStopping(\n",
    "    monitor='val_loss',\n",
    "    patience=30 ,\n",
    "    ),\n",
    "#     ModelCheckpoint(\n",
    "#     filepath='multi_model.h5',\n",
    "#     monitor='val_loss',\n",
    "#     save_best_only = True,\n",
    "#     )\n",
    "]\n"
   ]
  },
  {
   "cell_type": "code",
   "execution_count": 12,
   "metadata": {
    "scrolled": true
   },
   "outputs": [
    {
     "name": "stdout",
     "output_type": "stream",
     "text": [
      "WARNING:tensorflow:From C:\\ProgramData\\Anaconda3\\lib\\site-packages\\tensorflow_core\\python\\ops\\math_grad.py:1424: where (from tensorflow.python.ops.array_ops) is deprecated and will be removed in a future version.\n",
      "Instructions for updating:\n",
      "Use tf.where in 2.0, which has the same broadcast rule as np.where\n",
      "WARNING:tensorflow:From C:\\ProgramData\\Anaconda3\\lib\\site-packages\\keras\\backend\\tensorflow_backend.py:986: The name tf.assign_add is deprecated. Please use tf.compat.v1.assign_add instead.\n",
      "\n",
      "WARNING:tensorflow:From C:\\ProgramData\\Anaconda3\\lib\\site-packages\\keras\\backend\\tensorflow_backend.py:973: The name tf.assign is deprecated. Please use tf.compat.v1.assign instead.\n",
      "\n",
      "WARNING:tensorflow:From C:\\ProgramData\\Anaconda3\\lib\\site-packages\\keras\\backend\\tensorflow_backend.py:2741: The name tf.Session is deprecated. Please use tf.compat.v1.Session instead.\n",
      "\n",
      "Train on 850 samples, validate on 250 samples\n",
      "Epoch 1/300\n",
      "WARNING:tensorflow:From C:\\ProgramData\\Anaconda3\\lib\\site-packages\\keras\\backend\\tensorflow_backend.py:174: The name tf.get_default_session is deprecated. Please use tf.compat.v1.get_default_session instead.\n",
      "\n",
      "WARNING:tensorflow:From C:\\ProgramData\\Anaconda3\\lib\\site-packages\\keras\\backend\\tensorflow_backend.py:181: The name tf.ConfigProto is deprecated. Please use tf.compat.v1.ConfigProto instead.\n",
      "\n",
      "WARNING:tensorflow:From C:\\ProgramData\\Anaconda3\\lib\\site-packages\\keras\\backend\\tensorflow_backend.py:190: The name tf.global_variables is deprecated. Please use tf.compat.v1.global_variables instead.\n",
      "\n",
      "WARNING:tensorflow:From C:\\ProgramData\\Anaconda3\\lib\\site-packages\\keras\\backend\\tensorflow_backend.py:199: The name tf.is_variable_initialized is deprecated. Please use tf.compat.v1.is_variable_initialized instead.\n",
      "\n",
      "WARNING:tensorflow:From C:\\ProgramData\\Anaconda3\\lib\\site-packages\\keras\\backend\\tensorflow_backend.py:206: The name tf.variables_initializer is deprecated. Please use tf.compat.v1.variables_initializer instead.\n",
      "\n",
      "850/850 [==============================] - 4s 5ms/step - loss: 787854498.6353 - mean_absolute_error: 27477.7936 - val_loss: 625273761.2800 - val_mean_absolute_error: 24220.6985\n",
      "Epoch 2/300\n",
      "850/850 [==============================] - 1s 1ms/step - loss: 225184189.0165 - mean_absolute_error: 12481.0945 - val_loss: 156777235.9750 - val_mean_absolute_error: 8606.1379\n",
      "Epoch 3/300\n",
      "850/850 [==============================] - 1s 1ms/step - loss: 56245528.7285 - mean_absolute_error: 4330.0796 - val_loss: 42829430.5590 - val_mean_absolute_error: 3959.6608\n",
      "Epoch 4/300\n",
      "850/850 [==============================] - 1s 1ms/step - loss: 40237841.7694 - mean_absolute_error: 4391.3317 - val_loss: 34086935.4320 - val_mean_absolute_error: 3832.1396\n",
      "Epoch 5/300\n",
      "850/850 [==============================] - 1s 1ms/step - loss: 12537979.3231 - mean_absolute_error: 2382.7836 - val_loss: 17196393.8460 - val_mean_absolute_error: 2637.1719\n",
      "Epoch 6/300\n",
      "850/850 [==============================] - 1s 1ms/step - loss: 10250207.4269 - mean_absolute_error: 2097.3874 - val_loss: 16767350.4530 - val_mean_absolute_error: 2521.8052\n",
      "Epoch 7/300\n",
      "850/850 [==============================] - 1s 1ms/step - loss: 10027651.8541 - mean_absolute_error: 2032.3639 - val_loss: 12929535.8400 - val_mean_absolute_error: 2376.3507\n",
      "Epoch 8/300\n",
      "850/850 [==============================] - 1s 1ms/step - loss: 28443847.7106 - mean_absolute_error: 3181.3187 - val_loss: 16546420.4902 - val_mean_absolute_error: 2684.1228\n",
      "Epoch 9/300\n",
      "850/850 [==============================] - 1s 1ms/step - loss: 11438599.1153 - mean_absolute_error: 2312.4822 - val_loss: 47245288.4680 - val_mean_absolute_error: 5785.7561\n",
      "Epoch 10/300\n",
      "850/850 [==============================] - 1s 1ms/step - loss: 15049415.6054 - mean_absolute_error: 2610.0748 - val_loss: 16937684.2740 - val_mean_absolute_error: 2942.6281\n",
      "Epoch 11/300\n",
      "850/850 [==============================] - 1s 1ms/step - loss: 11942263.9224 - mean_absolute_error: 2499.1611 - val_loss: 14051359.3920 - val_mean_absolute_error: 2968.6990\n",
      "Epoch 12/300\n",
      "850/850 [==============================] - 1s 1ms/step - loss: 10207307.6659 - mean_absolute_error: 2033.2823 - val_loss: 12664314.7409 - val_mean_absolute_error: 2290.2170\n",
      "Epoch 13/300\n",
      "850/850 [==============================] - 1s 1ms/step - loss: 7443381.8941 - mean_absolute_error: 1756.8461 - val_loss: 12674722.3080 - val_mean_absolute_error: 2709.7409\n",
      "Epoch 14/300\n",
      "850/850 [==============================] - 1s 1ms/step - loss: 8444690.1812 - mean_absolute_error: 1942.7312 - val_loss: 10918985.1288 - val_mean_absolute_error: 2089.6916\n",
      "Epoch 15/300\n",
      "850/850 [==============================] - 1s 1ms/step - loss: 15429086.6941 - mean_absolute_error: 2668.1261 - val_loss: 31570468.5200 - val_mean_absolute_error: 4634.5545\n",
      "Epoch 16/300\n",
      "850/850 [==============================] - 1s 1ms/step - loss: 10084271.7353 - mean_absolute_error: 2194.0340 - val_loss: 9783654.6361 - val_mean_absolute_error: 1893.7455\n",
      "Epoch 17/300\n",
      "850/850 [==============================] - 1s 1ms/step - loss: 4588085.3557 - mean_absolute_error: 1296.6192 - val_loss: 9037299.1602 - val_mean_absolute_error: 1688.0822\n",
      "Epoch 18/300\n",
      "850/850 [==============================] - 1s 1ms/step - loss: 4012189.5861 - mean_absolute_error: 1158.8941 - val_loss: 9287649.3376 - val_mean_absolute_error: 1705.5160\n",
      "Epoch 19/300\n",
      "850/850 [==============================] - 1s 1ms/step - loss: 3999293.3771 - mean_absolute_error: 1134.2426 - val_loss: 9071050.3468 - val_mean_absolute_error: 1721.6602\n",
      "Epoch 20/300\n",
      "850/850 [==============================] - 1s 1ms/step - loss: 4069654.5097 - mean_absolute_error: 1279.9460 - val_loss: 9233289.6260 - val_mean_absolute_error: 1865.1503\n",
      "Epoch 21/300\n",
      "850/850 [==============================] - 1s 1ms/step - loss: 4348671.8865 - mean_absolute_error: 1177.4632 - val_loss: 9545120.8438 - val_mean_absolute_error: 1707.6640\n",
      "Epoch 22/300\n",
      "850/850 [==============================] - 1s 1ms/step - loss: 5049255.7274 - mean_absolute_error: 1247.1957 - val_loss: 14692415.6635 - val_mean_absolute_error: 2578.0965\n",
      "Epoch 23/300\n",
      "850/850 [==============================] - 1s 1ms/step - loss: 8319351.0894 - mean_absolute_error: 1780.1833 - val_loss: 62205467.1000 - val_mean_absolute_error: 6627.9377\n",
      "Epoch 24/300\n",
      "850/850 [==============================] - 1s 1ms/step - loss: 11224067.7776 - mean_absolute_error: 2398.8255 - val_loss: 55524697.9640 - val_mean_absolute_error: 6403.4868\n",
      "Epoch 25/300\n",
      "850/850 [==============================] - 1s 1ms/step - loss: 40226627.2413 - mean_absolute_error: 4539.1212 - val_loss: 46774300.6547 - val_mean_absolute_error: 3625.4789\n",
      "Epoch 26/300\n",
      "850/850 [==============================] - 1s 1ms/step - loss: 40201538.4188 - mean_absolute_error: 4161.1333 - val_loss: 85239502.7780 - val_mean_absolute_error: 7557.9801\n",
      "Epoch 27/300\n",
      "850/850 [==============================] - 1s 1ms/step - loss: 18452434.0808 - mean_absolute_error: 3054.2394 - val_loss: 15626179.3385 - val_mean_absolute_error: 2250.0009\n",
      "Epoch 28/300\n",
      "850/850 [==============================] - 1s 1ms/step - loss: 5789041.3344 - mean_absolute_error: 1466.9349 - val_loss: 33221041.7760 - val_mean_absolute_error: 3412.4401\n",
      "Epoch 29/300\n",
      "850/850 [==============================] - 1s 1ms/step - loss: 12171929.4659 - mean_absolute_error: 2603.7888 - val_loss: 27312226.8000 - val_mean_absolute_error: 4546.8002\n",
      "Epoch 30/300\n",
      "850/850 [==============================] - 1s 1ms/step - loss: 18166357.9953 - mean_absolute_error: 3362.1585 - val_loss: 20802831.8240 - val_mean_absolute_error: 3997.1617\n",
      "Epoch 31/300\n",
      "850/850 [==============================] - 1s 1ms/step - loss: 8319185.5471 - mean_absolute_error: 2117.0968 - val_loss: 11602509.4663 - val_mean_absolute_error: 1546.6283\n",
      "Epoch 32/300\n",
      "850/850 [==============================] - 1s 1ms/step - loss: 6003083.9115 - mean_absolute_error: 1722.2962 - val_loss: 12007170.2760 - val_mean_absolute_error: 1591.7308\n",
      "Epoch 33/300\n",
      "850/850 [==============================] - 1s 1ms/step - loss: 3350695.4951 - mean_absolute_error: 1046.0525 - val_loss: 11851000.7765 - val_mean_absolute_error: 1650.1468\n",
      "Epoch 34/300\n",
      "850/850 [==============================] - 1s 1ms/step - loss: 3288390.1787 - mean_absolute_error: 969.9224 - val_loss: 11508285.7507 - val_mean_absolute_error: 1642.9720\n"
     ]
    },
    {
     "name": "stdout",
     "output_type": "stream",
     "text": [
      "Epoch 35/300\n",
      "850/850 [==============================] - 1s 1ms/step - loss: 3131215.0203 - mean_absolute_error: 948.8540 - val_loss: 11257313.6694 - val_mean_absolute_error: 1568.2478\n",
      "Epoch 36/300\n",
      "850/850 [==============================] - 1s 1ms/step - loss: 3009168.0004 - mean_absolute_error: 880.1763 - val_loss: 11149722.6777 - val_mean_absolute_error: 1501.0757\n",
      "Epoch 37/300\n",
      "850/850 [==============================] - 1s 1ms/step - loss: 3221601.6703 - mean_absolute_error: 927.0311 - val_loss: 11033228.0448 - val_mean_absolute_error: 1530.0082\n",
      "Epoch 38/300\n",
      "850/850 [==============================] - 1s 1ms/step - loss: 3057961.6949 - mean_absolute_error: 882.8772 - val_loss: 11085080.5747 - val_mean_absolute_error: 1503.1144\n",
      "Epoch 39/300\n",
      "850/850 [==============================] - 1s 1ms/step - loss: 3066711.6631 - mean_absolute_error: 924.4266 - val_loss: 11238171.7965 - val_mean_absolute_error: 1638.6926\n",
      "Epoch 40/300\n",
      "850/850 [==============================] - 1s 1ms/step - loss: 3257631.8441 - mean_absolute_error: 1069.0158 - val_loss: 7524220.1531 - val_mean_absolute_error: 1250.5546\n",
      "Epoch 41/300\n",
      "850/850 [==============================] - 1s 1ms/step - loss: 2851189.7004 - mean_absolute_error: 917.1927 - val_loss: 7293524.7843 - val_mean_absolute_error: 1298.8651\n",
      "Epoch 42/300\n",
      "850/850 [==============================] - 1s 1ms/step - loss: 2750352.6285 - mean_absolute_error: 848.3547 - val_loss: 7277766.3847 - val_mean_absolute_error: 1295.5844\n",
      "Epoch 43/300\n",
      "850/850 [==============================] - 1s 1ms/step - loss: 2768651.2608 - mean_absolute_error: 868.7438 - val_loss: 7263131.8422 - val_mean_absolute_error: 1274.5130\n",
      "Epoch 44/300\n",
      "850/850 [==============================] - 1s 1ms/step - loss: 2756766.2019 - mean_absolute_error: 863.9478 - val_loss: 7260949.1443 - val_mean_absolute_error: 1268.8050\n",
      "Epoch 45/300\n",
      "850/850 [==============================] - 1s 1ms/step - loss: 2741950.0269 - mean_absolute_error: 829.9406 - val_loss: 7302873.5200 - val_mean_absolute_error: 1273.0776\n",
      "Epoch 46/300\n",
      "850/850 [==============================] - 1s 1ms/step - loss: 2791216.2823 - mean_absolute_error: 849.0696 - val_loss: 7287943.3941 - val_mean_absolute_error: 1263.1523\n",
      "Epoch 47/300\n",
      "850/850 [==============================] - 1s 1ms/step - loss: 2727150.2415 - mean_absolute_error: 840.5195 - val_loss: 7367370.4018 - val_mean_absolute_error: 1372.4435\n",
      "Epoch 48/300\n",
      "850/850 [==============================] - 1s 1ms/step - loss: 2742782.9525 - mean_absolute_error: 854.3385 - val_loss: 7281420.7758 - val_mean_absolute_error: 1258.6386\n",
      "Epoch 49/300\n",
      "850/850 [==============================] - 1s 1ms/step - loss: 2755855.6268 - mean_absolute_error: 884.5817 - val_loss: 7643034.2790 - val_mean_absolute_error: 1597.0294\n",
      "Epoch 50/300\n",
      "850/850 [==============================] - 1s 1ms/step - loss: 2878645.6088 - mean_absolute_error: 887.6676 - val_loss: 7166949.4660 - val_mean_absolute_error: 1302.0665\n",
      "Epoch 51/300\n",
      "850/850 [==============================] - 1s 1ms/step - loss: 2852135.4384 - mean_absolute_error: 881.3944 - val_loss: 7121380.3736 - val_mean_absolute_error: 1274.2788\n",
      "Epoch 52/300\n",
      "850/850 [==============================] - 1s 1ms/step - loss: 2774109.9274 - mean_absolute_error: 850.4913 - val_loss: 7214594.7311 - val_mean_absolute_error: 1360.2907\n",
      "Epoch 53/300\n",
      "850/850 [==============================] - 1s 1ms/step - loss: 2867857.1787 - mean_absolute_error: 957.4432 - val_loss: 7174366.2265 - val_mean_absolute_error: 1371.0870\n",
      "Epoch 54/300\n",
      "850/850 [==============================] - 1s 1ms/step - loss: 2781830.5715 - mean_absolute_error: 902.0655 - val_loss: 7450308.7893 - val_mean_absolute_error: 1399.4702\n",
      "Epoch 55/300\n",
      "850/850 [==============================] - 1s 1ms/step - loss: 2845816.2729 - mean_absolute_error: 890.7785 - val_loss: 7337583.1235 - val_mean_absolute_error: 1297.4791\n",
      "Epoch 56/300\n",
      "850/850 [==============================] - 1s 1ms/step - loss: 2786493.2772 - mean_absolute_error: 873.2809 - val_loss: 7311556.1829 - val_mean_absolute_error: 1261.2821\n",
      "Epoch 57/300\n",
      "850/850 [==============================] - 1s 1ms/step - loss: 2740125.5050 - mean_absolute_error: 867.5642 - val_loss: 7417875.7466 - val_mean_absolute_error: 1380.0703\n",
      "Epoch 58/300\n",
      "850/850 [==============================] - 1s 1ms/step - loss: 2733623.5207 - mean_absolute_error: 812.6196 - val_loss: 7498682.6074 - val_mean_absolute_error: 1427.0196\n",
      "Epoch 59/300\n",
      "850/850 [==============================] - 1s 1ms/step - loss: 2882769.1762 - mean_absolute_error: 971.0103 - val_loss: 7470248.3849 - val_mean_absolute_error: 1480.9442\n",
      "Epoch 60/300\n",
      "850/850 [==============================] - 1s 1ms/step - loss: 2737581.1359 - mean_absolute_error: 867.1755 - val_loss: 7325027.8264 - val_mean_absolute_error: 1333.1043\n",
      "Epoch 61/300\n",
      "850/850 [==============================] - 1s 1ms/step - loss: 2737092.8059 - mean_absolute_error: 848.1225 - val_loss: 7378522.5116 - val_mean_absolute_error: 1380.2589\n",
      "Epoch 62/300\n",
      "850/850 [==============================] - 1s 1ms/step - loss: 2792467.7877 - mean_absolute_error: 879.9043 - val_loss: 7291356.1834 - val_mean_absolute_error: 1329.3865\n",
      "Epoch 63/300\n",
      "850/850 [==============================] - 1s 1ms/step - loss: 2733107.8473 - mean_absolute_error: 860.7819 - val_loss: 7327965.2548 - val_mean_absolute_error: 1369.9377\n",
      "Epoch 64/300\n",
      "850/850 [==============================] - 1s 1ms/step - loss: 2704945.2203 - mean_absolute_error: 859.1502 - val_loss: 7216343.4499 - val_mean_absolute_error: 1312.7372\n",
      "Epoch 65/300\n",
      "850/850 [==============================] - 1s 1ms/step - loss: 2692703.7814 - mean_absolute_error: 845.8524 - val_loss: 7434383.2095 - val_mean_absolute_error: 1461.4714\n",
      "Epoch 66/300\n",
      "850/850 [==============================] - 1s 1ms/step - loss: 2740935.1385 - mean_absolute_error: 887.8025 - val_loss: 7158315.7941 - val_mean_absolute_error: 1314.6601\n",
      "Epoch 67/300\n",
      "850/850 [==============================] - 1s 1ms/step - loss: 2687857.0351 - mean_absolute_error: 876.6723 - val_loss: 7165727.1733 - val_mean_absolute_error: 1310.0363\n",
      "Epoch 68/300\n",
      "850/850 [==============================] - 1s 1ms/step - loss: 2753833.7906 - mean_absolute_error: 911.8562 - val_loss: 7164097.1239 - val_mean_absolute_error: 1312.3736\n",
      "Epoch 69/300\n",
      "850/850 [==============================] - 1s 1ms/step - loss: 2682048.9275 - mean_absolute_error: 833.9012 - val_loss: 7242211.6449 - val_mean_absolute_error: 1341.1464\n",
      "Epoch 70/300\n",
      "850/850 [==============================] - 1s 1ms/step - loss: 2663979.8646 - mean_absolute_error: 832.2815 - val_loss: 7147049.8159 - val_mean_absolute_error: 1314.7559\n",
      "Epoch 71/300\n",
      "850/850 [==============================] - 1s 1ms/step - loss: 2660423.1493 - mean_absolute_error: 863.6627 - val_loss: 7335260.1838 - val_mean_absolute_error: 1413.2038\n",
      "Epoch 72/300\n",
      "850/850 [==============================] - 1s 1ms/step - loss: 2720001.4106 - mean_absolute_error: 866.7578 - val_loss: 7133535.2580 - val_mean_absolute_error: 1320.0308\n",
      "Epoch 73/300\n",
      "850/850 [==============================] - 1s 1ms/step - loss: 2639259.5253 - mean_absolute_error: 800.1952 - val_loss: 7150369.2133 - val_mean_absolute_error: 1324.6683\n",
      "Epoch 74/300\n",
      "850/850 [==============================] - 1s 1ms/step - loss: 2691093.6456 - mean_absolute_error: 881.1067 - val_loss: 7647591.1665 - val_mean_absolute_error: 1601.2369\n",
      "Epoch 75/300\n",
      "850/850 [==============================] - 1s 1ms/step - loss: 2644473.1544 - mean_absolute_error: 841.4274 - val_loss: 7229211.0523 - val_mean_absolute_error: 1425.7246\n",
      "Epoch 76/300\n",
      "850/850 [==============================] - 1s 1ms/step - loss: 2683158.3562 - mean_absolute_error: 840.7810 - val_loss: 7130564.2904 - val_mean_absolute_error: 1343.4700\n",
      "Epoch 77/300\n",
      "850/850 [==============================] - 1s 1ms/step - loss: 2787312.5251 - mean_absolute_error: 943.5835 - val_loss: 7273499.1279 - val_mean_absolute_error: 1481.7830\n",
      "Epoch 78/300\n",
      "850/850 [==============================] - 1s 1ms/step - loss: 2668094.5849 - mean_absolute_error: 865.2587 - val_loss: 7089715.4617 - val_mean_absolute_error: 1250.3529\n",
      "Epoch 79/300\n",
      "850/850 [==============================] - 1s 1ms/step - loss: 2602283.2626 - mean_absolute_error: 911.2876 - val_loss: 6796659.7296 - val_mean_absolute_error: 1225.1352\n"
     ]
    },
    {
     "name": "stdout",
     "output_type": "stream",
     "text": [
      "Epoch 80/300\n",
      "850/850 [==============================] - 1s 1ms/step - loss: 2487386.8936 - mean_absolute_error: 867.2367 - val_loss: 5997060.9270 - val_mean_absolute_error: 1206.1720\n",
      "Epoch 81/300\n",
      "850/850 [==============================] - 1s 1ms/step - loss: 3036047.8912 - mean_absolute_error: 1115.5997 - val_loss: 8029792.1400 - val_mean_absolute_error: 1716.7793\n",
      "Epoch 82/300\n",
      "850/850 [==============================] - 1s 1ms/step - loss: 3116748.7967 - mean_absolute_error: 971.2652 - val_loss: 7296238.2640 - val_mean_absolute_error: 1356.8643\n",
      "Epoch 83/300\n",
      "850/850 [==============================] - 1s 1ms/step - loss: 2887189.5166 - mean_absolute_error: 919.4913 - val_loss: 6948239.8765 - val_mean_absolute_error: 1338.2047\n",
      "Epoch 84/300\n",
      "850/850 [==============================] - 1s 1ms/step - loss: 2772549.5847 - mean_absolute_error: 944.2734 - val_loss: 7037856.4481 - val_mean_absolute_error: 1318.0584\n",
      "Epoch 85/300\n",
      "850/850 [==============================] - 1s 1ms/step - loss: 2929421.5621 - mean_absolute_error: 1003.5978 - val_loss: 6778580.8959 - val_mean_absolute_error: 1446.5882\n",
      "Epoch 86/300\n",
      "850/850 [==============================] - 1s 1ms/step - loss: 2909836.2655 - mean_absolute_error: 971.0226 - val_loss: 6309658.3602 - val_mean_absolute_error: 1152.5702\n",
      "Epoch 87/300\n",
      "850/850 [==============================] - 1s 1ms/step - loss: 2588979.2629 - mean_absolute_error: 828.5175 - val_loss: 6685272.9809 - val_mean_absolute_error: 1288.9973\n",
      "Epoch 88/300\n",
      "850/850 [==============================] - 1s 1ms/step - loss: 2996099.9930 - mean_absolute_error: 1088.4047 - val_loss: 7348944.1537 - val_mean_absolute_error: 1539.5602\n",
      "Epoch 89/300\n",
      "850/850 [==============================] - 1s 1ms/step - loss: 2770262.5410 - mean_absolute_error: 1007.8067 - val_loss: 6185308.1649 - val_mean_absolute_error: 1200.0772\n",
      "Epoch 90/300\n",
      "850/850 [==============================] - 1s 1ms/step - loss: 2510361.6934 - mean_absolute_error: 960.2135 - val_loss: 5942059.9256 - val_mean_absolute_error: 1132.3859\n",
      "Epoch 91/300\n",
      "850/850 [==============================] - 1s 1ms/step - loss: 2956381.3003 - mean_absolute_error: 965.3123 - val_loss: 7288258.2250 - val_mean_absolute_error: 1500.7326\n",
      "Epoch 92/300\n",
      "850/850 [==============================] - 1s 1ms/step - loss: 3253508.5396 - mean_absolute_error: 1093.6676 - val_loss: 6291838.3642 - val_mean_absolute_error: 1391.9298\n",
      "Epoch 93/300\n",
      "850/850 [==============================] - 1s 1ms/step - loss: 2823391.5010 - mean_absolute_error: 940.2575 - val_loss: 6093677.2378 - val_mean_absolute_error: 1284.7691\n",
      "Epoch 94/300\n",
      "850/850 [==============================] - 1s 1ms/step - loss: 2551674.2329 - mean_absolute_error: 820.2309 - val_loss: 5902330.0864 - val_mean_absolute_error: 1141.5317\n",
      "Epoch 95/300\n",
      "850/850 [==============================] - 1s 1ms/step - loss: 3353982.1503 - mean_absolute_error: 1036.0362 - val_loss: 29619111.3920 - val_mean_absolute_error: 4758.0506\n",
      "Epoch 96/300\n",
      "850/850 [==============================] - 1s 1ms/step - loss: 7639591.7894 - mean_absolute_error: 2077.7899 - val_loss: 8550661.1330 - val_mean_absolute_error: 1823.0779\n",
      "Epoch 97/300\n",
      "850/850 [==============================] - 1s 1ms/step - loss: 5012121.9263 - mean_absolute_error: 1410.7193 - val_loss: 7181444.8660 - val_mean_absolute_error: 1448.9684\n",
      "Epoch 98/300\n",
      "850/850 [==============================] - 1s 1ms/step - loss: 3212399.3281 - mean_absolute_error: 1087.5711 - val_loss: 7352149.1760 - val_mean_absolute_error: 1643.5507\n",
      "Epoch 99/300\n",
      "850/850 [==============================] - 1s 1ms/step - loss: 2996660.0415 - mean_absolute_error: 990.8590 - val_loss: 6789964.4931 - val_mean_absolute_error: 1368.0745\n",
      "Epoch 100/300\n",
      "850/850 [==============================] - 1s 1ms/step - loss: 2912150.0119 - mean_absolute_error: 977.4286 - val_loss: 6673025.5985 - val_mean_absolute_error: 1231.1672\n",
      "Epoch 101/300\n",
      "850/850 [==============================] - 1s 1ms/step - loss: 2814587.8657 - mean_absolute_error: 902.8789 - val_loss: 6654418.7069 - val_mean_absolute_error: 1241.9106\n",
      "Epoch 102/300\n",
      "850/850 [==============================] - 1s 1ms/step - loss: 2695748.2547 - mean_absolute_error: 830.1252 - val_loss: 6943679.8070 - val_mean_absolute_error: 1490.2477\n",
      "Epoch 103/300\n",
      "850/850 [==============================] - 1s 1ms/step - loss: 2776721.4277 - mean_absolute_error: 928.3721 - val_loss: 6581442.3626 - val_mean_absolute_error: 1298.9228\n",
      "Epoch 104/300\n",
      "850/850 [==============================] - 1s 1ms/step - loss: 2736836.3316 - mean_absolute_error: 873.3880 - val_loss: 6474676.3275 - val_mean_absolute_error: 1206.3055\n",
      "Epoch 105/300\n",
      "850/850 [==============================] - 1s 1ms/step - loss: 2827314.0991 - mean_absolute_error: 945.1089 - val_loss: 6608806.6700 - val_mean_absolute_error: 1381.0084\n",
      "Epoch 106/300\n",
      "850/850 [==============================] - 1s 1ms/step - loss: 2609924.2874 - mean_absolute_error: 845.7948 - val_loss: 6720599.8335 - val_mean_absolute_error: 1426.4184\n",
      "Epoch 107/300\n",
      "850/850 [==============================] - 1s 1ms/step - loss: 2681573.6955 - mean_absolute_error: 862.4386 - val_loss: 6534008.9794 - val_mean_absolute_error: 1331.0539\n",
      "Epoch 108/300\n",
      "850/850 [==============================] - 1s 1ms/step - loss: 2639343.6456 - mean_absolute_error: 836.9265 - val_loss: 6645036.1652 - val_mean_absolute_error: 1425.2167\n",
      "Epoch 109/300\n",
      "850/850 [==============================] - 1s 1ms/step - loss: 2623768.4972 - mean_absolute_error: 822.9479 - val_loss: 6443593.4348 - val_mean_absolute_error: 1257.3627\n",
      "Epoch 110/300\n",
      "850/850 [==============================] - 1s 1ms/step - loss: 2632905.3659 - mean_absolute_error: 875.2280 - val_loss: 8336387.7960 - val_mean_absolute_error: 2013.1892\n",
      "Epoch 111/300\n",
      "850/850 [==============================] - 1s 1ms/step - loss: 3056184.6519 - mean_absolute_error: 1041.4177 - val_loss: 6874236.2274 - val_mean_absolute_error: 1193.5767\n",
      "Epoch 112/300\n",
      "850/850 [==============================] - 1s 1ms/step - loss: 2665917.1006 - mean_absolute_error: 851.6481 - val_loss: 6882526.5323 - val_mean_absolute_error: 1214.1857\n",
      "Epoch 113/300\n",
      "850/850 [==============================] - 1s 1ms/step - loss: 2548029.7124 - mean_absolute_error: 784.2664 - val_loss: 7079314.1805 - val_mean_absolute_error: 1301.0606\n",
      "Epoch 114/300\n",
      "850/850 [==============================] - 1s 1ms/step - loss: 2616148.3565 - mean_absolute_error: 844.7793 - val_loss: 7150045.7917 - val_mean_absolute_error: 1367.0934\n",
      "Epoch 115/300\n",
      "850/850 [==============================] - 1s 1ms/step - loss: 2665288.3953 - mean_absolute_error: 908.6363 - val_loss: 7165578.2166 - val_mean_absolute_error: 1368.0872\n",
      "Epoch 116/300\n",
      "850/850 [==============================] - 1s 1ms/step - loss: 2562031.5786 - mean_absolute_error: 819.1156 - val_loss: 6677375.1578 - val_mean_absolute_error: 1388.6291\n",
      "Epoch 117/300\n",
      "850/850 [==============================] - 1s 1ms/step - loss: 2550602.5638 - mean_absolute_error: 821.6961 - val_loss: 6578488.4654 - val_mean_absolute_error: 1317.5201\n",
      "Epoch 118/300\n",
      "850/850 [==============================] - 1s 1ms/step - loss: 2645988.5185 - mean_absolute_error: 907.7608 - val_loss: 6514598.0097 - val_mean_absolute_error: 1217.5224\n",
      "Epoch 119/300\n",
      "850/850 [==============================] - 1s 1ms/step - loss: 2554280.1975 - mean_absolute_error: 790.9213 - val_loss: 6618167.5129 - val_mean_absolute_error: 1345.9398\n",
      "Epoch 120/300\n",
      "850/850 [==============================] - 1s 1ms/step - loss: 2523588.8934 - mean_absolute_error: 796.6418 - val_loss: 6621361.7663 - val_mean_absolute_error: 1347.6066\n",
      "Epoch 121/300\n",
      "850/850 [==============================] - 1s 1ms/step - loss: 2487970.0537 - mean_absolute_error: 818.1368 - val_loss: 7260188.6835 - val_mean_absolute_error: 1640.5515\n",
      "Epoch 122/300\n",
      "850/850 [==============================] - 1s 1ms/step - loss: 2548454.1310 - mean_absolute_error: 826.3266 - val_loss: 6462508.9666 - val_mean_absolute_error: 1175.2401\n",
      "Epoch 123/300\n",
      "850/850 [==============================] - 1s 1ms/step - loss: 2523492.2122 - mean_absolute_error: 816.5465 - val_loss: 6483361.1924 - val_mean_absolute_error: 1200.5735\n",
      "Epoch 124/300\n",
      "850/850 [==============================] - 1s 1ms/step - loss: 2628191.4300 - mean_absolute_error: 876.7324 - val_loss: 6465096.4426 - val_mean_absolute_error: 1165.4450\n"
     ]
    }
   ],
   "source": [
    "# 5.2 모델 학습시키기\n",
    "hist = model.fit(x_train, y_train, epochs=300, batch_size=16, callbacks=callbacks_list, validation_data=(x_val, y_val))"
   ]
  },
  {
   "cell_type": "code",
   "execution_count": 13,
   "metadata": {},
   "outputs": [
    {
     "name": "stdout",
     "output_type": "stream",
     "text": [
      "315/315 [==============================] - 0s 154us/step\n",
      "mean_absolute_error: 936.35\n"
     ]
    }
   ],
   "source": [
    "# 6. 모델 평가하기\n",
    "scores = model.evaluate(x_test, y_test)\n",
    "print(\"%s: %.2f\" %(model.metrics_names[1], scores[1]))"
   ]
  },
  {
   "cell_type": "code",
   "execution_count": 16,
   "metadata": {
    "scrolled": true
   },
   "outputs": [
    {
     "data": {
      "image/png": "[encoded data removed]",
      "text/plain": [
       "<matplotlib.figure.Figure at 0x175d5276080>"
      ]
     },
     "metadata": {},
     "output_type": "display_data"
    }
   ],
   "source": [
    "# 6.1. 학습과정 살펴보기\n",
    "#epoch, loss 그래프\n",
    "loss = hist.history['loss']\n",
    "val_loss = hist.history['val_loss']\n",
    "\n",
    "\n",
    "epochs = range(1, len(loss)+1)\n",
    "plt.plot(epochs, loss, 'b', label='Training loss')\n",
    "plt.plot(epochs, val_loss, 'g', label='Validation loss')\n",
    "\n",
    "plt.title('Training/Validation loss and accuracy')\n",
    "plt.xlabel('Epochs')\n",
    "plt.ylabel('Loss')\n",
    "plt.legend()\n",
    "plt.show()"
   ]
  },
  {
   "cell_type": "code",
   "execution_count": 17,
   "metadata": {},
   "outputs": [
    {
     "name": "stdout",
     "output_type": "stream",
     "text": [
      "Train Score:  [2436659.011786822, 694.1995450457405]\n",
      "Validataion Score:  [6465096.5705625, 1165.445056640625]\n",
      "Test Score:  [3034155.876190476, 936.3527242993551]\n"
     ]
    }
   ],
   "source": [
    "# 6.2. 모델 평가하기\n",
    "trainScore = model.evaluate(x_train, y_train, verbose=0)\n",
    "model.reset_states()\n",
    "print('Train Score: ', trainScore)\n",
    "valScore = model.evaluate(x_val, y_val, verbose=0)\n",
    "model.reset_states()\n",
    "print('Validataion Score: ', valScore)\n",
    "testScore = model.evaluate(x_test, y_test, verbose=0)\n",
    "model.reset_states()\n",
    "print('Test Score: ', testScore)"
   ]
  },
  {
   "cell_type": "code",
   "execution_count": 18,
   "metadata": {},
   "outputs": [
    {
     "data": {
      "image/png": "[encoded data removed]",
      "text/plain": [
       "<matplotlib.figure.Figure at 0x175d514a748>"
      ]
     },
     "metadata": {},
     "output_type": "display_data"
    }
   ],
   "source": [
    "def show_diff(y_predict, y_label, y_test, y_test_label, y_value):\n",
    "\n",
    "    fig, predict_ax=plt.subplots()\n",
    "\n",
    "    predict_ax.plot(y_predict, 'y', label=y_label)\n",
    "\n",
    "    predict_ax.plot(y_test, 'r', label=y_test_label)\n",
    "\n",
    "    predict_ax.set_ylabel(y_value)\n",
    "\n",
    "    predict_ax.legend(loc = 'upper left')\n",
    "\n",
    "    plt.show()\n",
    "    \n",
    "#7 예측하기\n",
    "\n",
    "y_predict = model.predict(x_test).flatten()\n",
    "\n",
    "show_diff(y_predict, 'y_predict', y_test, 'y_test', 'price')"
   ]
  },
  {
   "cell_type": "code",
   "execution_count": 34,
   "metadata": {
    "collapsed": true
   },
   "outputs": [],
   "source": [
    "# 데이터 저장\n",
    "df = pd.DataFrame(y_predict)\n",
    "df.insert(0,'y_test',y_test_var)\n",
    "df = df.rename(columns = {0: 'y_predict'})\n",
    "df.to_csv('busna.csv', index=False)"
   ]
  },
  {
   "cell_type": "code",
   "execution_count": 19,
   "metadata": {},
   "outputs": [
    {
     "data": {
      "image/png": "[encoded data removed]",
      "text/plain": [
       "<matplotlib.figure.Figure at 0x175da392908>"
      ]
     },
     "metadata": {},
     "output_type": "display_data"
    }
   ],
   "source": [
    "\n",
    "test_predictions = y_test\n",
    "\n",
    "plt.scatter(y_test, y_predict)\n",
    "plt.xlabel('True Values')\n",
    "plt.ylabel('Predictions')\n",
    "plt.axis('equal')\n",
    "plt.axis('square')\n",
    "plt.xlim([10000,plt.xlim()[1]])\n",
    "plt.ylim([10000,plt.ylim()[1]])\n",
    "_ = plt.plot([-100000, 100000], [-100000, 100000])"
   ]
  },
  {
   "cell_type": "code",
   "execution_count": 33,
   "metadata": {},
   "outputs": [
    {
     "data": {
      "image/png": "[encoded data removed]",
      "text/plain": [
       "<matplotlib.figure.Figure at 0x175da9e3940>"
      ]
     },
     "metadata": {},
     "output_type": "display_data"
    }
   ],
   "source": [
    "test_predictions = y_test\n",
    "\n",
    "plt.scatter(y_predict, y_test)\n",
    "plt.xlabel('Predictions')\n",
    "plt.ylabel('True Values')\n",
    "plt.axis('equal')\n",
    "plt.axis('square')\n",
    "plt.xlim([10,plt.xlim()[1]])\n",
    "plt.ylim([10,plt.ylim()[1]])\n",
    "_ = plt.plot([-100000, 100000], [-100000, 100000])"
   ]
  },
  {
   "cell_type": "code",
   "execution_count": 20,
   "metadata": {},
   "outputs": [
    {
     "data": {
      "image/png": "[encoded data removed]",
      "text/plain": [
       "<matplotlib.figure.Figure at 0x175d526f1d0>"
      ]
     },
     "metadata": {},
     "output_type": "display_data"
    }
   ],
   "source": [
    "#오차의 분포\n",
    "error = y_predict - y_test\n",
    "plt.hist(error, bins = 35)\n",
    "plt.xlabel(\"Prediction Error\")\n",
    "_ = plt.ylabel(\"Count\")"
   ]
  },
  {
   "cell_type": "code",
   "execution_count": 21,
   "metadata": {},
   "outputs": [
    {
     "name": "stdout",
     "output_type": "stream",
     "text": [
      "RMSE: 1741.88\n"
     ]
    }
   ],
   "source": [
    "rmse = sqrt(mean_squared_error(y_predict,y_test))\n",
    "print(\"RMSE: {:.2f}\".format(rmse))"
   ]
  },
  {
   "cell_type": "code",
   "execution_count": 22,
   "metadata": {},
   "outputs": [
    {
     "name": "stdout",
     "output_type": "stream",
     "text": [
      "STD: 4896.68\n"
     ]
    }
   ],
   "source": [
    "print(\"STD: {:.2f}\".format(std))"
   ]
  },
  {
   "cell_type": "code",
   "execution_count": null,
   "metadata": {
    "collapsed": true
   },
   "outputs": [],
   "source": []
  }
 ],
 "metadata": {
  "kernelspec": {
   "display_name": "Python 3",
   "language": "python",
   "name": "python3"
  },
  "language_info": {
   "codemirror_mode": {
    "name": "ipython",
    "version": 3
   },
   "file_extension": ".py",
   "mimetype": "text/x-python",
   "name": "python",
   "nbconvert_exporter": "python",
   "pygments_lexer": "ipython3",
   "version": "3.6.1"
  }
 },
 "nbformat": 4,
 "nbformat_minor": 2
}
