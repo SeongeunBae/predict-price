{
 "cells": [
  {
   "cell_type": "code",
   "execution_count": 1,
   "metadata": {},
   "outputs": [
    {
     "name": "stderr",
     "output_type": "stream",
     "text": [
      "C:\\ProgramData\\Anaconda3\\lib\\site-packages\\h5py\\__init__.py:34: FutureWarning: Conversion of the second argument of issubdtype from `float` to `np.floating` is deprecated. In future, it will be treated as `np.float64 == np.dtype(float).type`.\n",
      "  from ._conv import register_converters as _register_converters\n",
      "Using TensorFlow backend.\n"
     ]
    }
   ],
   "source": [
    "# 0. 사용할 패키지 불러오기\n",
    "import numpy as np\n",
    "import pandas as pd\n",
    "from keras.models import Sequential\n",
    "from keras.layers import Dense, LSTM, Dropout\n",
    "import matplotlib.pyplot as plt\n",
    "%matplotlib inline\n",
    "from keras.callbacks import EarlyStopping\n",
    "from sklearn.metrics import mean_squared_error\n",
    "\n",
    "from math import sqrt\n",
    "\n",
    "np.random.seed(5)\n",
    "\n",
    "\n",
    "# 1. 데이터셋 생성하기\n",
    "signal_data = pd.read_csv('price_tomato1_B.csv', engine='python', encoding='ms949')\n",
    "data = signal_data.values\n",
    "retail_price = data\n",
    "\n",
    "#std = np.std(df[‘retail_price’].values)\n",
    "\n",
    "#create_ dataset\n",
    "def create_dataset(signal_data, look_back=1):\n",
    "    dataX, dataY = [], []\n",
    "    for i in range(len(signal_data)-look_back):\n",
    "        dataX.append(signal_data[i:(i+look_back), 1:])\n",
    "        dataY.append(signal_data[i + look_back, -1])\n",
    "    return np.array(dataX), np.array(dataY)\n",
    "\n",
    "look_back = 7\n",
    "\n",
    "#2. 데이터셋 분할\n",
    "X, Y = create_dataset(data, look_back)"
   ]
  },
  {
   "cell_type": "code",
   "execution_count": 2,
   "metadata": {},
   "outputs": [
    {
     "data": {
      "text/plain": [
       "array([4687., 4687., 4800., ..., 5167., 5167., 5167.])"
      ]
     },
     "execution_count": 2,
     "metadata": {},
     "output_type": "execute_result"
    }
   ],
   "source": [
    "Y"
   ]
  },
  {
   "cell_type": "code",
   "execution_count": 3,
   "metadata": {},
   "outputs": [
    {
     "data": {
      "text/html": [
       "<div>\n",
       "<style>\n",
       "    .dataframe thead tr:only-child th {\n",
       "        text-align: right;\n",
       "    }\n",
       "\n",
       "    .dataframe thead th {\n",
       "        text-align: left;\n",
       "    }\n",
       "\n",
       "    .dataframe tbody tr th {\n",
       "        vertical-align: top;\n",
       "    }\n",
       "</style>\n",
       "<table border=\"1\" class=\"dataframe\">\n",
       "  <thead>\n",
       "    <tr style=\"text-align: right;\">\n",
       "      <th></th>\n",
       "      <th>count</th>\n",
       "      <th>mean</th>\n",
       "      <th>std</th>\n",
       "      <th>min</th>\n",
       "      <th>25%</th>\n",
       "      <th>50%</th>\n",
       "      <th>75%</th>\n",
       "      <th>max</th>\n",
       "    </tr>\n",
       "  </thead>\n",
       "  <tbody>\n",
       "    <tr>\n",
       "      <th>mean(°C)</th>\n",
       "      <td>1428.0</td>\n",
       "      <td>13.590126</td>\n",
       "      <td>10.888134</td>\n",
       "      <td>-14.8</td>\n",
       "      <td>4.375</td>\n",
       "      <td>15.0</td>\n",
       "      <td>23.00</td>\n",
       "      <td>33.7</td>\n",
       "    </tr>\n",
       "    <tr>\n",
       "      <th>prep(mm)</th>\n",
       "      <td>1428.0</td>\n",
       "      <td>3.065616</td>\n",
       "      <td>11.846932</td>\n",
       "      <td>0.0</td>\n",
       "      <td>0.000</td>\n",
       "      <td>0.0</td>\n",
       "      <td>0.20</td>\n",
       "      <td>144.5</td>\n",
       "    </tr>\n",
       "    <tr>\n",
       "      <th>humidity(%)</th>\n",
       "      <td>1428.0</td>\n",
       "      <td>57.811975</td>\n",
       "      <td>14.807831</td>\n",
       "      <td>21.8</td>\n",
       "      <td>46.800</td>\n",
       "      <td>57.8</td>\n",
       "      <td>67.65</td>\n",
       "      <td>97.0</td>\n",
       "    </tr>\n",
       "    <tr>\n",
       "      <th>whole_price</th>\n",
       "      <td>1428.0</td>\n",
       "      <td>26850.842437</td>\n",
       "      <td>7535.074346</td>\n",
       "      <td>14000.0</td>\n",
       "      <td>20000.000</td>\n",
       "      <td>27000.0</td>\n",
       "      <td>32000.00</td>\n",
       "      <td>48000.0</td>\n",
       "    </tr>\n",
       "    <tr>\n",
       "      <th>retail_price</th>\n",
       "      <td>1428.0</td>\n",
       "      <td>4375.577731</td>\n",
       "      <td>1083.337923</td>\n",
       "      <td>2077.0</td>\n",
       "      <td>3560.000</td>\n",
       "      <td>4327.0</td>\n",
       "      <td>5123.00</td>\n",
       "      <td>6967.0</td>\n",
       "    </tr>\n",
       "  </tbody>\n",
       "</table>\n",
       "</div>"
      ],
      "text/plain": [
       "               count          mean          std      min        25%      50%  \\\n",
       "mean(°C)      1428.0     13.590126    10.888134    -14.8      4.375     15.0   \n",
       "prep(mm)      1428.0      3.065616    11.846932      0.0      0.000      0.0   \n",
       "humidity(%)   1428.0     57.811975    14.807831     21.8     46.800     57.8   \n",
       "whole_price   1428.0  26850.842437  7535.074346  14000.0  20000.000  27000.0   \n",
       "retail_price  1428.0   4375.577731  1083.337923   2077.0   3560.000   4327.0   \n",
       "\n",
       "                   75%      max  \n",
       "mean(°C)         23.00     33.7  \n",
       "prep(mm)          0.20    144.5  \n",
       "humidity(%)      67.65     97.0  \n",
       "whole_price   32000.00  48000.0  \n",
       "retail_price   5123.00   6967.0  "
      ]
     },
     "execution_count": 3,
     "metadata": {},
     "output_type": "execute_result"
    }
   ],
   "source": [
    "#기술통계\n",
    "train_stats = signal_data.describe()\n",
    "train_stats.pop(\"date\")\n",
    "train_stats = train_stats.transpose()\n",
    "\n",
    "train_stats"
   ]
  },
  {
   "cell_type": "code",
   "execution_count": 4,
   "metadata": {},
   "outputs": [
    {
     "name": "stdout",
     "output_type": "stream",
     "text": [
      "[4633. 4633. 4633. ... 5167. 5167. 5167.]\n"
     ]
    }
   ],
   "source": [
    "rtp = retail_price[:,-1]\n",
    "print(rtp)"
   ]
  },
  {
   "cell_type": "code",
   "execution_count": 5,
   "metadata": {},
   "outputs": [
    {
     "name": "stdout",
     "output_type": "stream",
     "text": [
      "1082.9585366657159\n"
     ]
    }
   ],
   "source": [
    "std = np.std(rtp)\n",
    "print(std)"
   ]
  },
  {
   "cell_type": "markdown",
   "metadata": {},
   "source": [
    "### create dataset을 수행한 뒤 데이터 분할"
   ]
  },
  {
   "cell_type": "code",
   "execution_count": 6,
   "metadata": {},
   "outputs": [
    {
     "data": {
      "text/plain": [
       "(1428, 6)"
      ]
     },
     "execution_count": 6,
     "metadata": {},
     "output_type": "execute_result"
    }
   ],
   "source": [
    "signal_data.shape"
   ]
  },
  {
   "cell_type": "code",
   "execution_count": 7,
   "metadata": {
    "collapsed": true
   },
   "outputs": [],
   "source": [
    "# 데이터셋 생성\n",
    "x_train = X[0:850,]\n",
    "y_train = Y[0:850,] \n",
    "\n",
    "x_val = X[850:1100]\n",
    "y_val = Y[850:1100]\n",
    "\n",
    "x_test = X[1100:,]\n",
    "y_test = Y[1100:,]\n",
    "y_test_var = y_test\n"
   ]
  },
  {
   "cell_type": "code",
   "execution_count": 8,
   "metadata": {},
   "outputs": [
    {
     "name": "stdout",
     "output_type": "stream",
     "text": [
      "WARNING:tensorflow:From C:\\ProgramData\\Anaconda3\\lib\\site-packages\\keras\\backend\\tensorflow_backend.py:74: The name tf.get_default_graph is deprecated. Please use tf.compat.v1.get_default_graph instead.\n",
      "\n",
      "WARNING:tensorflow:From C:\\ProgramData\\Anaconda3\\lib\\site-packages\\keras\\backend\\tensorflow_backend.py:517: The name tf.placeholder is deprecated. Please use tf.compat.v1.placeholder instead.\n",
      "\n",
      "WARNING:tensorflow:From C:\\ProgramData\\Anaconda3\\lib\\site-packages\\keras\\backend\\tensorflow_backend.py:4138: The name tf.random_uniform is deprecated. Please use tf.random.uniform instead.\n",
      "\n",
      "WARNING:tensorflow:From C:\\ProgramData\\Anaconda3\\lib\\site-packages\\keras\\optimizers.py:790: The name tf.train.Optimizer is deprecated. Please use tf.compat.v1.train.Optimizer instead.\n",
      "\n"
     ]
    }
   ],
   "source": [
    "# 2. 모델 구성하기\n",
    "model = Sequential()\n",
    "model.add(LSTM(32, input_shape=(7, 5), activation='relu', return_sequences=True))\n",
    "model.add(LSTM(32, activation='relu', return_sequences=True))\n",
    "model.add(LSTM(32, activation='relu', return_sequences=False))\n",
    "#model.add(Dropout(0.3))\n",
    "model.add(Dense(1))\n",
    "\n",
    "\n",
    "#3. 모델 아키텍쳐 살펴보기\n",
    "# model.summary()\n",
    "\n",
    "# 4. 모델 학습과정 설정하기\n",
    "model.compile(loss='mse', optimizer='adam', metrics=['mae'])\n",
    "#model.compile(loss='mse', optimizer='adam', metrics=['mse'])"
   ]
  },
  {
   "cell_type": "code",
   "execution_count": 9,
   "metadata": {
    "scrolled": true
   },
   "outputs": [
    {
     "name": "stdout",
     "output_type": "stream",
     "text": [
      "WARNING:tensorflow:From C:\\ProgramData\\Anaconda3\\lib\\site-packages\\tensorflow_core\\python\\ops\\math_grad.py:1424: where (from tensorflow.python.ops.array_ops) is deprecated and will be removed in a future version.\n",
      "Instructions for updating:\n",
      "Use tf.where in 2.0, which has the same broadcast rule as np.where\n",
      "WARNING:tensorflow:From C:\\ProgramData\\Anaconda3\\lib\\site-packages\\keras\\backend\\tensorflow_backend.py:986: The name tf.assign_add is deprecated. Please use tf.compat.v1.assign_add instead.\n",
      "\n",
      "WARNING:tensorflow:From C:\\ProgramData\\Anaconda3\\lib\\site-packages\\keras\\backend\\tensorflow_backend.py:973: The name tf.assign is deprecated. Please use tf.compat.v1.assign instead.\n",
      "\n",
      "WARNING:tensorflow:From C:\\ProgramData\\Anaconda3\\lib\\site-packages\\keras\\backend\\tensorflow_backend.py:2741: The name tf.Session is deprecated. Please use tf.compat.v1.Session instead.\n",
      "\n",
      "Train on 850 samples, validate on 250 samples\n",
      "Epoch 1/500\n",
      "WARNING:tensorflow:From C:\\ProgramData\\Anaconda3\\lib\\site-packages\\keras\\backend\\tensorflow_backend.py:174: The name tf.get_default_session is deprecated. Please use tf.compat.v1.get_default_session instead.\n",
      "\n",
      "WARNING:tensorflow:From C:\\ProgramData\\Anaconda3\\lib\\site-packages\\keras\\backend\\tensorflow_backend.py:181: The name tf.ConfigProto is deprecated. Please use tf.compat.v1.ConfigProto instead.\n",
      "\n",
      "WARNING:tensorflow:From C:\\ProgramData\\Anaconda3\\lib\\site-packages\\keras\\backend\\tensorflow_backend.py:190: The name tf.global_variables is deprecated. Please use tf.compat.v1.global_variables instead.\n",
      "\n",
      "WARNING:tensorflow:From C:\\ProgramData\\Anaconda3\\lib\\site-packages\\keras\\backend\\tensorflow_backend.py:199: The name tf.is_variable_initialized is deprecated. Please use tf.compat.v1.is_variable_initialized instead.\n",
      "\n",
      "WARNING:tensorflow:From C:\\ProgramData\\Anaconda3\\lib\\site-packages\\keras\\backend\\tensorflow_backend.py:206: The name tf.variables_initializer is deprecated. Please use tf.compat.v1.variables_initializer instead.\n",
      "\n",
      "850/850 [==============================] - 4s 5ms/step - loss: 7739188.7879 - mean_absolute_error: 1913.6102 - val_loss: 192699.4890 - val_mean_absolute_error: 348.4295\n",
      "Epoch 2/500\n",
      "850/850 [==============================] - 1s 1ms/step - loss: 263739.5667 - mean_absolute_error: 396.5815 - val_loss: 255785.9729 - val_mean_absolute_error: 366.0699\n",
      "Epoch 3/500\n",
      "850/850 [==============================] - 1s 1ms/step - loss: 229600.0505 - mean_absolute_error: 370.1705 - val_loss: 257566.0756 - val_mean_absolute_error: 366.5221\n",
      "Epoch 4/500\n",
      "850/850 [==============================] - 1s 1ms/step - loss: 228897.7377 - mean_absolute_error: 368.8346 - val_loss: 278668.4012 - val_mean_absolute_error: 382.1011\n",
      "Epoch 5/500\n",
      "850/850 [==============================] - 1s 1ms/step - loss: 229900.0519 - mean_absolute_error: 369.1191 - val_loss: 241077.3891 - val_mean_absolute_error: 354.4714\n",
      "Epoch 6/500\n",
      "850/850 [==============================] - 1s 1ms/step - loss: 229478.0320 - mean_absolute_error: 370.9846 - val_loss: 236884.3521 - val_mean_absolute_error: 351.2719\n",
      "Epoch 7/500\n",
      "850/850 [==============================] - 1s 1ms/step - loss: 230266.7940 - mean_absolute_error: 371.1354 - val_loss: 229117.8675 - val_mean_absolute_error: 345.3598\n",
      "Epoch 8/500\n",
      "850/850 [==============================] - 1s 1ms/step - loss: 229050.3531 - mean_absolute_error: 369.6860 - val_loss: 293448.7442 - val_mean_absolute_error: 394.2387\n",
      "Epoch 9/500\n",
      "850/850 [==============================] - 1s 1ms/step - loss: 236352.7085 - mean_absolute_error: 377.4512 - val_loss: 238411.1983 - val_mean_absolute_error: 352.9000\n",
      "Epoch 10/500\n",
      "850/850 [==============================] - 1s 1ms/step - loss: 229246.9590 - mean_absolute_error: 368.3221 - val_loss: 280455.2976 - val_mean_absolute_error: 384.2443\n",
      "Epoch 11/500\n",
      "850/850 [==============================] - 1s 1ms/step - loss: 230198.5024 - mean_absolute_error: 369.3030 - val_loss: 212684.3237 - val_mean_absolute_error: 335.4208\n",
      "Epoch 12/500\n",
      "850/850 [==============================] - 1s 1ms/step - loss: 228528.6351 - mean_absolute_error: 369.2841 - val_loss: 241063.2395 - val_mean_absolute_error: 354.8596\n",
      "Epoch 13/500\n",
      "850/850 [==============================] - 1s 1ms/step - loss: 229724.4256 - mean_absolute_error: 369.4007 - val_loss: 254984.7509 - val_mean_absolute_error: 364.7745\n",
      "Epoch 14/500\n",
      "850/850 [==============================] - 1s 1ms/step - loss: 235433.7983 - mean_absolute_error: 374.6377 - val_loss: 250313.5406 - val_mean_absolute_error: 361.9392\n",
      "Epoch 15/500\n",
      "850/850 [==============================] - 1s 1ms/step - loss: 231965.9260 - mean_absolute_error: 375.6825 - val_loss: 338123.6383 - val_mean_absolute_error: 423.8878\n",
      "Epoch 16/500\n",
      "850/850 [==============================] - 1s 1ms/step - loss: 233921.3660 - mean_absolute_error: 369.9281 - val_loss: 189893.5771 - val_mean_absolute_error: 321.2632\n",
      "Epoch 17/500\n",
      "850/850 [==============================] - 1s 1ms/step - loss: 236457.4134 - mean_absolute_error: 377.3384 - val_loss: 280953.2666 - val_mean_absolute_error: 383.9520\n",
      "Epoch 18/500\n",
      "850/850 [==============================] - 1s 1ms/step - loss: 232635.3748 - mean_absolute_error: 370.9346 - val_loss: 259499.6567 - val_mean_absolute_error: 368.4845\n",
      "Epoch 19/500\n",
      "850/850 [==============================] - 1s 1ms/step - loss: 230986.6344 - mean_absolute_error: 370.9298 - val_loss: 216893.2511 - val_mean_absolute_error: 338.0042\n",
      "Epoch 20/500\n",
      "850/850 [==============================] - 1s 1ms/step - loss: 229635.1388 - mean_absolute_error: 368.8007 - val_loss: 336185.4319 - val_mean_absolute_error: 422.4883\n",
      "Epoch 21/500\n",
      "850/850 [==============================] - 1s 1ms/step - loss: 241188.3439 - mean_absolute_error: 381.1453 - val_loss: 303450.1901 - val_mean_absolute_error: 400.3510\n",
      "Epoch 22/500\n",
      "850/850 [==============================] - 1s 1ms/step - loss: 229686.9074 - mean_absolute_error: 370.3323 - val_loss: 337260.4468 - val_mean_absolute_error: 423.1777\n",
      "Epoch 23/500\n",
      "850/850 [==============================] - 1s 991us/step - loss: 231983.1496 - mean_absolute_error: 371.8258 - val_loss: 210481.9654 - val_mean_absolute_error: 333.4854\n",
      "Epoch 24/500\n",
      "850/850 [==============================] - 1s 905us/step - loss: 231292.8350 - mean_absolute_error: 371.6683 - val_loss: 258553.0034 - val_mean_absolute_error: 367.7368\n",
      "Epoch 25/500\n",
      "850/850 [==============================] - 1s 995us/step - loss: 228565.2222 - mean_absolute_error: 370.1618 - val_loss: 206407.7153 - val_mean_absolute_error: 330.5204\n",
      "Epoch 26/500\n",
      "850/850 [==============================] - 1s 1ms/step - loss: 234238.7186 - mean_absolute_error: 372.7281 - val_loss: 214399.6729 - val_mean_absolute_error: 336.0224\n",
      "Epoch 27/500\n",
      "850/850 [==============================] - 1s 1ms/step - loss: 232768.3104 - mean_absolute_error: 372.5883 - val_loss: 250238.2359 - val_mean_absolute_error: 361.9014\n",
      "Epoch 28/500\n",
      "850/850 [==============================] - 1s 1ms/step - loss: 230267.1812 - mean_absolute_error: 368.5185 - val_loss: 254029.2921 - val_mean_absolute_error: 364.3401\n",
      "Epoch 29/500\n",
      "850/850 [==============================] - 1s 1ms/step - loss: 231090.2113 - mean_absolute_error: 371.9548 - val_loss: 273741.3889 - val_mean_absolute_error: 378.0841\n",
      "Epoch 30/500\n",
      "850/850 [==============================] - 1s 1ms/step - loss: 226043.6294 - mean_absolute_error: 366.8856 - val_loss: 230260.1446 - val_mean_absolute_error: 346.5004\n",
      "Epoch 31/500\n",
      "850/850 [==============================] - 1s 1ms/step - loss: 228957.5891 - mean_absolute_error: 369.3228 - val_loss: 248063.2823 - val_mean_absolute_error: 359.7461\n",
      "Epoch 32/500\n",
      "850/850 [==============================] - 1s 1ms/step - loss: 230114.8393 - mean_absolute_error: 372.0074 - val_loss: 284960.1899 - val_mean_absolute_error: 386.1456\n",
      "Epoch 33/500\n",
      "850/850 [==============================] - 1s 1ms/step - loss: 230337.4352 - mean_absolute_error: 371.3330 - val_loss: 225044.1548 - val_mean_absolute_error: 342.9543\n",
      "Epoch 34/500\n",
      "850/850 [==============================] - 1s 1ms/step - loss: 228864.4392 - mean_absolute_error: 369.1843 - val_loss: 250372.1999 - val_mean_absolute_error: 361.2556\n",
      "Epoch 35/500\n",
      "850/850 [==============================] - 1s 1ms/step - loss: 228393.4807 - mean_absolute_error: 367.3085 - val_loss: 288568.7633 - val_mean_absolute_error: 387.6697\n"
     ]
    },
    {
     "name": "stdout",
     "output_type": "stream",
     "text": [
      "Epoch 36/500\n",
      "850/850 [==============================] - 1s 1ms/step - loss: 230424.0019 - mean_absolute_error: 369.3858 - val_loss: 300264.2059 - val_mean_absolute_error: 396.3294\n"
     ]
    }
   ],
   "source": [
    "#5.모델 학습시키기\n",
    "#5.1. Early Stopping\n",
    "callbacks_list = [\n",
    "    EarlyStopping(\n",
    "    monitor='val_loss',\n",
    "    patience=20 ,\n",
    "    ),\n",
    "#     ModelCheckpoint(\n",
    "#     filepath='multi_model.h5',\n",
    "#     monitor='val_loss',\n",
    "#     save_best_only = True,\n",
    "#     )\n",
    "]\n",
    "\n",
    "hist = model.fit(x_train, y_train, epochs=500, batch_size=16, callbacks=callbacks_list, validation_data=(x_val, y_val))"
   ]
  },
  {
   "cell_type": "code",
   "execution_count": 10,
   "metadata": {},
   "outputs": [
    {
     "name": "stdout",
     "output_type": "stream",
     "text": [
      "321/321 [==============================] - 0s 196us/step\n",
      "mean_absolute_error: 270.41\n"
     ]
    }
   ],
   "source": [
    "# 6. 모델 평가하기\n",
    "scores = model.evaluate(x_test, y_test)\n",
    "\n",
    "print(\"%s: %.2f\" %(model.metrics_names[1], scores[1]))"
   ]
  },
  {
   "cell_type": "code",
   "execution_count": 11,
   "metadata": {
    "scrolled": true
   },
   "outputs": [
    {
     "data": {
      "image/png": "[encoded data removed]",
      "text/plain": [
       "<matplotlib.figure.Figure at 0x18187e12908>"
      ]
     },
     "metadata": {},
     "output_type": "display_data"
    }
   ],
   "source": [
    "#6.1. epoch, loss 그래프\n",
    "loss = hist.history['loss']\n",
    "val_loss = hist.history['val_loss']\n",
    "\n",
    "\n",
    "epochs = range(1, len(loss)+1)\n",
    "plt.plot(epochs, loss, 'b', label='Training loss')\n",
    "plt.plot(epochs, val_loss, 'g', label='Validation loss')\n",
    "\n",
    "plt.title('Training/Validation loss and accuracy')\n",
    "plt.xlabel('Epochs')\n",
    "plt.ylabel('Loss')\n",
    "plt.legend()\n",
    "plt.show()"
   ]
  },
  {
   "cell_type": "code",
   "execution_count": 12,
   "metadata": {},
   "outputs": [
    {
     "name": "stdout",
     "output_type": "stream",
     "text": [
      "Train Score:  [230810.3206617647, 372.32319896024813]\n",
      "Validataion Score:  [300264.18325, 396.32941662597653]\n",
      "Test Score:  [136203.8463632934, 270.4111328125]\n"
     ]
    }
   ],
   "source": [
    "# 6.2. 모델 평가하기\n",
    "trainScore = model.evaluate(x_train, y_train, verbose=0)\n",
    "model.reset_states()\n",
    "print('Train Score: ', trainScore)\n",
    "valScore = model.evaluate(x_val, y_val, verbose=0)\n",
    "model.reset_states()\n",
    "print('Validataion Score: ', valScore)\n",
    "testScore = model.evaluate(x_test, y_test, verbose=0)\n",
    "model.reset_states()\n",
    "print('Test Score: ', testScore)"
   ]
  },
  {
   "cell_type": "code",
   "execution_count": 13,
   "metadata": {},
   "outputs": [
    {
     "data": {
      "image/png": "[encoded data removed]",
      "text/plain": [
       "<matplotlib.figure.Figure at 0x1818af7c7f0>"
      ]
     },
     "metadata": {},
     "output_type": "display_data"
    }
   ],
   "source": [
    "def show_diff(y_predict, y_label, y_test, y_test_label, y_value):\n",
    "\n",
    "    fig, predict_ax=plt.subplots()\n",
    "\n",
    "    predict_ax.plot(y_predict, 'y', label=y_label)\n",
    "\n",
    "    predict_ax.plot(y_test, 'r', label=y_test_label)\n",
    "\n",
    "    predict_ax.set_ylabel(y_value)\n",
    "\n",
    "    predict_ax.legend(loc = 'upper left')\n",
    "\n",
    "    plt.show()\n",
    "    \n",
    "#7 예측하기\n",
    "\n",
    "y_predict = model.predict(x_test).flatten()\n",
    "\n",
    "show_diff(y_predict, 'y_predict', y_test, 'y_test', 'price')"
   ]
  },
  {
   "cell_type": "code",
   "execution_count": 14,
   "metadata": {
    "collapsed": true
   },
   "outputs": [],
   "source": [
    "# 데이터 저장\n",
    "df = pd.DataFrame(y_predict)\n",
    "df.insert(0,'y_test',y_test_var)\n",
    "df = df.rename(columns = {0: 'y_predict'})\n",
    "df.to_csv('predict_tomatobusan.csv', index=False)"
   ]
  },
  {
   "cell_type": "code",
   "execution_count": 15,
   "metadata": {},
   "outputs": [
    {
     "data": {
      "image/png": "[encoded data removed]",
      "text/plain": [
       "<matplotlib.figure.Figure at 0x1818d0f4f98>"
      ]
     },
     "metadata": {},
     "output_type": "display_data"
    }
   ],
   "source": [
    "\n",
    "test_predictions = y_test\n",
    "\n",
    "plt.scatter(y_predict, y_test)\n",
    "plt.xlabel('Predictions')\n",
    "plt.ylabel('True Values')\n",
    "plt.axis('equal')\n",
    "plt.axis('square')\n",
    "plt.xlim([1000,plt.xlim()[1]])\n",
    "plt.ylim([1000,plt.ylim()[1]])\n",
    "_ = plt.plot([-100000, 100000], [-100000, 100000])\n"
   ]
  },
  {
   "cell_type": "code",
   "execution_count": 16,
   "metadata": {},
   "outputs": [
    {
     "data": {
      "image/png": "[encoded data removed]",
      "text/plain": [
       "<matplotlib.figure.Figure at 0x18187ea2f60>"
      ]
     },
     "metadata": {},
     "output_type": "display_data"
    }
   ],
   "source": [
    "#오차의 분포\n",
    "error = y_predict - y_test\n",
    "plt.hist(error, bins = 35)\n",
    "plt.xlabel(\"Prediction Error\")\n",
    "_ = plt.ylabel(\"Count\")"
   ]
  },
  {
   "cell_type": "code",
   "execution_count": 17,
   "metadata": {},
   "outputs": [
    {
     "name": "stdout",
     "output_type": "stream",
     "text": [
      "RMSE: 369.06\n"
     ]
    }
   ],
   "source": [
    "rmse = sqrt(mean_squared_error(y_predict,y_test))\n",
    "print(\"RMSE: {:.2f}\".format(rmse))"
   ]
  },
  {
   "cell_type": "code",
   "execution_count": 18,
   "metadata": {},
   "outputs": [
    {
     "name": "stdout",
     "output_type": "stream",
     "text": [
      "STD: 1082.96\n"
     ]
    }
   ],
   "source": [
    "print(\"STD: {:.2f}\".format(std))"
   ]
  },
  {
   "cell_type": "code",
   "execution_count": null,
   "metadata": {
    "collapsed": true
   },
   "outputs": [],
   "source": []
  }
 ],
 "metadata": {
  "kernelspec": {
   "display_name": "Python 3",
   "language": "python",
   "name": "python3"
  },
  "language_info": {
   "codemirror_mode": {
    "name": "ipython",
    "version": 3
   },
   "file_extension": ".py",
   "mimetype": "text/x-python",
   "name": "python",
   "nbconvert_exporter": "python",
   "pygments_lexer": "ipython3",
   "version": "3.6.1"
  }
 },
 "nbformat": 4,
 "nbformat_minor": 2
}
