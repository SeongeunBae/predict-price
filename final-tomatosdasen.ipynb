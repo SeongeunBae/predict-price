{
 "cells": [
  {
   "cell_type": "code",
   "execution_count": 1,
   "metadata": {},
   "outputs": [
    {
     "name": "stderr",
     "output_type": "stream",
     "text": [
      "C:\\ProgramData\\Anaconda3\\lib\\site-packages\\h5py\\__init__.py:34: FutureWarning: Conversion of the second argument of issubdtype from `float` to `np.floating` is deprecated. In future, it will be treated as `np.float64 == np.dtype(float).type`.\n",
      "  from ._conv import register_converters as _register_converters\n",
      "Using TensorFlow backend.\n"
     ]
    }
   ],
   "source": [
    "# 0. 사용할 패키지 불러오기\n",
    "import numpy as np\n",
    "import pandas as pd\n",
    "from keras.models import Sequential\n",
    "from keras.layers import Dense, LSTM, Dropout\n",
    "import matplotlib.pyplot as plt\n",
    "%matplotlib inline\n",
    "from keras.callbacks import EarlyStopping\n",
    "from sklearn.metrics import mean_squared_error\n",
    "\n",
    "from math import sqrt\n",
    "\n",
    "np.random.seed(5)\n",
    "\n",
    "\n",
    "# 1. 데이터셋 생성하기\n",
    "signal_data = pd.read_csv('price_tomato1_D.csv', engine='python', encoding='ms949')\n",
    "data = signal_data.values\n",
    "retail_price = data\n",
    "\n",
    "#std = np.std(df[‘retail_price’].values)\n",
    "\n",
    "#create_ dataset\n",
    "def create_dataset(signal_data, look_back=1):\n",
    "    dataX, dataY = [], []\n",
    "    for i in range(len(signal_data)-look_back):\n",
    "        dataX.append(signal_data[i:(i+look_back), 1:])\n",
    "        dataY.append(signal_data[i + look_back, -1])\n",
    "    return np.array(dataX), np.array(dataY)\n",
    "\n",
    "look_back = 7\n",
    "\n",
    "#2. 데이터셋 분할\n",
    "X, Y = create_dataset(data, look_back)"
   ]
  },
  {
   "cell_type": "code",
   "execution_count": 2,
   "metadata": {},
   "outputs": [
    {
     "data": {
      "text/plain": [
       "array([4413., 4413., 4413., ..., 5907., 5907., 5907.])"
      ]
     },
     "execution_count": 2,
     "metadata": {},
     "output_type": "execute_result"
    }
   ],
   "source": [
    "Y"
   ]
  },
  {
   "cell_type": "code",
   "execution_count": 3,
   "metadata": {},
   "outputs": [
    {
     "data": {
      "text/html": [
       "<div>\n",
       "<style>\n",
       "    .dataframe thead tr:only-child th {\n",
       "        text-align: right;\n",
       "    }\n",
       "\n",
       "    .dataframe thead th {\n",
       "        text-align: left;\n",
       "    }\n",
       "\n",
       "    .dataframe tbody tr th {\n",
       "        vertical-align: top;\n",
       "    }\n",
       "</style>\n",
       "<table border=\"1\" class=\"dataframe\">\n",
       "  <thead>\n",
       "    <tr style=\"text-align: right;\">\n",
       "      <th></th>\n",
       "      <th>count</th>\n",
       "      <th>mean</th>\n",
       "      <th>std</th>\n",
       "      <th>min</th>\n",
       "      <th>25%</th>\n",
       "      <th>50%</th>\n",
       "      <th>75%</th>\n",
       "      <th>max</th>\n",
       "    </tr>\n",
       "  </thead>\n",
       "  <tbody>\n",
       "    <tr>\n",
       "      <th>mean(°C)</th>\n",
       "      <td>1428.0</td>\n",
       "      <td>13.590126</td>\n",
       "      <td>10.888134</td>\n",
       "      <td>-14.8</td>\n",
       "      <td>4.375</td>\n",
       "      <td>15.0</td>\n",
       "      <td>23.00</td>\n",
       "      <td>33.7</td>\n",
       "    </tr>\n",
       "    <tr>\n",
       "      <th>prep(mm)</th>\n",
       "      <td>1428.0</td>\n",
       "      <td>3.065616</td>\n",
       "      <td>11.846932</td>\n",
       "      <td>0.0</td>\n",
       "      <td>0.000</td>\n",
       "      <td>0.0</td>\n",
       "      <td>0.20</td>\n",
       "      <td>144.5</td>\n",
       "    </tr>\n",
       "    <tr>\n",
       "      <th>humidity(%)</th>\n",
       "      <td>1428.0</td>\n",
       "      <td>57.811975</td>\n",
       "      <td>14.807831</td>\n",
       "      <td>21.8</td>\n",
       "      <td>46.800</td>\n",
       "      <td>57.8</td>\n",
       "      <td>67.65</td>\n",
       "      <td>97.0</td>\n",
       "    </tr>\n",
       "    <tr>\n",
       "      <th>whole_price</th>\n",
       "      <td>1428.0</td>\n",
       "      <td>27632.773109</td>\n",
       "      <td>8183.245836</td>\n",
       "      <td>13000.0</td>\n",
       "      <td>20000.000</td>\n",
       "      <td>28000.0</td>\n",
       "      <td>33000.00</td>\n",
       "      <td>50000.0</td>\n",
       "    </tr>\n",
       "    <tr>\n",
       "      <th>retail_price</th>\n",
       "      <td>1428.0</td>\n",
       "      <td>4362.881653</td>\n",
       "      <td>1313.125700</td>\n",
       "      <td>2037.0</td>\n",
       "      <td>3235.250</td>\n",
       "      <td>4375.0</td>\n",
       "      <td>5353.00</td>\n",
       "      <td>7967.0</td>\n",
       "    </tr>\n",
       "  </tbody>\n",
       "</table>\n",
       "</div>"
      ],
      "text/plain": [
       "               count          mean          std      min        25%      50%  \\\n",
       "mean(°C)      1428.0     13.590126    10.888134    -14.8      4.375     15.0   \n",
       "prep(mm)      1428.0      3.065616    11.846932      0.0      0.000      0.0   \n",
       "humidity(%)   1428.0     57.811975    14.807831     21.8     46.800     57.8   \n",
       "whole_price   1428.0  27632.773109  8183.245836  13000.0  20000.000  28000.0   \n",
       "retail_price  1428.0   4362.881653  1313.125700   2037.0   3235.250   4375.0   \n",
       "\n",
       "                   75%      max  \n",
       "mean(°C)         23.00     33.7  \n",
       "prep(mm)          0.20    144.5  \n",
       "humidity(%)      67.65     97.0  \n",
       "whole_price   33000.00  50000.0  \n",
       "retail_price   5353.00   7967.0  "
      ]
     },
     "execution_count": 3,
     "metadata": {},
     "output_type": "execute_result"
    }
   ],
   "source": [
    "#기술통계\n",
    "train_stats = signal_data.describe()\n",
    "train_stats.pop(\"date\")\n",
    "train_stats = train_stats.transpose()\n",
    "\n",
    "train_stats\n"
   ]
  },
  {
   "cell_type": "code",
   "execution_count": 4,
   "metadata": {},
   "outputs": [
    {
     "name": "stdout",
     "output_type": "stream",
     "text": [
      "[4413. 4413. 4413. ... 5907. 5907. 5907.]\n"
     ]
    }
   ],
   "source": [
    "rtp = retail_price[:,-1]\n",
    "print(rtp)"
   ]
  },
  {
   "cell_type": "code",
   "execution_count": 5,
   "metadata": {},
   "outputs": [
    {
     "name": "stdout",
     "output_type": "stream",
     "text": [
      "1312.6658414631074\n"
     ]
    }
   ],
   "source": [
    "std = np.std(rtp)\n",
    "print(std)"
   ]
  },
  {
   "cell_type": "markdown",
   "metadata": {},
   "source": [
    "### create dataset을 수행한 뒤 데이터 분할"
   ]
  },
  {
   "cell_type": "code",
   "execution_count": 6,
   "metadata": {},
   "outputs": [
    {
     "data": {
      "text/plain": [
       "(1428, 6)"
      ]
     },
     "execution_count": 6,
     "metadata": {},
     "output_type": "execute_result"
    }
   ],
   "source": [
    "signal_data.shape"
   ]
  },
  {
   "cell_type": "code",
   "execution_count": 7,
   "metadata": {
    "collapsed": true
   },
   "outputs": [],
   "source": [
    "# 데이터셋 생성\n",
    "x_train = X[0:850,]\n",
    "y_train = Y[0:850,] \n",
    "\n",
    "x_val = X[850:1100]\n",
    "y_val = Y[850:1100]\n",
    "\n",
    "x_test = X[1100:,]\n",
    "y_test = Y[1100:,]\n",
    "y_test_var = y_test\n"
   ]
  },
  {
   "cell_type": "code",
   "execution_count": 8,
   "metadata": {},
   "outputs": [
    {
     "name": "stdout",
     "output_type": "stream",
     "text": [
      "WARNING:tensorflow:From C:\\ProgramData\\Anaconda3\\lib\\site-packages\\keras\\backend\\tensorflow_backend.py:74: The name tf.get_default_graph is deprecated. Please use tf.compat.v1.get_default_graph instead.\n",
      "\n",
      "WARNING:tensorflow:From C:\\ProgramData\\Anaconda3\\lib\\site-packages\\keras\\backend\\tensorflow_backend.py:517: The name tf.placeholder is deprecated. Please use tf.compat.v1.placeholder instead.\n",
      "\n",
      "WARNING:tensorflow:From C:\\ProgramData\\Anaconda3\\lib\\site-packages\\keras\\backend\\tensorflow_backend.py:4138: The name tf.random_uniform is deprecated. Please use tf.random.uniform instead.\n",
      "\n",
      "WARNING:tensorflow:From C:\\ProgramData\\Anaconda3\\lib\\site-packages\\keras\\optimizers.py:790: The name tf.train.Optimizer is deprecated. Please use tf.compat.v1.train.Optimizer instead.\n",
      "\n"
     ]
    }
   ],
   "source": [
    "# 3. 모델 구성하기\n",
    "model = Sequential()\n",
    "model.add(LSTM(32, input_shape=(7, 5), activation='relu', return_sequences=True))\n",
    "model.add(LSTM(32, activation='relu', return_sequences=True))\n",
    "model.add(LSTM(32, activation='relu', return_sequences=False))\n",
    "#model.add(Dropout(0.3))\n",
    "model.add(Dense(1))\n",
    "\n",
    "\n",
    "#3.1. 모델 아키텍쳐 살펴보기\n",
    "# model.summary()\n",
    "\n",
    "# 3. 모델 학습과정 설정하기\n",
    "model.compile(loss='mse', optimizer='adam', metrics=['mae'])\n",
    "#model.compile(loss='mse', optimizer='adam', metrics=['mse'])"
   ]
  },
  {
   "cell_type": "code",
   "execution_count": 9,
   "metadata": {
    "scrolled": true
   },
   "outputs": [
    {
     "name": "stdout",
     "output_type": "stream",
     "text": [
      "WARNING:tensorflow:From C:\\ProgramData\\Anaconda3\\lib\\site-packages\\tensorflow_core\\python\\ops\\math_grad.py:1424: where (from tensorflow.python.ops.array_ops) is deprecated and will be removed in a future version.\n",
      "Instructions for updating:\n",
      "Use tf.where in 2.0, which has the same broadcast rule as np.where\n",
      "WARNING:tensorflow:From C:\\ProgramData\\Anaconda3\\lib\\site-packages\\keras\\backend\\tensorflow_backend.py:986: The name tf.assign_add is deprecated. Please use tf.compat.v1.assign_add instead.\n",
      "\n",
      "WARNING:tensorflow:From C:\\ProgramData\\Anaconda3\\lib\\site-packages\\keras\\backend\\tensorflow_backend.py:973: The name tf.assign is deprecated. Please use tf.compat.v1.assign instead.\n",
      "\n",
      "WARNING:tensorflow:From C:\\ProgramData\\Anaconda3\\lib\\site-packages\\keras\\backend\\tensorflow_backend.py:2741: The name tf.Session is deprecated. Please use tf.compat.v1.Session instead.\n",
      "\n",
      "Train on 850 samples, validate on 250 samples\n",
      "Epoch 1/500\n",
      "WARNING:tensorflow:From C:\\ProgramData\\Anaconda3\\lib\\site-packages\\keras\\backend\\tensorflow_backend.py:174: The name tf.get_default_session is deprecated. Please use tf.compat.v1.get_default_session instead.\n",
      "\n",
      "WARNING:tensorflow:From C:\\ProgramData\\Anaconda3\\lib\\site-packages\\keras\\backend\\tensorflow_backend.py:181: The name tf.ConfigProto is deprecated. Please use tf.compat.v1.ConfigProto instead.\n",
      "\n",
      "WARNING:tensorflow:From C:\\ProgramData\\Anaconda3\\lib\\site-packages\\keras\\backend\\tensorflow_backend.py:190: The name tf.global_variables is deprecated. Please use tf.compat.v1.global_variables instead.\n",
      "\n",
      "WARNING:tensorflow:From C:\\ProgramData\\Anaconda3\\lib\\site-packages\\keras\\backend\\tensorflow_backend.py:199: The name tf.is_variable_initialized is deprecated. Please use tf.compat.v1.is_variable_initialized instead.\n",
      "\n",
      "WARNING:tensorflow:From C:\\ProgramData\\Anaconda3\\lib\\site-packages\\keras\\backend\\tensorflow_backend.py:206: The name tf.variables_initializer is deprecated. Please use tf.compat.v1.variables_initializer instead.\n",
      "\n",
      "850/850 [==============================] - 4s 5ms/step - loss: 8771146.9541 - mean_absolute_error: 2175.6393 - val_loss: 4326321.5540 - val_mean_absolute_error: 1622.0950\n",
      "Epoch 2/500\n",
      "850/850 [==============================] - 1s 1ms/step - loss: 2239979.8571 - mean_absolute_error: 1152.9176 - val_loss: 2107856.7724 - val_mean_absolute_error: 934.3527\n",
      "Epoch 3/500\n",
      "850/850 [==============================] - 1s 1ms/step - loss: 691260.3665 - mean_absolute_error: 634.0073 - val_loss: 1385936.1060 - val_mean_absolute_error: 778.3212\n",
      "Epoch 4/500\n",
      "850/850 [==============================] - 1s 1ms/step - loss: 597935.0035 - mean_absolute_error: 545.0601 - val_loss: 1153352.4079 - val_mean_absolute_error: 689.6588\n",
      "Epoch 5/500\n",
      "850/850 [==============================] - 1s 1ms/step - loss: 484767.1090 - mean_absolute_error: 525.2403 - val_loss: 1035139.0223 - val_mean_absolute_error: 660.9165\n",
      "Epoch 6/500\n",
      "850/850 [==============================] - 1s 1ms/step - loss: 548769.6793 - mean_absolute_error: 539.4193 - val_loss: 933188.8494 - val_mean_absolute_error: 616.3286\n",
      "Epoch 7/500\n",
      "850/850 [==============================] - 1s 1ms/step - loss: 486287.6933 - mean_absolute_error: 526.8620 - val_loss: 883042.6880 - val_mean_absolute_error: 594.3341\n",
      "Epoch 8/500\n",
      "850/850 [==============================] - 1s 1ms/step - loss: 441172.1035 - mean_absolute_error: 504.2162 - val_loss: 1114803.7357 - val_mean_absolute_error: 624.8238\n",
      "Epoch 9/500\n",
      "850/850 [==============================] - 1s 1ms/step - loss: 409871.6828 - mean_absolute_error: 466.1004 - val_loss: 743070.0094 - val_mean_absolute_error: 550.8056\n",
      "Epoch 10/500\n",
      "850/850 [==============================] - 1s 1ms/step - loss: 629651.1367 - mean_absolute_error: 551.4125 - val_loss: 1402620.8595 - val_mean_absolute_error: 749.0492\n",
      "Epoch 11/500\n",
      "850/850 [==============================] - 1s 1ms/step - loss: 470624.8617 - mean_absolute_error: 492.6409 - val_loss: 853547.1001 - val_mean_absolute_error: 580.1677\n",
      "Epoch 12/500\n",
      "850/850 [==============================] - 1s 1ms/step - loss: 349054.9096 - mean_absolute_error: 442.3184 - val_loss: 877954.0282 - val_mean_absolute_error: 589.7589\n",
      "Epoch 13/500\n",
      "850/850 [==============================] - 1s 1ms/step - loss: 355647.1142 - mean_absolute_error: 435.7267 - val_loss: 909903.1978 - val_mean_absolute_error: 585.1043\n",
      "Epoch 14/500\n",
      "850/850 [==============================] - 1s 1ms/step - loss: 363008.9059 - mean_absolute_error: 445.8279 - val_loss: 733255.0985 - val_mean_absolute_error: 566.0424\n",
      "Epoch 15/500\n",
      "850/850 [==============================] - 1s 1ms/step - loss: 424632.8239 - mean_absolute_error: 459.3157 - val_loss: 771116.5930 - val_mean_absolute_error: 572.8607\n",
      "Epoch 16/500\n",
      "850/850 [==============================] - 1s 1ms/step - loss: 886044.5608 - mean_absolute_error: 614.0697 - val_loss: 917939.8081 - val_mean_absolute_error: 600.7705\n",
      "Epoch 17/500\n",
      "850/850 [==============================] - 1s 1ms/step - loss: 2760200.7990 - mean_absolute_error: 1039.0978 - val_loss: 954880.3912 - val_mean_absolute_error: 611.1894\n",
      "Epoch 18/500\n",
      "850/850 [==============================] - 1s 1ms/step - loss: 406081.8788 - mean_absolute_error: 498.9917 - val_loss: 1084126.0554 - val_mean_absolute_error: 671.2736\n",
      "Epoch 19/500\n",
      "850/850 [==============================] - 1s 1ms/step - loss: 386598.7174 - mean_absolute_error: 482.3879 - val_loss: 778312.3878 - val_mean_absolute_error: 541.4894\n",
      "Epoch 20/500\n",
      "850/850 [==============================] - 1s 1ms/step - loss: 321010.5497 - mean_absolute_error: 429.0401 - val_loss: 910167.9050 - val_mean_absolute_error: 592.5322\n",
      "Epoch 21/500\n",
      "850/850 [==============================] - 1s 1ms/step - loss: 317833.8144 - mean_absolute_error: 432.7998 - val_loss: 906168.7283 - val_mean_absolute_error: 593.0718\n",
      "Epoch 22/500\n",
      "850/850 [==============================] - 1s 1ms/step - loss: 301234.4144 - mean_absolute_error: 418.8573 - val_loss: 876180.4845 - val_mean_absolute_error: 581.5381\n",
      "Epoch 23/500\n",
      "850/850 [==============================] - 1s 1ms/step - loss: 292435.1368 - mean_absolute_error: 414.3770 - val_loss: 767794.9026 - val_mean_absolute_error: 538.2424\n",
      "Epoch 24/500\n",
      "850/850 [==============================] - 1s 1ms/step - loss: 289328.7854 - mean_absolute_error: 410.4503 - val_loss: 818735.6646 - val_mean_absolute_error: 556.4161\n",
      "Epoch 25/500\n",
      "850/850 [==============================] - 1s 1ms/step - loss: 287478.5506 - mean_absolute_error: 411.1480 - val_loss: 772573.0845 - val_mean_absolute_error: 543.3316\n",
      "Epoch 26/500\n",
      "850/850 [==============================] - 1s 1ms/step - loss: 283494.4004 - mean_absolute_error: 411.6205 - val_loss: 818023.7797 - val_mean_absolute_error: 556.9934\n",
      "Epoch 27/500\n",
      "850/850 [==============================] - 1s 1ms/step - loss: 289838.3150 - mean_absolute_error: 417.5107 - val_loss: 770063.3465 - val_mean_absolute_error: 539.2233\n",
      "Epoch 28/500\n",
      "850/850 [==============================] - 1s 1ms/step - loss: 285365.3651 - mean_absolute_error: 408.4664 - val_loss: 796579.1848 - val_mean_absolute_error: 550.8031\n",
      "Epoch 29/500\n",
      "850/850 [==============================] - 1s 1ms/step - loss: 284866.6978 - mean_absolute_error: 410.6760 - val_loss: 878768.4863 - val_mean_absolute_error: 587.4388\n",
      "Epoch 30/500\n",
      "850/850 [==============================] - 1s 1ms/step - loss: 279691.3551 - mean_absolute_error: 408.6981 - val_loss: 776668.3420 - val_mean_absolute_error: 545.3706\n",
      "Epoch 31/500\n",
      "850/850 [==============================] - 1s 1ms/step - loss: 284128.9381 - mean_absolute_error: 412.7445 - val_loss: 724532.8133 - val_mean_absolute_error: 527.7060\n",
      "Epoch 32/500\n",
      "850/850 [==============================] - 1s 1ms/step - loss: 275153.0791 - mean_absolute_error: 404.1768 - val_loss: 807492.4624 - val_mean_absolute_error: 568.5848\n",
      "Epoch 33/500\n",
      "850/850 [==============================] - 1s 1ms/step - loss: 273874.7366 - mean_absolute_error: 402.9200 - val_loss: 760596.6440 - val_mean_absolute_error: 545.2085\n",
      "Epoch 34/500\n",
      "850/850 [==============================] - 1s 1ms/step - loss: 276468.3941 - mean_absolute_error: 405.4528 - val_loss: 847351.7564 - val_mean_absolute_error: 586.0310\n",
      "Epoch 35/500\n",
      "850/850 [==============================] - 1s 1ms/step - loss: 282009.8055 - mean_absolute_error: 414.4884 - val_loss: 877046.9181 - val_mean_absolute_error: 586.9164\n"
     ]
    },
    {
     "name": "stdout",
     "output_type": "stream",
     "text": [
      "Epoch 36/500\n",
      "850/850 [==============================] - 1s 1ms/step - loss: 274623.1309 - mean_absolute_error: 408.2831 - val_loss: 851364.6686 - val_mean_absolute_error: 581.5601\n",
      "Epoch 37/500\n",
      "850/850 [==============================] - 1s 1ms/step - loss: 267997.0717 - mean_absolute_error: 400.6270 - val_loss: 889291.1026 - val_mean_absolute_error: 595.7293\n",
      "Epoch 38/500\n",
      "850/850 [==============================] - 1s 1ms/step - loss: 280036.4573 - mean_absolute_error: 413.8089 - val_loss: 777631.2954 - val_mean_absolute_error: 551.8834\n",
      "Epoch 39/500\n",
      "850/850 [==============================] - 1s 1ms/step - loss: 268564.1193 - mean_absolute_error: 399.4264 - val_loss: 821544.7496 - val_mean_absolute_error: 572.1439\n",
      "Epoch 40/500\n",
      "850/850 [==============================] - 1s 1ms/step - loss: 272537.7744 - mean_absolute_error: 403.6442 - val_loss: 731635.8975 - val_mean_absolute_error: 537.1498\n",
      "Epoch 41/500\n",
      "850/850 [==============================] - 1s 1ms/step - loss: 272793.1194 - mean_absolute_error: 403.8757 - val_loss: 809885.4979 - val_mean_absolute_error: 562.2631\n",
      "Epoch 42/500\n",
      "850/850 [==============================] - 1s 1ms/step - loss: 272700.2785 - mean_absolute_error: 404.7589 - val_loss: 781633.2060 - val_mean_absolute_error: 551.4520\n",
      "Epoch 43/500\n",
      "850/850 [==============================] - 1s 1ms/step - loss: 273230.1326 - mean_absolute_error: 403.9427 - val_loss: 804332.9081 - val_mean_absolute_error: 564.8169\n",
      "Epoch 44/500\n",
      "850/850 [==============================] - 1s 1ms/step - loss: 268247.1504 - mean_absolute_error: 400.6143 - val_loss: 745902.9542 - val_mean_absolute_error: 543.4576\n",
      "Epoch 45/500\n",
      "850/850 [==============================] - 1s 1ms/step - loss: 280718.5988 - mean_absolute_error: 410.2826 - val_loss: 661550.0310 - val_mean_absolute_error: 514.7543\n",
      "Epoch 46/500\n",
      "850/850 [==============================] - 1s 1ms/step - loss: 284511.1702 - mean_absolute_error: 417.2625 - val_loss: 818039.5041 - val_mean_absolute_error: 568.4878\n",
      "Epoch 47/500\n",
      "850/850 [==============================] - 1s 1ms/step - loss: 269797.0052 - mean_absolute_error: 403.0523 - val_loss: 819558.6164 - val_mean_absolute_error: 569.2797\n",
      "Epoch 48/500\n",
      "850/850 [==============================] - 1s 1ms/step - loss: 269753.2041 - mean_absolute_error: 403.0880 - val_loss: 862521.2935 - val_mean_absolute_error: 586.9763\n",
      "Epoch 49/500\n",
      "850/850 [==============================] - 1s 1ms/step - loss: 273569.4252 - mean_absolute_error: 402.8832 - val_loss: 807023.1350 - val_mean_absolute_error: 566.5665\n",
      "Epoch 50/500\n",
      "850/850 [==============================] - 1s 1ms/step - loss: 271829.4868 - mean_absolute_error: 405.7341 - val_loss: 877381.2155 - val_mean_absolute_error: 595.1264\n",
      "Epoch 51/500\n",
      "850/850 [==============================] - 1s 1ms/step - loss: 269819.3885 - mean_absolute_error: 402.5660 - val_loss: 732379.1605 - val_mean_absolute_error: 531.7385\n",
      "Epoch 52/500\n",
      "850/850 [==============================] - 1s 1ms/step - loss: 270364.0852 - mean_absolute_error: 401.9195 - val_loss: 788443.7374 - val_mean_absolute_error: 556.3293\n",
      "Epoch 53/500\n",
      "850/850 [==============================] - 1s 1ms/step - loss: 267677.5851 - mean_absolute_error: 399.5693 - val_loss: 868429.3163 - val_mean_absolute_error: 591.0336\n",
      "Epoch 54/500\n",
      "850/850 [==============================] - 1s 1ms/step - loss: 276701.3685 - mean_absolute_error: 405.6517 - val_loss: 864161.8400 - val_mean_absolute_error: 590.6234\n",
      "Epoch 55/500\n",
      "850/850 [==============================] - 1s 1ms/step - loss: 268332.7527 - mean_absolute_error: 403.5980 - val_loss: 858292.1945 - val_mean_absolute_error: 587.0763\n",
      "Epoch 56/500\n",
      "850/850 [==============================] - 1s 1ms/step - loss: 269889.8812 - mean_absolute_error: 398.9886 - val_loss: 807354.5679 - val_mean_absolute_error: 564.0833\n",
      "Epoch 57/500\n",
      "850/850 [==============================] - 1s 1ms/step - loss: 270326.0433 - mean_absolute_error: 402.6492 - val_loss: 745843.6610 - val_mean_absolute_error: 541.1325\n",
      "Epoch 58/500\n",
      "850/850 [==============================] - 1s 1ms/step - loss: 269071.7056 - mean_absolute_error: 400.9146 - val_loss: 752715.2936 - val_mean_absolute_error: 541.8115\n",
      "Epoch 59/500\n",
      "850/850 [==============================] - 1s 1ms/step - loss: 268825.5598 - mean_absolute_error: 399.3200 - val_loss: 795914.3093 - val_mean_absolute_error: 560.2538\n",
      "Epoch 60/500\n",
      "850/850 [==============================] - 1s 1ms/step - loss: 269790.2447 - mean_absolute_error: 403.1471 - val_loss: 784520.2577 - val_mean_absolute_error: 553.0286\n",
      "Epoch 61/500\n",
      "850/850 [==============================] - 1s 1ms/step - loss: 275307.3521 - mean_absolute_error: 402.5148 - val_loss: 761236.9455 - val_mean_absolute_error: 547.3042\n",
      "Epoch 62/500\n",
      "850/850 [==============================] - 1s 1ms/step - loss: 270227.2240 - mean_absolute_error: 403.1868 - val_loss: 888683.1911 - val_mean_absolute_error: 600.1002\n",
      "Epoch 63/500\n",
      "850/850 [==============================] - 1s 1ms/step - loss: 275155.3478 - mean_absolute_error: 408.3901 - val_loss: 733376.5035 - val_mean_absolute_error: 536.4834\n",
      "Epoch 64/500\n",
      "850/850 [==============================] - 1s 1ms/step - loss: 277118.8108 - mean_absolute_error: 409.3536 - val_loss: 753762.6277 - val_mean_absolute_error: 542.7134\n",
      "Epoch 65/500\n",
      "850/850 [==============================] - 1s 1ms/step - loss: 272200.5447 - mean_absolute_error: 404.6630 - val_loss: 891016.2320 - val_mean_absolute_error: 602.7863\n"
     ]
    }
   ],
   "source": [
    "#5.모델 학습시키기\n",
    "#5.1. Early Stopping\n",
    "callbacks_list = [\n",
    "    EarlyStopping(\n",
    "    monitor='val_loss',\n",
    "    patience=20 ,\n",
    "    ),\n",
    "#     ModelCheckpoint(\n",
    "#     filepath='multi_model.h5',\n",
    "#     monitor='val_loss',\n",
    "#     save_best_only = True,\n",
    "#     )\n",
    "]\n",
    "\n",
    "hist = model.fit(x_train, y_train, epochs=500, batch_size=16, callbacks=callbacks_list, validation_data=(x_val, y_val))"
   ]
  },
  {
   "cell_type": "code",
   "execution_count": 10,
   "metadata": {},
   "outputs": [
    {
     "name": "stdout",
     "output_type": "stream",
     "text": [
      "321/321 [==============================] - 0s 169us/step\n",
      "mean_absolute_error: 406.06\n"
     ]
    }
   ],
   "source": [
    "# 6. 모델 평가하기\n",
    "scores = model.evaluate(x_test, y_test)\n",
    "\n",
    "print(\"%s: %.2f\" %(model.metrics_names[1], scores[1]))"
   ]
  },
  {
   "cell_type": "code",
   "execution_count": 11,
   "metadata": {
    "scrolled": true
   },
   "outputs": [
    {
     "data": {
      "image/png": "[encoded data removed]",
      "text/plain": [
       "<matplotlib.figure.Figure at 0x1e46a68a518>"
      ]
     },
     "metadata": {},
     "output_type": "display_data"
    }
   ],
   "source": [
    "#6.1. epoch, loss 그래프\n",
    "loss = hist.history['loss']\n",
    "val_loss = hist.history['val_loss']\n",
    "\n",
    "\n",
    "epochs = range(1, len(loss)+1)\n",
    "plt.plot(epochs, loss, 'b', label='Training loss')\n",
    "plt.plot(epochs, val_loss, 'g', label='Validation loss')\n",
    "\n",
    "plt.title('Training/Validation loss and accuracy')\n",
    "plt.xlabel('Epochs')\n",
    "plt.ylabel('Loss')\n",
    "plt.legend()\n",
    "plt.show()"
   ]
  },
  {
   "cell_type": "code",
   "execution_count": 12,
   "metadata": {},
   "outputs": [
    {
     "name": "stdout",
     "output_type": "stream",
     "text": [
      "Train Score:  [279760.2397058823, 425.2469745232077]\n",
      "Validataion Score:  [891016.219, 602.7863190917968]\n",
      "Test Score:  [391165.8158055956, 406.0623068170755]\n"
     ]
    }
   ],
   "source": [
    "# 6.2. 모델 평가하기\n",
    "trainScore = model.evaluate(x_train, y_train, verbose=0)\n",
    "model.reset_states()\n",
    "print('Train Score: ', trainScore)\n",
    "valScore = model.evaluate(x_val, y_val, verbose=0)\n",
    "model.reset_states()\n",
    "print('Validataion Score: ', valScore)\n",
    "testScore = model.evaluate(x_test, y_test, verbose=0)\n",
    "model.reset_states()\n",
    "print('Test Score: ', testScore)"
   ]
  },
  {
   "cell_type": "code",
   "execution_count": 13,
   "metadata": {
    "scrolled": true
   },
   "outputs": [
    {
     "data": {
      "image/png": "[encoded data removed]",
      "text/plain": [
       "<matplotlib.figure.Figure at 0x1e46f66ecc0>"
      ]
     },
     "metadata": {},
     "output_type": "display_data"
    }
   ],
   "source": [
    "def show_diff(y_predict, y_label, y_test, y_test_label, y_value):\n",
    "\n",
    "    fig, predict_ax=plt.subplots()\n",
    "\n",
    "    predict_ax.plot(y_predict, 'y', label=y_label)\n",
    "\n",
    "    predict_ax.plot(y_test, 'r', label=y_test_label)\n",
    "\n",
    "    predict_ax.set_ylabel(y_value)\n",
    "\n",
    "    predict_ax.legend(loc = 'upper left')\n",
    "\n",
    "    plt.show()\n",
    "    \n",
    "#7 예측하기\n",
    "\n",
    "y_predict = model.predict(x_test).flatten()\n",
    "\n",
    "show_diff(y_predict, 'y_predict', y_test, 'y_test', 'price')"
   ]
  },
  {
   "cell_type": "code",
   "execution_count": 16,
   "metadata": {
    "collapsed": true
   },
   "outputs": [],
   "source": [
    "# 데이터 저장\n",
    "df = pd.DataFrame(y_predict)\n",
    "df.insert(0,'y_test',y_test_var)\n",
    "df = df.rename(columns = {0: 'y_predict'})\n",
    "df.to_csv('predict_tomatodasen.csv', index=False)"
   ]
  },
  {
   "cell_type": "code",
   "execution_count": 17,
   "metadata": {},
   "outputs": [
    {
     "data": {
      "image/png": "[encoded data removed]",
      "text/plain": [
       "<matplotlib.figure.Figure at 0x1e46f74dba8>"
      ]
     },
     "metadata": {},
     "output_type": "display_data"
    }
   ],
   "source": [
    "\n",
    "test_predictions = y_test\n",
    "\n",
    "plt.scatter(y_predict, y_test)\n",
    "plt.xlabel('Predictions')\n",
    "plt.ylabel('True Values')\n",
    "plt.axis('equal')\n",
    "plt.axis('square')\n",
    "plt.xlim([1000,plt.xlim()[1]])\n",
    "plt.ylim([1000,plt.ylim()[1]])\n",
    "_ = plt.plot([-100000, 100000], [-100000, 100000])\n"
   ]
  },
  {
   "cell_type": "code",
   "execution_count": 18,
   "metadata": {},
   "outputs": [
    {
     "data": {
      "image/png": "[encoded data removed]",
      "text/plain": [
       "<matplotlib.figure.Figure at 0x1e46f77dd30>"
      ]
     },
     "metadata": {},
     "output_type": "display_data"
    }
   ],
   "source": [
    "#오차의 분포\n",
    "error = y_predict - y_test\n",
    "plt.hist(error, bins = 35)\n",
    "plt.xlabel(\"Prediction Error\")\n",
    "_ = plt.ylabel(\"Count\")"
   ]
  },
  {
   "cell_type": "code",
   "execution_count": 19,
   "metadata": {},
   "outputs": [
    {
     "name": "stdout",
     "output_type": "stream",
     "text": [
      "RMSE: 625.43\n"
     ]
    }
   ],
   "source": [
    "rmse = sqrt(mean_squared_error(y_predict,y_test))\n",
    "print(\"RMSE: {:.2f}\".format(rmse))"
   ]
  },
  {
   "cell_type": "code",
   "execution_count": 20,
   "metadata": {},
   "outputs": [
    {
     "name": "stdout",
     "output_type": "stream",
     "text": [
      "STD: 1312.67\n"
     ]
    }
   ],
   "source": [
    "print(\"STD: {:.2f}\".format(std))"
   ]
  },
  {
   "cell_type": "code",
   "execution_count": null,
   "metadata": {
    "collapsed": true
   },
   "outputs": [],
   "source": []
  }
 ],
 "metadata": {
  "kernelspec": {
   "display_name": "Python 3",
   "language": "python",
   "name": "python3"
  },
  "language_info": {
   "codemirror_mode": {
    "name": "ipython",
    "version": 3
   },
   "file_extension": ".py",
   "mimetype": "text/x-python",
   "name": "python",
   "nbconvert_exporter": "python",
   "pygments_lexer": "ipython3",
   "version": "3.6.1"
  }
 },
 "nbformat": 4,
 "nbformat_minor": 2
}
