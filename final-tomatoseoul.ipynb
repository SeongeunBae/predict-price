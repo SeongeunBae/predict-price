{
 "cells": [
  {
   "cell_type": "code",
   "execution_count": 1,
   "metadata": {},
   "outputs": [
    {
     "name": "stderr",
     "output_type": "stream",
     "text": [
      "C:\\ProgramData\\Anaconda3\\lib\\site-packages\\h5py\\__init__.py:34: FutureWarning: Conversion of the second argument of issubdtype from `float` to `np.floating` is deprecated. In future, it will be treated as `np.float64 == np.dtype(float).type`.\n",
      "  from ._conv import register_converters as _register_converters\n",
      "Using TensorFlow backend.\n"
     ]
    }
   ],
   "source": [
    "# 0. 사용할 패키지 불러오기\n",
    "import numpy as np\n",
    "import pandas as pd\n",
    "from keras.models import Sequential\n",
    "from keras.layers import Dense, LSTM, Dropout\n",
    "import matplotlib.pyplot as plt\n",
    "%matplotlib inline\n",
    "from keras.callbacks import EarlyStopping\n",
    "from sklearn.metrics import mean_squared_error\n",
    "\n",
    "from math import sqrt\n",
    "\n",
    "np.random.seed(5)\n",
    "\n",
    "\n",
    "# 1. 데이터셋 생성하기\n",
    "signal_data = pd.read_csv('price_tomato1_S.csv', engine='python', encoding='ms949')\n",
    "data = signal_data.values\n",
    "retail_price = data\n",
    "\n",
    "#std = np.std(df[‘retail_price’].values)\n",
    "\n",
    "#create_ dataset\n",
    "def create_dataset(signal_data, look_back=1):\n",
    "    dataX, dataY = [], []\n",
    "    for i in range(len(signal_data)-look_back):\n",
    "        dataX.append(signal_data[i:(i+look_back), 1:])\n",
    "        dataY.append(signal_data[i + look_back, -1])\n",
    "    return np.array(dataX), np.array(dataY)\n",
    "\n",
    "look_back = 7\n",
    "\n",
    "#2. 데이터셋 분할\n",
    "X, Y = create_dataset(data, look_back)"
   ]
  },
  {
   "cell_type": "code",
   "execution_count": 2,
   "metadata": {},
   "outputs": [
    {
     "data": {
      "text/plain": [
       "array([4300., 4300., 4435., ..., 4900., 5160., 5150.])"
      ]
     },
     "execution_count": 2,
     "metadata": {},
     "output_type": "execute_result"
    }
   ],
   "source": [
    "Y"
   ]
  },
  {
   "cell_type": "code",
   "execution_count": 3,
   "metadata": {},
   "outputs": [
    {
     "data": {
      "text/html": [
       "<div>\n",
       "<style>\n",
       "    .dataframe thead tr:only-child th {\n",
       "        text-align: right;\n",
       "    }\n",
       "\n",
       "    .dataframe thead th {\n",
       "        text-align: left;\n",
       "    }\n",
       "\n",
       "    .dataframe tbody tr th {\n",
       "        vertical-align: top;\n",
       "    }\n",
       "</style>\n",
       "<table border=\"1\" class=\"dataframe\">\n",
       "  <thead>\n",
       "    <tr style=\"text-align: right;\">\n",
       "      <th></th>\n",
       "      <th>count</th>\n",
       "      <th>mean</th>\n",
       "      <th>std</th>\n",
       "      <th>min</th>\n",
       "      <th>25%</th>\n",
       "      <th>50%</th>\n",
       "      <th>75%</th>\n",
       "      <th>max</th>\n",
       "    </tr>\n",
       "  </thead>\n",
       "  <tbody>\n",
       "    <tr>\n",
       "      <th>mean(°C)</th>\n",
       "      <td>1428.0</td>\n",
       "      <td>13.590126</td>\n",
       "      <td>10.888134</td>\n",
       "      <td>-14.8</td>\n",
       "      <td>4.375</td>\n",
       "      <td>15.0</td>\n",
       "      <td>23.00</td>\n",
       "      <td>33.7</td>\n",
       "    </tr>\n",
       "    <tr>\n",
       "      <th>prep(mm)</th>\n",
       "      <td>1428.0</td>\n",
       "      <td>3.065616</td>\n",
       "      <td>11.846932</td>\n",
       "      <td>0.0</td>\n",
       "      <td>0.000</td>\n",
       "      <td>0.0</td>\n",
       "      <td>0.20</td>\n",
       "      <td>144.5</td>\n",
       "    </tr>\n",
       "    <tr>\n",
       "      <th>humidity(%)</th>\n",
       "      <td>1428.0</td>\n",
       "      <td>57.811975</td>\n",
       "      <td>14.807831</td>\n",
       "      <td>21.8</td>\n",
       "      <td>46.800</td>\n",
       "      <td>57.8</td>\n",
       "      <td>67.65</td>\n",
       "      <td>97.0</td>\n",
       "    </tr>\n",
       "    <tr>\n",
       "      <th>in</th>\n",
       "      <td>1428.0</td>\n",
       "      <td>17020.515406</td>\n",
       "      <td>18735.705225</td>\n",
       "      <td>0.0</td>\n",
       "      <td>1318.500</td>\n",
       "      <td>12198.0</td>\n",
       "      <td>25805.25</td>\n",
       "      <td>136936.0</td>\n",
       "    </tr>\n",
       "    <tr>\n",
       "      <th>week(code)</th>\n",
       "      <td>1428.0</td>\n",
       "      <td>0.782913</td>\n",
       "      <td>0.412407</td>\n",
       "      <td>0.0</td>\n",
       "      <td>1.000</td>\n",
       "      <td>1.0</td>\n",
       "      <td>1.00</td>\n",
       "      <td>1.0</td>\n",
       "    </tr>\n",
       "    <tr>\n",
       "      <th>whole_price</th>\n",
       "      <td>1428.0</td>\n",
       "      <td>26810.224090</td>\n",
       "      <td>8658.011133</td>\n",
       "      <td>10000.0</td>\n",
       "      <td>20000.000</td>\n",
       "      <td>26000.0</td>\n",
       "      <td>32250.00</td>\n",
       "      <td>55000.0</td>\n",
       "    </tr>\n",
       "    <tr>\n",
       "      <th>retail_price</th>\n",
       "      <td>1428.0</td>\n",
       "      <td>4339.872549</td>\n",
       "      <td>1317.539493</td>\n",
       "      <td>2259.0</td>\n",
       "      <td>3254.000</td>\n",
       "      <td>4300.0</td>\n",
       "      <td>4943.00</td>\n",
       "      <td>9882.0</td>\n",
       "    </tr>\n",
       "  </tbody>\n",
       "</table>\n",
       "</div>"
      ],
      "text/plain": [
       "               count          mean           std      min        25%      50%  \\\n",
       "mean(°C)      1428.0     13.590126     10.888134    -14.8      4.375     15.0   \n",
       "prep(mm)      1428.0      3.065616     11.846932      0.0      0.000      0.0   \n",
       "humidity(%)   1428.0     57.811975     14.807831     21.8     46.800     57.8   \n",
       "in            1428.0  17020.515406  18735.705225      0.0   1318.500  12198.0   \n",
       "week(code)    1428.0      0.782913      0.412407      0.0      1.000      1.0   \n",
       "whole_price   1428.0  26810.224090   8658.011133  10000.0  20000.000  26000.0   \n",
       "retail_price  1428.0   4339.872549   1317.539493   2259.0   3254.000   4300.0   \n",
       "\n",
       "                   75%       max  \n",
       "mean(°C)         23.00      33.7  \n",
       "prep(mm)          0.20     144.5  \n",
       "humidity(%)      67.65      97.0  \n",
       "in            25805.25  136936.0  \n",
       "week(code)        1.00       1.0  \n",
       "whole_price   32250.00   55000.0  \n",
       "retail_price   4943.00    9882.0  "
      ]
     },
     "execution_count": 3,
     "metadata": {},
     "output_type": "execute_result"
    }
   ],
   "source": [
    "#기술통계\n",
    "train_stats = signal_data.describe()\n",
    "train_stats.pop(\"date\")\n",
    "train_stats = train_stats.transpose()\n",
    "\n",
    "train_stats\n"
   ]
  },
  {
   "cell_type": "code",
   "execution_count": 4,
   "metadata": {},
   "outputs": [
    {
     "name": "stdout",
     "output_type": "stream",
     "text": [
      "[4125. 4125. 4125. ... 4900. 5160. 5150.]\n"
     ]
    }
   ],
   "source": [
    "rtp = retail_price[:,-1]\n",
    "print(rtp)"
   ]
  },
  {
   "cell_type": "code",
   "execution_count": 5,
   "metadata": {},
   "outputs": [
    {
     "name": "stdout",
     "output_type": "stream",
     "text": [
      "1317.0780884363542\n"
     ]
    }
   ],
   "source": [
    "std = np.std(rtp)\n",
    "print(std)"
   ]
  },
  {
   "cell_type": "markdown",
   "metadata": {},
   "source": [
    "### create dataset을 수행한 뒤 데이터 분할"
   ]
  },
  {
   "cell_type": "code",
   "execution_count": 6,
   "metadata": {},
   "outputs": [
    {
     "data": {
      "text/plain": [
       "(1428, 8)"
      ]
     },
     "execution_count": 6,
     "metadata": {},
     "output_type": "execute_result"
    }
   ],
   "source": [
    "signal_data.shape"
   ]
  },
  {
   "cell_type": "code",
   "execution_count": 7,
   "metadata": {
    "collapsed": true
   },
   "outputs": [],
   "source": [
    "# 데이터셋 생성\n",
    "x_train = X[0:850,]\n",
    "y_train = Y[0:850,] \n",
    "\n",
    "x_val = X[850:1100]\n",
    "y_val = Y[850:1100]\n",
    "\n",
    "x_test = X[1100:,]\n",
    "y_test = Y[1100:,]\n",
    "y_test_var = y_test\n"
   ]
  },
  {
   "cell_type": "code",
   "execution_count": 8,
   "metadata": {},
   "outputs": [
    {
     "name": "stdout",
     "output_type": "stream",
     "text": [
      "WARNING:tensorflow:From C:\\ProgramData\\Anaconda3\\lib\\site-packages\\keras\\backend\\tensorflow_backend.py:74: The name tf.get_default_graph is deprecated. Please use tf.compat.v1.get_default_graph instead.\n",
      "\n",
      "WARNING:tensorflow:From C:\\ProgramData\\Anaconda3\\lib\\site-packages\\keras\\backend\\tensorflow_backend.py:517: The name tf.placeholder is deprecated. Please use tf.compat.v1.placeholder instead.\n",
      "\n",
      "WARNING:tensorflow:From C:\\ProgramData\\Anaconda3\\lib\\site-packages\\keras\\backend\\tensorflow_backend.py:4138: The name tf.random_uniform is deprecated. Please use tf.random.uniform instead.\n",
      "\n",
      "WARNING:tensorflow:From C:\\ProgramData\\Anaconda3\\lib\\site-packages\\keras\\optimizers.py:790: The name tf.train.Optimizer is deprecated. Please use tf.compat.v1.train.Optimizer instead.\n",
      "\n"
     ]
    }
   ],
   "source": [
    "# 3. 모델 구성하기\n",
    "model = Sequential()\n",
    "model.add(LSTM(32, input_shape=(7, 7), activation='relu', return_sequences=True))\n",
    "model.add(LSTM(32, activation='relu', return_sequences=True))\n",
    "model.add(LSTM(32, activation='relu', return_sequences=False))\n",
    "#model.add(Dropout(0.3))\n",
    "model.add(Dense(1))\n",
    "\n",
    "\n",
    "#3.1. 모델 아키텍쳐 살펴보기\n",
    "# model.summary()\n",
    "\n",
    "# 4. 모델 학습과정 설정하기\n",
    "model.compile(loss='mse', optimizer='adam', metrics=['mae'])\n",
    "#model.compile(loss='mse', optimizer='adam', metrics=['mse'])"
   ]
  },
  {
   "cell_type": "code",
   "execution_count": 9,
   "metadata": {
    "scrolled": true
   },
   "outputs": [
    {
     "name": "stdout",
     "output_type": "stream",
     "text": [
      "WARNING:tensorflow:From C:\\ProgramData\\Anaconda3\\lib\\site-packages\\tensorflow_core\\python\\ops\\math_grad.py:1424: where (from tensorflow.python.ops.array_ops) is deprecated and will be removed in a future version.\n",
      "Instructions for updating:\n",
      "Use tf.where in 2.0, which has the same broadcast rule as np.where\n",
      "WARNING:tensorflow:From C:\\ProgramData\\Anaconda3\\lib\\site-packages\\keras\\backend\\tensorflow_backend.py:986: The name tf.assign_add is deprecated. Please use tf.compat.v1.assign_add instead.\n",
      "\n",
      "WARNING:tensorflow:From C:\\ProgramData\\Anaconda3\\lib\\site-packages\\keras\\backend\\tensorflow_backend.py:973: The name tf.assign is deprecated. Please use tf.compat.v1.assign instead.\n",
      "\n",
      "WARNING:tensorflow:From C:\\ProgramData\\Anaconda3\\lib\\site-packages\\keras\\backend\\tensorflow_backend.py:2741: The name tf.Session is deprecated. Please use tf.compat.v1.Session instead.\n",
      "\n",
      "Train on 850 samples, validate on 250 samples\n",
      "Epoch 1/500\n",
      "WARNING:tensorflow:From C:\\ProgramData\\Anaconda3\\lib\\site-packages\\keras\\backend\\tensorflow_backend.py:174: The name tf.get_default_session is deprecated. Please use tf.compat.v1.get_default_session instead.\n",
      "\n",
      "WARNING:tensorflow:From C:\\ProgramData\\Anaconda3\\lib\\site-packages\\keras\\backend\\tensorflow_backend.py:181: The name tf.ConfigProto is deprecated. Please use tf.compat.v1.ConfigProto instead.\n",
      "\n",
      "WARNING:tensorflow:From C:\\ProgramData\\Anaconda3\\lib\\site-packages\\keras\\backend\\tensorflow_backend.py:190: The name tf.global_variables is deprecated. Please use tf.compat.v1.global_variables instead.\n",
      "\n",
      "WARNING:tensorflow:From C:\\ProgramData\\Anaconda3\\lib\\site-packages\\keras\\backend\\tensorflow_backend.py:199: The name tf.is_variable_initialized is deprecated. Please use tf.compat.v1.is_variable_initialized instead.\n",
      "\n",
      "WARNING:tensorflow:From C:\\ProgramData\\Anaconda3\\lib\\site-packages\\keras\\backend\\tensorflow_backend.py:206: The name tf.variables_initializer is deprecated. Please use tf.compat.v1.variables_initializer instead.\n",
      "\n",
      "850/850 [==============================] - 4s 5ms/step - loss: 17105293.2753 - mean_absolute_error: 3745.8872 - val_loss: 20242109.5440 - val_mean_absolute_error: 3779.0686\n",
      "Epoch 2/500\n",
      "850/850 [==============================] - 1s 1ms/step - loss: 11776487.4729 - mean_absolute_error: 3017.6929 - val_loss: 15487243.8400 - val_mean_absolute_error: 3178.0078\n",
      "Epoch 3/500\n",
      "850/850 [==============================] - 1s 1ms/step - loss: 8018652.2153 - mean_absolute_error: 2403.3073 - val_loss: 15579497.3600 - val_mean_absolute_error: 3263.2693\n",
      "Epoch 4/500\n",
      "850/850 [==============================] - 1s 1ms/step - loss: 7628852.5835 - mean_absolute_error: 2262.7306 - val_loss: 10563705.5680 - val_mean_absolute_error: 2550.2956\n",
      "Epoch 5/500\n",
      "850/850 [==============================] - 1s 1ms/step - loss: 4594549.5000 - mean_absolute_error: 1646.5600 - val_loss: 6036632.3100 - val_mean_absolute_error: 1844.8206\n",
      "Epoch 6/500\n",
      "850/850 [==============================] - 1s 1ms/step - loss: 3517811.6182 - mean_absolute_error: 1459.8531 - val_loss: 5259468.4360 - val_mean_absolute_error: 1760.0254\n",
      "Epoch 7/500\n",
      "850/850 [==============================] - 1s 1ms/step - loss: 2294972.5486 - mean_absolute_error: 1176.2951 - val_loss: 2879347.1960 - val_mean_absolute_error: 1252.4599\n",
      "Epoch 8/500\n",
      "850/850 [==============================] - 1s 1ms/step - loss: 1765272.6453 - mean_absolute_error: 1038.8317 - val_loss: 2619976.0200 - val_mean_absolute_error: 1211.6529\n",
      "Epoch 9/500\n",
      "850/850 [==============================] - 1s 1ms/step - loss: 1600329.5085 - mean_absolute_error: 968.0677 - val_loss: 2789186.5140 - val_mean_absolute_error: 1294.6179\n",
      "Epoch 10/500\n",
      "850/850 [==============================] - 1s 1ms/step - loss: 1366877.2926 - mean_absolute_error: 921.2975 - val_loss: 2181720.2530 - val_mean_absolute_error: 1111.8213\n",
      "Epoch 11/500\n",
      "850/850 [==============================] - 1s 2ms/step - loss: 1903200.5357 - mean_absolute_error: 1052.3118 - val_loss: 1451156.4170 - val_mean_absolute_error: 911.9864\n",
      "Epoch 12/500\n",
      "850/850 [==============================] - 1s 1ms/step - loss: 2385519.6324 - mean_absolute_error: 1082.5001 - val_loss: 2517671.6120 - val_mean_absolute_error: 1085.7475\n",
      "Epoch 13/500\n",
      "850/850 [==============================] - 1s 1ms/step - loss: 1071880.6444 - mean_absolute_error: 803.0916 - val_loss: 1477171.3730 - val_mean_absolute_error: 930.7740\n",
      "Epoch 14/500\n",
      "850/850 [==============================] - 1s 1ms/step - loss: 1512377.1159 - mean_absolute_error: 959.4181 - val_loss: 2443621.1740 - val_mean_absolute_error: 1178.9378\n",
      "Epoch 15/500\n",
      "850/850 [==============================] - 1s 1ms/step - loss: 1538882.4776 - mean_absolute_error: 1004.8398 - val_loss: 1641459.0680 - val_mean_absolute_error: 1036.1201\n",
      "Epoch 16/500\n",
      "850/850 [==============================] - 1s 1ms/step - loss: 1410239.6665 - mean_absolute_error: 952.8146 - val_loss: 2154071.2020 - val_mean_absolute_error: 1123.6599\n",
      "Epoch 17/500\n",
      "850/850 [==============================] - 1s 1ms/step - loss: 2295999.0271 - mean_absolute_error: 1253.9039 - val_loss: 1659251.4540 - val_mean_absolute_error: 1053.9866\n",
      "Epoch 18/500\n",
      "850/850 [==============================] - 1s 1ms/step - loss: 2008036.9800 - mean_absolute_error: 1139.2382 - val_loss: 1517596.3605 - val_mean_absolute_error: 972.1935\n",
      "Epoch 19/500\n",
      "850/850 [==============================] - 1s 1ms/step - loss: 1704781.0749 - mean_absolute_error: 1040.4719 - val_loss: 1271174.6478 - val_mean_absolute_error: 879.0186\n",
      "Epoch 20/500\n",
      "850/850 [==============================] - 1s 1ms/step - loss: 1385551.1620 - mean_absolute_error: 934.5224 - val_loss: 1531577.8655 - val_mean_absolute_error: 966.0689\n",
      "Epoch 21/500\n",
      "850/850 [==============================] - 1s 1ms/step - loss: 1376147.9175 - mean_absolute_error: 893.2504 - val_loss: 770401.4365 - val_mean_absolute_error: 693.8209\n",
      "Epoch 22/500\n",
      "850/850 [==============================] - 1s 1ms/step - loss: 1022446.7394 - mean_absolute_error: 797.3473 - val_loss: 914313.6750 - val_mean_absolute_error: 726.7679\n",
      "Epoch 23/500\n",
      "850/850 [==============================] - 1s 1ms/step - loss: 1075382.5626 - mean_absolute_error: 808.4423 - val_loss: 1125569.9645 - val_mean_absolute_error: 779.3309\n",
      "Epoch 24/500\n",
      "850/850 [==============================] - 1s 1ms/step - loss: 997566.5088 - mean_absolute_error: 761.0920 - val_loss: 1082910.0215 - val_mean_absolute_error: 774.7309\n",
      "Epoch 25/500\n",
      "850/850 [==============================] - 1s 1ms/step - loss: 777029.5026 - mean_absolute_error: 669.8908 - val_loss: 978603.5155 - val_mean_absolute_error: 709.0216\n",
      "Epoch 26/500\n",
      "850/850 [==============================] - 1s 1ms/step - loss: 730444.2844 - mean_absolute_error: 652.4606 - val_loss: 857474.1490 - val_mean_absolute_error: 679.3823\n",
      "Epoch 27/500\n",
      "850/850 [==============================] - 1s 1ms/step - loss: 662616.7394 - mean_absolute_error: 633.7260 - val_loss: 933990.9365 - val_mean_absolute_error: 713.7743\n",
      "Epoch 28/500\n",
      "850/850 [==============================] - 1s 1ms/step - loss: 723263.6223 - mean_absolute_error: 643.5600 - val_loss: 982581.5635 - val_mean_absolute_error: 735.8356\n",
      "Epoch 29/500\n",
      "850/850 [==============================] - 1s 1ms/step - loss: 746451.1931 - mean_absolute_error: 684.5065 - val_loss: 1436338.3960 - val_mean_absolute_error: 923.7272\n",
      "Epoch 30/500\n",
      "850/850 [==============================] - 1s 1ms/step - loss: 879446.0953 - mean_absolute_error: 716.8884 - val_loss: 973510.3625 - val_mean_absolute_error: 717.8079\n",
      "Epoch 31/500\n",
      "850/850 [==============================] - 1s 1ms/step - loss: 846932.4294 - mean_absolute_error: 718.1733 - val_loss: 1312692.6710 - val_mean_absolute_error: 868.4235\n",
      "Epoch 32/500\n",
      "850/850 [==============================] - 1s 1ms/step - loss: 1111892.6735 - mean_absolute_error: 830.1675 - val_loss: 1335537.6113 - val_mean_absolute_error: 855.8253\n",
      "Epoch 33/500\n",
      "850/850 [==============================] - 1s 1ms/step - loss: 820535.4915 - mean_absolute_error: 698.3567 - val_loss: 923650.3827 - val_mean_absolute_error: 725.5312\n",
      "Epoch 34/500\n",
      "850/850 [==============================] - 1s 1ms/step - loss: 787366.5841 - mean_absolute_error: 687.6761 - val_loss: 1018800.0555 - val_mean_absolute_error: 769.3889\n",
      "Epoch 35/500\n",
      "850/850 [==============================] - 1s 1ms/step - loss: 696315.1694 - mean_absolute_error: 638.7177 - val_loss: 811225.9805 - val_mean_absolute_error: 682.9436\n",
      "Epoch 36/500\n",
      "850/850 [==============================] - 1s 1ms/step - loss: 577758.9661 - mean_absolute_error: 603.0214 - val_loss: 789053.1203 - val_mean_absolute_error: 683.9671\n",
      "Epoch 37/500\n",
      "850/850 [==============================] - 1s 1ms/step - loss: 586088.1215 - mean_absolute_error: 598.6993 - val_loss: 845881.9002 - val_mean_absolute_error: 712.7796\n",
      "Epoch 38/500\n",
      "850/850 [==============================] - 1s 1ms/step - loss: 660766.3735 - mean_absolute_error: 624.2535 - val_loss: 1129500.2330 - val_mean_absolute_error: 826.8336\n",
      "Epoch 39/500\n",
      "850/850 [==============================] - 1s 1ms/step - loss: 602667.2086 - mean_absolute_error: 590.3780 - val_loss: 839623.2056 - val_mean_absolute_error: 695.6015\n",
      "Epoch 40/500\n",
      "850/850 [==============================] - 1s 1ms/step - loss: 618873.6406 - mean_absolute_error: 600.4793 - val_loss: 775079.7215 - val_mean_absolute_error: 679.6645\n",
      "Epoch 41/500\n",
      "850/850 [==============================] - 1s 1ms/step - loss: 593321.0681 - mean_absolute_error: 586.4930 - val_loss: 778706.4537 - val_mean_absolute_error: 679.9086\n"
     ]
    }
   ],
   "source": [
    "#5.모델 학습시키기\n",
    "#5.1. Early Stopping\n",
    "callbacks_list = [\n",
    "    EarlyStopping(\n",
    "    monitor='val_loss',\n",
    "    patience=20 ,\n",
    "    ),\n",
    "#     ModelCheckpoint(\n",
    "#     filepath='multi_model.h5',\n",
    "#     monitor='val_loss',\n",
    "#     save_best_only = True,\n",
    "#     )\n",
    "]\n",
    "\n",
    "hist = model.fit(x_train, y_train, epochs=500, batch_size=16, callbacks=callbacks_list, validation_data=(x_val, y_val))"
   ]
  },
  {
   "cell_type": "code",
   "execution_count": 10,
   "metadata": {},
   "outputs": [
    {
     "name": "stdout",
     "output_type": "stream",
     "text": [
      "321/321 [==============================] - 0s 180us/step\n",
      "mean_absolute_error: 602.86\n"
     ]
    }
   ],
   "source": [
    "# 6. 모델 평가하기\n",
    "scores = model.evaluate(x_test, y_test)\n",
    "\n",
    "print(\"%s: %.2f\" %(model.metrics_names[1], scores[1]))"
   ]
  },
  {
   "cell_type": "code",
   "execution_count": 11,
   "metadata": {
    "scrolled": true
   },
   "outputs": [
    {
     "data": {
      "image/png": "[encoded data removed]",
      "text/plain": [
       "<matplotlib.figure.Figure at 0x22e97a2c3c8>"
      ]
     },
     "metadata": {},
     "output_type": "display_data"
    }
   ],
   "source": [
    "#6.1. epoch, loss 그래프\n",
    "loss = hist.history['loss']\n",
    "val_loss = hist.history['val_loss']\n",
    "\n",
    "\n",
    "epochs = range(1, len(loss)+1)\n",
    "plt.plot(epochs, loss, 'b', label='Training loss')\n",
    "plt.plot(epochs, val_loss, 'g', label='Validation loss')\n",
    "\n",
    "plt.title('Training/Validation loss and accuracy')\n",
    "plt.xlabel('Epochs')\n",
    "plt.ylabel('Loss')\n",
    "plt.legend()\n",
    "plt.show()"
   ]
  },
  {
   "cell_type": "code",
   "execution_count": 12,
   "metadata": {},
   "outputs": [
    {
     "name": "stdout",
     "output_type": "stream",
     "text": [
      "Train Score:  [557817.5601470588, 563.0589803538603]\n",
      "Validataion Score:  [778706.47375, 679.9086362304688]\n",
      "Test Score:  [588184.6553251557, 602.8570142133956]\n"
     ]
    }
   ],
   "source": [
    "# 6.2. 모델 평가하기\n",
    "trainScore = model.evaluate(x_train, y_train, verbose=0)\n",
    "model.reset_states()\n",
    "print('Train Score: ', trainScore)\n",
    "valScore = model.evaluate(x_val, y_val, verbose=0)\n",
    "model.reset_states()\n",
    "print('Validataion Score: ', valScore)\n",
    "testScore = model.evaluate(x_test, y_test, verbose=0)\n",
    "model.reset_states()\n",
    "print('Test Score: ', testScore)"
   ]
  },
  {
   "cell_type": "code",
   "execution_count": 13,
   "metadata": {},
   "outputs": [
    {
     "data": {
      "image/png": "[encoded data removed]",
      "text/plain": [
       "<matplotlib.figure.Figure at 0x22e9ba7e6a0>"
      ]
     },
     "metadata": {},
     "output_type": "display_data"
    }
   ],
   "source": [
    "def show_diff(y_predict, y_label, y_test, y_test_label, y_value):\n",
    "\n",
    "    fig, predict_ax=plt.subplots()\n",
    "\n",
    "    predict_ax.plot(y_predict, 'y', label=y_label)\n",
    "\n",
    "    predict_ax.plot(y_test, 'r', label=y_test_label)\n",
    "\n",
    "    predict_ax.set_ylabel(y_value)\n",
    "\n",
    "    predict_ax.legend(loc = 'upper left')\n",
    "\n",
    "    plt.show()\n",
    "    \n",
    "#7 예측하기\n",
    "\n",
    "y_predict = model.predict(x_test).flatten()\n",
    "\n",
    "show_diff(y_predict, 'y_predict', y_test, 'y_test', 'price')"
   ]
  },
  {
   "cell_type": "code",
   "execution_count": 15,
   "metadata": {
    "collapsed": true
   },
   "outputs": [],
   "source": [
    "# 데이터 저장\n",
    "df = pd.DataFrame(y_predict)\n",
    "df.insert(0,'y_test',y_test_var)\n",
    "df = df.rename(columns = {0: 'y_predict'})\n",
    "df.to_csv('predict_tomato2.csv', index=False)"
   ]
  },
  {
   "cell_type": "code",
   "execution_count": 21,
   "metadata": {},
   "outputs": [
    {
     "data": {
      "image/png": "[encoded data removed]",
      "text/plain": [
       "<matplotlib.figure.Figure at 0x22e9b9eada0>"
      ]
     },
     "metadata": {},
     "output_type": "display_data"
    }
   ],
   "source": [
    "\n",
    "# test_predictions = y_test\n",
    "\n",
    "# plt.scatter(y_test, y_predict)\n",
    "# plt.xlabel('True Values')\n",
    "# plt.ylabel('Predictions')\n",
    "# plt.axis('equal')\n",
    "# plt.axis('square')\n",
    "# plt.xlim([1000,plt.xlim()[1]])\n",
    "# plt.ylim([1000,plt.ylim()[1]])\n",
    "# _ = plt.plot([-100000, 100000], [-100000, 100000])\n",
    "\n",
    "test_predictions = y_test\n",
    "\n",
    "plt.scatter(y_predict, y_test)\n",
    "plt.xlabel('Predictions')\n",
    "plt.ylabel('True Values')\n",
    "plt.axis('equal')\n",
    "plt.axis('square')\n",
    "plt.xlim([100,plt.xlim()[1]])\n",
    "plt.ylim([100,plt.ylim()[1]])\n",
    "_ = plt.plot([-10000, 10000], [-10000, 10000])\n"
   ]
  },
  {
   "cell_type": "code",
   "execution_count": 17,
   "metadata": {},
   "outputs": [
    {
     "data": {
      "image/png": "[encoded data removed]",
      "text/plain": [
       "<matplotlib.figure.Figure at 0x22e97a14f98>"
      ]
     },
     "metadata": {},
     "output_type": "display_data"
    }
   ],
   "source": [
    "#오차의 분포\n",
    "error = y_predict - y_test\n",
    "plt.hist(error, bins = 35)\n",
    "plt.xlabel(\"Prediction Error\")\n",
    "_ = plt.ylabel(\"Count\")"
   ]
  },
  {
   "cell_type": "code",
   "execution_count": 18,
   "metadata": {},
   "outputs": [
    {
     "name": "stdout",
     "output_type": "stream",
     "text": [
      "RMSE: 766.93\n"
     ]
    }
   ],
   "source": [
    "rmse = sqrt(mean_squared_error(y_predict,y_test))\n",
    "print(\"RMSE: {:.2f}\".format(rmse))"
   ]
  },
  {
   "cell_type": "code",
   "execution_count": 19,
   "metadata": {},
   "outputs": [
    {
     "name": "stdout",
     "output_type": "stream",
     "text": [
      "STD: 1317.08\n"
     ]
    }
   ],
   "source": [
    "print(\"STD: {:.2f}\".format(std))"
   ]
  },
  {
   "cell_type": "code",
   "execution_count": null,
   "metadata": {
    "collapsed": true
   },
   "outputs": [],
   "source": []
  }
 ],
 "metadata": {
  "kernelspec": {
   "display_name": "Python 3",
   "language": "python",
   "name": "python3"
  },
  "language_info": {
   "codemirror_mode": {
    "name": "ipython",
    "version": 3
   },
   "file_extension": ".py",
   "mimetype": "text/x-python",
   "name": "python",
   "nbconvert_exporter": "python",
   "pygments_lexer": "ipython3",
   "version": "3.6.1"
  }
 },
 "nbformat": 4,
 "nbformat_minor": 2
}
